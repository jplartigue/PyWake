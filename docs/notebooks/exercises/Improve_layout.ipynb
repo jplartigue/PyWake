{
 "cells": [
  {
   "cell_type": "markdown",
   "metadata": {},
   "source": [
    "# Experiment: Improve Hornsrev1 Layout"
   ]
  },
  {
   "cell_type": "markdown",
   "metadata": {},
   "source": [
    "In this exercise, you can investigate how changing the turbine positions inside the Hornsrev1 wind farm influences its AEP."
   ]
  },
  {
   "cell_type": "markdown",
   "metadata": {},
   "source": [
    "**Install PyWake if needed**"
   ]
  },
  {
   "cell_type": "code",
   "execution_count": null,
   "metadata": {},
   "source": [
    "# Install PyWake if needed\n",
    "try:\n",
    "    import py_wake\n",
    "except ModuleNotFoundError:\n",
    "    !pip install git+https://gitlab.windenergy.dtu.dk/TOPFARM/PyWake.git"
   ],
   "outputs": []
  },
  {
   "cell_type": "markdown",
   "metadata": {},
   "source": [
    "**First we import basic Python elements**"
   ]
  },
  {
   "cell_type": "code",
   "execution_count": 1,
   "metadata": {},
   "source": [
    "import numpy as np\n",
    "import matplotlib.pyplot as plt"
   ],
   "outputs": []
  },
  {
   "cell_type": "markdown",
   "metadata": {},
   "source": [
    "**Import and instantiate relevant PyWake objects**\n",
    "\n",
    "We operate with four fundamental objects in PyWake, namely `Site`, `WindTurbines` and `WindFarmModel`, as explained in the [Overview](https://topfarm.pages.windenergy.dtu.dk/PyWake/notebooks/Overview.html) section."
   ]
  },
  {
   "cell_type": "code",
   "execution_count": 2,
   "metadata": {},
   "source": [
    "#importing the properties of Hornsrev1, which are already stored in PyWake\n",
    "from py_wake.examples.data.hornsrev1 import V80\n",
    "from py_wake.examples.data.hornsrev1 import Hornsrev1Site\n",
    "from py_wake.examples.data.hornsrev1 import wt_x, wt_y\n",
    "\n",
    "# BastankhahGaussian combines the engineering wind farm model, `PropagateDownwind` with\n",
    "# the `BastankhahGaussianDeficit` wake deficit model and the `SquaredSum` super position model\n",
    "from py_wake.literature.gaussian_models import Bastankhah_PorteAgel_2014\n",
    "\n",
    "# After we import the objects we instatiate them:\n",
    "site = Hornsrev1Site()\n",
    "wt = V80()\n",
    "windFarmModel = Bastankhah_PorteAgel_2014(site, wt, k=0.0324555)"
   ],
   "outputs": []
  },
  {
   "cell_type": "markdown",
   "metadata": {},
   "source": [
    "#### The `Site` object\n",
    "\n",
    "There are multiple functionalities available from the [Site](https://topfarm.pages.windenergy.dtu.dk/PyWake/notebooks/Site.html) object as well as wind conditions, probability and geometry of the wind farm. We can e.g. plot the wind rose with a specific number of bins by using the plot_wd_distribution function:"
   ]
  },
  {
   "cell_type": "code",
   "execution_count": 3,
   "metadata": {},
   "source": [
    "site.plot_wd_distribution(n_wd=12);"
   ],
   "outputs": []
  },
  {
   "cell_type": "markdown",
   "metadata": {},
   "source": [
    "#### The `WindTurbine` object\n",
    "\n",
    "The [Wind turbine](https://topfarm.pages.windenergy.dtu.dk/PyWake/notebooks/WindTurbines.html) object contains relevant information about the turbine used as well as supplying usefull functions. It holds information about the power curve, ct-curve, hub height and diameter and has a plotting function to visualize the layout of the turbines."
   ]
  },
  {
   "cell_type": "code",
   "execution_count": 4,
   "metadata": {},
   "source": [
    "# Original layout\n",
    "plt.figure()\n",
    "wt.plot(wt_x, wt_y)\n",
    "plt.xlabel('x [m]')\n",
    "plt.ylabel('y [m]')"
   ],
   "outputs": []
  },
  {
   "cell_type": "markdown",
   "metadata": {},
   "source": [
    "#### AEP Calculation"
   ]
  },
  {
   "cell_type": "code",
   "execution_count": 5,
   "metadata": {},
   "source": [
    "# Original AEP\n",
    "aep_ref = windFarmModel(wt_x,wt_y).aep().sum()\n",
    "print ('Original AEP: %f GWh'%aep_ref)"
   ],
   "outputs": []
  },
  {
   "cell_type": "markdown",
   "metadata": {},
   "source": [
    "### Exercise: Improve the AEP by modifying turbine locations.\n",
    "\n",
    "Modify the x and y offsets for the rows and columns to increase the AEP.\n",
    "\n",
    "Note, the turbines positions are limited by a rectangle surrounding the existing layout."
   ]
  },
  {
   "cell_type": "code",
   "execution_count": 6,
   "metadata": {},
   "source": [
    "# Here we define a function to print and plot your new layout. No need to change anything here\n",
    "def add_offset_plot_and_print(row_offset_x, row_offset_y, col_offset_x, col_offset_y):\n",
    "    x,y = wt_x, wt_y\n",
    "    y = np.reshape(y,(10,8)).astype(float)\n",
    "    x = np.reshape(x,(10,8)).astype(float)\n",
    "\n",
    "    x+= np.array(row_offset_x)\n",
    "    y+= np.array(row_offset_y)\n",
    "    x+= np.array(col_offset_x)[:,np.newaxis]\n",
    "    y+= np.array(col_offset_y)[:,np.newaxis]\n",
    "    y = np.maximum(min(wt_y), np.minimum(max(wt_y), y.flatten()))\n",
    "    x = np.maximum(min(wt_x), np.minimum(max(wt_x), x.flatten()))\n",
    "\n",
    "    plt.plot()\n",
    "    plt.plot(wt_x, wt_y,'b.')\n",
    "    wt.plot(x, y)\n",
    "    aep = windFarmModel(x,y).aep().sum()\n",
    "    print (\"AEP ref\", aep_ref.values)\n",
    "    print (\"AEP\", aep.values)\n",
    "    print (\"Increase: %f %%\"%((aep-aep_ref)/aep_ref*100))"
   ],
   "outputs": []
  },
  {
   "cell_type": "markdown",
   "metadata": {},
   "source": [
    "**Now try to modify the row and column offsets and see if you can improve the AEP**"
   ]
  },
  {
   "cell_type": "code",
   "execution_count": 7,
   "metadata": {},
   "source": [
    "# =======================================\n",
    "# Specify offsets\n",
    "# =======================================\n",
    "\n",
    "row_offset_x = np.linspace(0,1,8)* -500\n",
    "row_offset_y = np.linspace(0,1,8) * 0\n",
    "\n",
    "col_offset_x = np.linspace(0,1,10) * 0\n",
    "col_offset_y = np.linspace(0,1,10) * 0\n",
    "\n",
    "add_offset_plot_and_print(row_offset_x, row_offset_y, col_offset_x, col_offset_y)"
   ],
   "outputs": []
  }
 ],
 "metadata": {
  "kernelspec": {
   "display_name": "Python 3 (ipykernel)",
   "language": "python",
   "name": "python3"
  },
  "language_info": {
   "codemirror_mode": {
    "name": "ipython",
    "version": 3
   },
   "file_extension": ".py",
   "mimetype": "text/x-python",
   "name": "python",
   "nbconvert_exporter": "python",
   "pygments_lexer": "ipython3",
   "version": "3.9.13"
  },
  "toc": {
   "base_numbering": 1,
   "nav_menu": {},
   "number_sections": true,
   "sideBar": true,
   "skip_h1_title": false,
   "title_cell": "Table of Contents",
   "title_sidebar": "Contents",
   "toc_cell": false,
   "toc_position": {},
   "toc_section_display": true,
   "toc_window_display": true
  }
 },
 "nbformat": 4,
 "nbformat_minor": 4
}

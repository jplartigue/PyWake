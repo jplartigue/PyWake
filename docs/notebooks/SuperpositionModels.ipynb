{
 "cells": [
  {
   "cell_type": "markdown",
   "id": "b716f0a5",
   "metadata": {},
   "source": [
    "# Superposition Models"
   ]
  },
  {
   "cell_type": "markdown",
   "id": "c676dad3",
   "metadata": {},
   "source": [
    "The superposition models calculate the effective wind speed given the local wind speed and deficits (typically from multiple sources). In PyWake, the effective wind speed is representative of the wind speed perceived by the $ith$ turbine's rotor on the wind farm ($u_0^i$), as it is usually mentioned in the literature.\n",
    "\n",
    "There are four different superposition models in PyWake:\n",
    "\n",
    "- [LinearSum](#LinearSum): Deficits sum up linearly.\n",
    "- [SquaredSum](#SquaredSum): Deficits sum as root-sum-square.\n",
    "- [MaxSum](#MaxSum): Only the largest deficit is considered.\n",
    "- [SqrMaxSum](#SqrMaxSum): The root-sum-square of the local turbulence intensity and the maximum value of the added turbulence caused by the source turbine is considered.\n",
    "- [WeightedSum](#WeightedSum): A weighted sum of the invidiual wake velocity deficits is performed to obtain the total deficit. The ratio between the mean convection velocity and the convection velocity of the combined wake is used to determine the weights. This superposition model is capable of conserving momentum in the streamwise direction."
   ]
  },
  {
   "cell_type": "markdown",
   "id": "d12ff9fd",
   "metadata": {},
   "source": [
    "**Install PyWake if needed**"
   ]
  },
  {
   "cell_type": "code",
   "execution_count": 1,
   "id": "1096ed58",
   "metadata": {},
   "source": [
    "# Install PyWake if needed\n",
    "try:\n",
    "    import py_wake\n",
    "except ModuleNotFoundError:\n",
    "    !pip install git+https://gitlab.windenergy.dtu.dk/TOPFARM/PyWake.git"
   ],
   "outputs": []
  },
  {
   "cell_type": "code",
   "execution_count": 2,
   "id": "de2fb3e1",
   "metadata": {},
   "source": [
    "import numpy as np\n",
    "import matplotlib.pyplot as plt\n",
    "\n",
    "from py_wake.literature.gaussian_models import Bastankhah_PorteAgel_2014\n",
    "from py_wake.literature.gaussian_models import Zong_PorteAgel_2020\n",
    "from py_wake.turbulence_models import CrespoHernandez\n",
    "from py_wake.examples.data.hornsrev1 import V80, Hornsrev1Site\n",
    "\n",
    "site = Hornsrev1Site()\n",
    "windTurbines = V80()"
   ],
   "outputs": []
  },
  {
   "cell_type": "markdown",
   "id": "6e206237",
   "metadata": {},
   "source": [
    "### LinearSum\n",
    "\n",
    "In general, LinearSum should be used in combination with `use_effective_ws=True` which makes downstream wind turbines feel the effective wind speed (including wake effects from upstream turbines) instead of the ambient free-stream wind speed. Otherwise negative wind speeds may occur."
   ]
  },
  {
   "cell_type": "code",
   "execution_count": 3,
   "id": "8ee11752",
   "metadata": {},
   "source": [
    "from py_wake.superposition_models import LinearSum\n",
    "\n",
    "linear_sum = Bastankhah_PorteAgel_2014(site, windTurbines, k=0.0324555, superpositionModel=LinearSum(), use_effective_ws=True)\n",
    "plt.figure(figsize=(10,4))\n",
    "linear_sum([0,200],[0,0],wd=270,ws=10).flow_map().plot_wake_map(levels=np.arange(0,10))\n",
    "plt.xlabel('x [m]')\n",
    "plt.ylabel('y [m]')"
   ],
   "outputs": []
  },
  {
   "cell_type": "markdown",
   "id": "81e7074b",
   "metadata": {},
   "source": [
    "### SquaredSum\n",
    "\n",
    "The SquaredSum model is often used in combination with wake deficit models where the downstream wakes are scaled with the ambient free-stream velocity to avoid negative wind speeds. It is, however, a method to compensate for an inconsistent formulation, see section 2.2 in https://backend.orbit.dtu.dk/ws/portalfiles/portal/151671395/Park2_Documentation_and_Validation.pdf"
   ]
  },
  {
   "cell_type": "code",
   "execution_count": 4,
   "id": "606bb041",
   "metadata": {},
   "source": [
    "from py_wake.superposition_models import SquaredSum\n",
    "\n",
    "squared_sum = Bastankhah_PorteAgel_2014(site, windTurbines, k=0.0324555, superpositionModel=SquaredSum())\n",
    "plt.figure(figsize=(10,4))\n",
    "squared_sum([0,200],[0,0],wd=270,ws=10).flow_map().plot_wake_map(levels=np.arange(0,10))\n",
    "plt.xlabel('x [m]')\n",
    "plt.ylabel('y [m]')"
   ],
   "outputs": []
  },
  {
   "cell_type": "markdown",
   "id": "f5f339bf",
   "metadata": {},
   "source": [
    "### MaxSum"
   ]
  },
  {
   "cell_type": "code",
   "execution_count": 5,
   "id": "827b57ef",
   "metadata": {},
   "source": [
    "from py_wake.superposition_models import MaxSum\n",
    "\n",
    "max_sum = Bastankhah_PorteAgel_2014(site, windTurbines, k=0.0324555, superpositionModel=MaxSum())\n",
    "plt.figure(figsize=(10,4))\n",
    "max_sum([0,200],[0,0],wd=270,ws=10).flow_map().plot_wake_map(levels=np.arange(0,10))\n",
    "plt.xlabel('x [m]')\n",
    "plt.ylabel('y [m]')"
   ],
   "outputs": []
  },
  {
   "cell_type": "markdown",
   "id": "202c91a5",
   "metadata": {},
   "source": [
    "### SqrMaxSum"
   ]
  },
  {
   "cell_type": "code",
   "execution_count": 6,
   "id": "2a3e5db4",
   "metadata": {},
   "source": [
    "from py_wake.superposition_models import SqrMaxSum\n",
    "\n",
    "max_sum = Bastankhah_PorteAgel_2014(site, windTurbines, k=0.0324555, superpositionModel=MaxSum())\n",
    "plt.figure(figsize=(10,4))\n",
    "max_sum([0,200],[0,0],wd=270,ws=10).flow_map().plot_wake_map(levels=np.arange(0,10))\n",
    "plt.xlabel('x [m]')\n",
    "plt.ylabel('y [m]')"
   ],
   "outputs": []
  },
  {
   "cell_type": "markdown",
   "id": "ce7ddf93",
   "metadata": {},
   "source": [
    "### WeightedSum"
   ]
  },
  {
   "cell_type": "code",
   "execution_count": 7,
   "id": "7b9db281",
   "metadata": {},
   "source": [
    "from py_wake.superposition_models import WeightedSum\n",
    "\n",
    "weighted_sum = Zong_PorteAgel_2020(site, windTurbines, use_effective_ws=True)\n",
    "\n",
    "plt.figure(figsize=(10,4))\n",
    "weighted_sum([0,200],[0,0],wd=270,ws=10).flow_map().plot_wake_map(levels=np.arange(0,10))\n",
    "plt.xlabel('x [m]')\n",
    "plt.ylabel('y [m]')"
   ],
   "outputs": []
  }
 ],
 "metadata": {
  "kernelspec": {
   "display_name": "Python 3 (ipykernel)",
   "language": "python",
   "name": "python3"
  },
  "language_info": {
   "codemirror_mode": {
    "name": "ipython",
    "version": 3
   },
   "file_extension": ".py",
   "mimetype": "text/x-python",
   "name": "python",
   "nbconvert_exporter": "python",
   "pygments_lexer": "ipython3",
   "version": "3.9.13"
  }
 },
 "nbformat": 4,
 "nbformat_minor": 5
}

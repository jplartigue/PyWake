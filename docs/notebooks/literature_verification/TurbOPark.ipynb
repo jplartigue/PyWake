{
 "cells": [
  {
   "cell_type": "markdown",
   "id": "e725021a",
   "metadata": {},
   "source": [
    "# Ørsted TurbOPark\n",
    "\n",
    "This notebook reproduces the results and figures of the two examples provided by Ørsted in   https://github.com/OrstedRD/TurbOPark/blob/main/TurbOParkExamples.mlx\n",
    "\n",
    "The PyWake look-up table used for the GaussianOverlap model is slightly different from look-up table used by Ørsted (which has a finer grid resolution). The results are therefore slightly different (relative error < 1e-5)."
   ]
  },
  {
   "cell_type": "markdown",
   "id": "377f4328",
   "metadata": {},
   "source": [
    "**Install PyWake if needed**"
   ]
  },
  {
   "cell_type": "code",
   "execution_count": 1,
   "id": "adc58090",
   "metadata": {},
   "source": [
    "# Install PyWake if needed\n",
    "try:\n",
    "    import py_wake\n",
    "except ModuleNotFoundError:\n",
    "    !pip install git+https://gitlab.windenergy.dtu.dk/TOPFARM/PyWake.git"
   ],
   "outputs": []
  },
  {
   "cell_type": "markdown",
   "id": "affd5349",
   "metadata": {},
   "source": [
    "**Setting up the wind turbine and site objects**"
   ]
  },
  {
   "cell_type": "code",
   "execution_count": 2,
   "id": "c700b795",
   "metadata": {},
   "source": [
    "import numpy as np\n",
    "import matplotlib.pyplot as plt\n",
    "\n",
    "from py_wake.wind_turbines._wind_turbines import WindTurbine, WindTurbines\n",
    "from py_wake.wind_turbines.power_ct_functions import PowerCtTabular\n",
    "from py_wake.site._site import UniformSite\n",
    "from py_wake.site.shear import PowerShear\n",
    "from py_wake.utils.plotting import setup_plot"
   ],
   "outputs": []
  },
  {
   "cell_type": "markdown",
   "id": "a8139413",
   "metadata": {},
   "source": [
    "**Specifying the wind speed and power and CT curve**"
   ]
  },
  {
   "cell_type": "code",
   "execution_count": 3,
   "id": "277a7e17",
   "metadata": {},
   "source": [
    "u = np.arange(0, 25.5, .5)\n",
    "po = [0, 0, 0, 0, 5, 15, 37, 73, 122, 183, 259, 357, 477, 622, 791, 988, 1212, 1469, 1755, 2009, 2176, 2298, 2388, 2447, 2485, 2500, 2500, 2500,\n",
    "      2500, 2500, 2500, 2500, 2500, 2500, 2500, 2500, 2500, 2500, 2500, 2500, 2500, 2500, 2500, 2500,\n",
    "      2500, 2500, 2500, 2500, 2500, 2500, 2500, 0]\n",
    "ct = [0, 0, 0, 0, 0.78, 0.77, 0.78, 0.78, 0.77, 0.77, 0.78, 0.78, 0.78, 0.78, 0.78, 0.78, 0.77, 0.77, 0.77, 0.76, 0.73, 0.7, 0.68, 0.52, 0.42,\n",
    "      0.36, 0.31, 0.27, 0.24, 0.22, 0.19, 0.18, 0.16, 0.14, 0.13, 0.12, 0.11, 0.1, 0.09, 0.08, 0.08, 0.08, 0.07, 0.07, 0.06, 0.06, 0.06,\n",
    "      0.05, 0.05, 0.05, 0.04, 0]\n",
    "\n",
    "wt1 = WindTurbine(name=\"Ørsted1\", diameter=120, hub_height=100, powerCtFunction=PowerCtTabular(u, po, 'kw', ct))\n",
    "\n",
    "u2 = np.arange(0, 27)\n",
    "pow2 = [0, 0, 0, 0, 54, 144, 289, 474, 730, 1050, 1417, 1780, 2041, 2199, 2260, 2292, 2299, 2300, 2300, 2300, 2300, 2300, 2300, 2300, 2300, 2300, 0]\n",
    "ct2  = [0, 0, 0, 0, 0.94, 0.82, 0.76, 0.68, 0.86, 0.83, 0.77, 0.68, 0.66, 0.52, 0.47, 0.41, 0.38, 0.34, 0.27, 0.26, 0.23, 0.22, 0.22, 0.2, 0.16, 0.17, 0]\n",
    "wt2 = WindTurbine(name=\"Ørsted2\", diameter=80, hub_height=70, powerCtFunction=PowerCtTabular(u2, pow2, 'kw', ct2))\n",
    "wts = WindTurbines.from_WindTurbine_lst([wt1,wt2])"
   ],
   "outputs": []
  },
  {
   "cell_type": "markdown",
   "id": "7d0df6e2",
   "metadata": {},
   "source": [
    "**Plotting the power curve**"
   ]
  },
  {
   "cell_type": "code",
   "execution_count": 4,
   "id": "701b94f4",
   "metadata": {},
   "source": [
    "u = np.linspace(0,25)\n",
    "\n",
    "for t in [0,1]:\n",
    "    plt.plot(u,wts.power(u, type=t)/1000, label=wts.name(t))\n",
    "setup_plot(xlabel='Wind speed [m/s]', ylabel='Power [kW]', title='Power curve')"
   ],
   "outputs": []
  },
  {
   "cell_type": "markdown",
   "id": "9fc47ee2",
   "metadata": {},
   "source": [
    "**Plotting the CT curve**"
   ]
  },
  {
   "cell_type": "code",
   "execution_count": 5,
   "id": "59abef82",
   "metadata": {},
   "source": [
    "for t in [0,1]:\n",
    "    plt.plot(u,wts.ct(u, type=t), label=wts.name(t))\n",
    "setup_plot(xlabel='Wind speed [m/s]', ylabel='Thrust coefficient [-]', title='Thrust curve')"
   ],
   "outputs": []
  },
  {
   "cell_type": "markdown",
   "id": "231715f9",
   "metadata": {},
   "source": [
    "**Wind speed, wind direction and turbulence intensity**"
   ]
  },
  {
   "cell_type": "code",
   "execution_count": 6,
   "id": "be2fe746",
   "metadata": {},
   "source": [
    "u0 = [6,10,14]           # [m/s]\n",
    "wd = 270                 # [deg]\n",
    "ti0 = [0.09,.1,.11]      # [-]"
   ],
   "outputs": []
  },
  {
   "cell_type": "markdown",
   "id": "362a503b",
   "metadata": {},
   "source": [
    "## Example 1 - Square farm with identical turbines"
   ]
  },
  {
   "cell_type": "code",
   "execution_count": 7,
   "id": "b52bd8f8",
   "metadata": {},
   "source": [
    "y, x = [v.flatten() for v in np.meshgrid(np.arange(4) * 120 * 6, np.arange(4) * 120 * 6)]\n",
    "wt1.plot(x, y)"
   ],
   "outputs": []
  },
  {
   "cell_type": "code",
   "execution_count": 8,
   "id": "b24468f5",
   "metadata": {},
   "source": [
    "site = UniformSite(shear=PowerShear(h_ref=90, alpha=.1))"
   ],
   "outputs": []
  },
  {
   "cell_type": "code",
   "execution_count": 9,
   "id": "b820f9af",
   "metadata": {},
   "source": [
    "from py_wake.literature import Nygaard_2022\n",
    "\n",
    "wfm = Nygaard_2022(site, wt1)\n",
    "sim_res = wfm(x, y, ws=u0, wd=wd, TI=ti0)\n",
    "sim_res.WS_eff"
   ],
   "outputs": []
  },
  {
   "cell_type": "markdown",
   "id": "857dc1f7",
   "metadata": {},
   "source": [
    "**We now calculate the power of each turbine in the wind farm**"
   ]
  },
  {
   "cell_type": "code",
   "execution_count": 10,
   "id": "68495da2",
   "metadata": {},
   "source": [
    "sim_res.Power /1000"
   ],
   "outputs": []
  },
  {
   "cell_type": "markdown",
   "id": "f22c74b8",
   "metadata": {},
   "source": [
    "**Then, we calculate the wake losses**"
   ]
  },
  {
   "cell_type": "code",
   "execution_count": 11,
   "id": "6c946f14",
   "metadata": {},
   "source": [
    "((1-(sim_res.Power.mean('wt') / sim_res.Power.max('wt')))*100).plot()\n",
    "setup_plot(ylabel='Wake loss [%]', xlabel='Freestream wind speed [m/s]')"
   ],
   "outputs": []
  },
  {
   "cell_type": "markdown",
   "id": "9d3ab52e",
   "metadata": {},
   "source": [
    "## Example 2 - Two turbine types plus wind speed gradient"
   ]
  },
  {
   "cell_type": "markdown",
   "id": "4e6a24a8",
   "metadata": {},
   "source": [
    "**First we set up the two types of wind turbines in the farm**"
   ]
  },
  {
   "cell_type": "code",
   "execution_count": 12,
   "id": "b156b37b",
   "metadata": {},
   "source": [
    "type = np.array([1,1,0,0]*4)\n",
    "wts.plot(x, y, type=type)"
   ],
   "outputs": []
  },
  {
   "cell_type": "code",
   "execution_count": 13,
   "id": "66c5b3a0",
   "metadata": {},
   "source": [
    "import xarray as xr\n",
    "from py_wake.site import XRSite\n",
    "\n",
    "x_pt = np.arange(-100,3100,100)\n",
    "Y_pt,X_pt = np.meshgrid(x_pt,x_pt)\n",
    "grad = ((X_pt-5)**2 + (Y_pt)**2)*10**(-8) + 1\n",
    "speedup= grad/grad[1,1]\n",
    "ds = xr.Dataset({'Speedup':(('x','y'), speedup), 'P':1}, coords={'x':x_pt,'y':x_pt})\n",
    "ds.Speedup.plot()\n",
    "wts.plot(x, y, type=type)"
   ],
   "outputs": []
  },
  {
   "cell_type": "markdown",
   "id": "ca4ad952",
   "metadata": {},
   "source": [
    "**We now specify the gradients of the wind speed**"
   ]
  },
  {
   "cell_type": "code",
   "execution_count": 14,
   "id": "3fa17529",
   "metadata": {},
   "source": [
    "gradient_site = XRSite(ds=ds, shear=PowerShear(h_ref=90, alpha=.1))\n",
    "gradient_site.local_wind(x,y,wts.hub_height(type), ws=1)['WS_ilk']"
   ],
   "outputs": []
  },
  {
   "cell_type": "code",
   "execution_count": 15,
   "id": "8f71ee7a",
   "metadata": {},
   "source": [
    "from py_wake.literature import Nygaard_2022\n",
    "\n",
    "wfm = Nygaard_2022(gradient_site, wts)\n",
    "sim_res = wfm(x, y, ws=u0, wd=wd, type=type, TI=ti0)\n",
    "sim_res.WS_eff"
   ],
   "outputs": []
  },
  {
   "cell_type": "markdown",
   "id": "012a84a0",
   "metadata": {},
   "source": [
    "**Now we can again calculate the power for the new wind farm configuration**"
   ]
  },
  {
   "cell_type": "code",
   "execution_count": 16,
   "id": "f9743e6d",
   "metadata": {},
   "source": [
    "sim_res.Power / 1000"
   ],
   "outputs": []
  },
  {
   "cell_type": "code",
   "execution_count": 17,
   "id": "ab76bc33",
   "metadata": {},
   "source": [
    "#turbulence intensity\n",
    "sim_res.TI"
   ],
   "outputs": []
  },
  {
   "cell_type": "code",
   "execution_count": 18,
   "id": "714d4baf",
   "metadata": {},
   "source": [
    "for ws in u0:\n",
    "    plt.figure()\n",
    "    for row, p in enumerate((sim_res.Power.sel(ws=ws, wd=270).values.reshape((4,4))).T/1000,1):\n",
    "        plt.plot(sim_res.x[::4], p, label=f'Row {row}')\n",
    "    plt.plot(sim_res.x.sel(wt=15), sim_res.Power.sel(ws=ws, wd=270,wt=15)/1000,'.r', 'WT15')\n",
    "    setup_plot(title=f'Wind speed {ws}m/s', ylabel='Power [kW]', xlabel='X coordinate [m]')"
   ],
   "outputs": []
  }
 ],
 "metadata": {
  "kernelspec": {
   "display_name": "Python 3 (ipykernel)",
   "language": "python",
   "name": "python3"
  },
  "language_info": {
   "codemirror_mode": {
    "name": "ipython",
    "version": 3
   },
   "file_extension": ".py",
   "mimetype": "text/x-python",
   "name": "python",
   "nbconvert_exporter": "python",
   "pygments_lexer": "ipython3",
   "version": "3.9.13"
  },
  "toc": {
   "base_numbering": 1,
   "nav_menu": {},
   "number_sections": true,
   "sideBar": true,
   "skip_h1_title": false,
   "title_cell": "Table of Contents",
   "title_sidebar": "Contents",
   "toc_cell": false,
   "toc_position": {},
   "toc_section_display": true,
   "toc_window_display": true
  }
 },
 "nbformat": 4,
 "nbformat_minor": 5
}

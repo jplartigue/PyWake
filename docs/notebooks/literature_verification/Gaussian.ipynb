{
 "cells": [
  {
   "cell_type": "markdown",
   "id": "ad3f0bd8",
   "metadata": {},
   "source": [
    "# Gaussian Wake Deficit Models"
   ]
  },
  {
   "cell_type": "markdown",
   "id": "982159b7",
   "metadata": {},
   "source": [
    "This notebook reproduces the results of several papers presenting different versions of Gaussian wake models. They are presented in order of their publication dates.\n",
    "    \n",
    "Whilst PyWake defines wake models very generalisticly, some PyWake wind farm models have been defined to reproduce how they were originally published. For the Gaussian wake models these can be found in `py_wake/literature/gaussian_models.py`. That script is also a good starting point to check how you can setup your own Gaussian wind farm model. "
   ]
  },
  {
   "cell_type": "code",
   "execution_count": 1,
   "id": "753f4621",
   "metadata": {},
   "source": [
    "%load_ext autoreload\n",
    "%autoreload 2\n",
    "\n",
    "# install PyWake if needed\n",
    "try:\n",
    "    import py_wake\n",
    "except ModuleNotFoundError:\n",
    "    !pip install git+https://gitlab.windenergy.dtu.dk/TOPFARM/PyWake.git\n",
    "\n",
    "# import general\n",
    "import numpy as np\n",
    "import matplotlib.pyplot as plt\n",
    "import os"
   ],
   "outputs": []
  },
  {
   "cell_type": "markdown",
   "id": "1e4fc184",
   "metadata": {},
   "source": [
    "## Bastankhah and Porté-Agel (2014)\n",
    "\n",
    "This section reproduces results from \n",
    "\n",
    "Bastankhah M and Porté-Agel F.: _A new analytical model for wind-turbine wakes_, J. Renew. Energy., 70:116-23, (2014), https://doi.org/10.1016/j.renene.2014.01.002\n",
    "\n",
    "This paper presents a general definition of a wake model with Gaussian profile shape that obeys momentum conservation for an isolated turbine and can be seen as the foundation of the Gaussain wake model family. All subsequent model developments are based on the assumptions defined within this paper.   "
   ]
  },
  {
   "cell_type": "markdown",
   "id": "a2b5cd21",
   "metadata": {},
   "source": [
    "### Site and wind turbine\n",
    "\n",
    "Define dummy wind turbine with fixed $C_T$ and simple site. We basically define a $C_T$ curve that is constant by setting the values at very large and low wind speed. Power is not needed, therefore it is set to zero. The site is needed in the simulation but it has no influence on the computed deficit, as the deficit is substracted from the background mean-flow. The deficit model does not respond to changes in turbulence intensity. "
   ]
  },
  {
   "cell_type": "code",
   "execution_count": 2,
   "id": "351f7af9",
   "metadata": {},
   "source": [
    "from py_wake.wind_turbines import WindTurbine\n",
    "from py_wake.wind_turbines.power_ct_functions import PowerCtTabular\n",
    "from py_wake.site._site import UniformSite\n",
    "\n",
    "class Dummy(WindTurbine):\n",
    "    def __init__(self, name='dummy', ct=0.8, d=80., zh=70.):\n",
    "        WindTurbine.__init__(self, name=name, diameter=d,\n",
    "                             hub_height=zh, powerCtFunction=PowerCtTabular([-100, 100], [0, 0], 'kW', [ct, ct]))\n",
    "\n",
    "class BastankhahSite(UniformSite):\n",
    "    def __init__(self, ws=10., ti=0.04):\n",
    "        UniformSite.__init__(self, ti=ti, ws=ws)"
   ],
   "outputs": []
  },
  {
   "cell_type": "markdown",
   "id": "96d8b4b6",
   "metadata": {},
   "source": [
    "### Wind farm model\n",
    "\n",
    "The paper is not really defining a wind farm model at all, but only a deficit model. However, in PyWake we need to define these to simulate wake flows, thus we defined a literature model that uses some reasonable presets, which is loaded here.\n",
    "\n",
    "Note that this model requires the user to input the wake expansion factor, $k$ (called $k^*$ in the paper)."
   ]
  },
  {
   "cell_type": "code",
   "execution_count": 3,
   "id": "dcfbfd4f",
   "metadata": {},
   "source": [
    "from py_wake.literature.gaussian_models import Bastankhah_PorteAgel_2014"
   ],
   "outputs": []
  },
  {
   "cell_type": "markdown",
   "id": "3f7069eb",
   "metadata": {},
   "source": [
    "### Validation\n",
    "\n",
    "To validate our implementation we choose to compare data from Fig.7 of the paper, as this tests the wake shape, wake expansion and centre line deficit at the same time. Only wake profiles will be compared, as they provide the most quantitative comparison. Here we limit it to cases 2 and 3, computed at $x/D = [3, 5]$, where $D$ is the rotor diameter and $x$ the downstream distance from the rotor plane. This is sufficient to demonstrate that the model is implemented correctly.\n",
    "\n",
    "The inputs for the simulation are taken from Table 1 and Fig. 7. Table 1 provides wind turbine and inflow parameters (shear is not needed, for reasons mentioned before) and Fig. 4 provides the wake expansion factors for each case that were fitted to LES data. Note that the initial wake size, $\\epsilon$, is not taken from Fig. 4, but computed as defined in the paper in Eq.(21) using $0.2 \\sqrt{\\beta}$.  "
   ]
  },
  {
   "cell_type": "markdown",
   "id": "c6bcfe97",
   "metadata": {},
   "source": [
    "**Case definition**"
   ]
  },
  {
   "cell_type": "code",
   "execution_count": 4,
   "id": "38e8c2b7",
   "metadata": {},
   "source": [
    "# expansion factors (taken from Fig.4)\n",
    "ks = [0.055, 0.040]\n",
    "# hub height wind speed\n",
    "ws = 9.\n",
    "# rotor diameter\n",
    "d = 80.\n",
    "# rotor hub height\n",
    "zh = 70.\n",
    "# rotor thrust coefficient\n",
    "ct = 0.8"
   ],
   "outputs": []
  },
  {
   "cell_type": "markdown",
   "id": "73a3d52d",
   "metadata": {},
   "source": [
    "**Fig. 7 reproduction**"
   ]
  },
  {
   "cell_type": "markdown",
   "id": "e2216a67",
   "metadata": {},
   "source": [
    "Load reference data"
   ]
  },
  {
   "cell_type": "code",
   "execution_count": 5,
   "id": "da3bd5c8",
   "metadata": {},
   "source": [
    "# load reference data extracted manually from Fig.7 of the paper (only cases 2 and 3 at x/d=3, 5)\n",
    "dat = np.genfromtxt(os.path.join('data', 'Gaussian', 'Basthankhah_PorteAgel_2014_Fig7.csv'),\n",
    "                    skip_header=2, delimiter=',')\n",
    "\n",
    "cases = ['case_2', 'case_3']\n",
    "# downstream position\n",
    "xd = [3., 5.]\n",
    "names = ['LES', 'model']\n",
    "ref_fig7 = {}\n",
    "for i, case in enumerate(cases):\n",
    "    tmp = {}\n",
    "    for j, name in enumerate(names):\n",
    "        tmp2 = np.zeros((dat.shape[0], len(xd), 2))\n",
    "        for k in range(len(xd)):\n",
    "            col = 8 * i + 2 * j + 4 * k\n",
    "            tmp2[:, k, [0, 1]] = dat[:, [col, col + 1]]\n",
    "        tmp[name] = tmp2\n",
    "    ref_fig7[case] = tmp"
   ],
   "outputs": []
  },
  {
   "cell_type": "markdown",
   "id": "8d35e7a2",
   "metadata": {},
   "source": [
    "Simulation and plotting"
   ]
  },
  {
   "cell_type": "code",
   "execution_count": 6,
   "id": "8eb2c4ab",
   "metadata": {},
   "source": [
    "from py_wake.flow_map import XZGrid\n",
    "\n",
    "# normal point distribution for plotting\n",
    "zd = np.linspace(0.2, 2., 201)\n",
    "\n",
    "# define wind turbine and site\n",
    "wt = Dummy(ct=ct, d=d, zh=zh)\n",
    "site = BastankhahSite(ws=ws)\n",
    "\n",
    "fig, ax = plt.subplots(2, 2, sharey=True, figsize=(8, 5))\n",
    "for i, (case, k) in enumerate(zip(cases, ks)):\n",
    "    # wind farm model, you need to set the expansion factor, k\n",
    "    wfm = Bastankhah_PorteAgel_2014(site, wt, k)\n",
    "    # simulation\n",
    "    sim = wfm(x=[0.], y=[0.], wd=270., ws=ws)\n",
    "    # wake profiles\n",
    "    u = np.squeeze(sim.flow_map(XZGrid(y=0.0, x=np.array(xd) * d, z=zd  * d)).WS_eff)\n",
    "    for j in range(len(xd)):\n",
    "        ax[i, j].plot(ref_fig7[case]['model'][:, j, 0], ref_fig7[case]['model'][:, j, 1], 'k-', label='Model (2014)')\n",
    "        ax[i, j].plot(ref_fig7[case]['LES'][:, j, 0], ref_fig7[case]['LES'][:, j, 1], 'o', color=0.5 * np.ones(3), label='LES (2014)')\n",
    "        ax[i, j].plot(1. - u[:, j] / ws, zd, 'b:', label='PyWake')\n",
    "        if i == 0:\n",
    "            ax[i, j].set_title(r'$x/D={:.0f}$'.format(xd[j]))\n",
    "        if i == 1:\n",
    "            ax[i, j].set_xlabel(r'$\\Delta u/ U_{\\infty}$')\n",
    "        if j == 0:\n",
    "            ax[i, j].set_ylabel(r'$z/D$')\n",
    "        ax[i, j].grid(lw=0.5, alpha=0.3)\n",
    "lines, labels = ax[0, 0].get_legend_handles_labels()\n",
    "leg = fig.legend(lines, labels, loc='upper right')\n",
    "leg.get_frame().set_alpha(1.0)\n",
    "fig.tight_layout()"
   ],
   "outputs": []
  },
  {
   "cell_type": "markdown",
   "id": "7e751e8d",
   "metadata": {},
   "source": [
    "The agreement between PyWake and the paper is perfect, with any deviations being easily attributed to the manual extraction of data from the paper (the plot is rather small). "
   ]
  },
  {
   "cell_type": "markdown",
   "id": "e3c4257d",
   "metadata": {},
   "source": [
    "## Niayifar and Porté-Agel (2016)\n",
    "\n",
    "This section reproduces results from \n",
    "\n",
    "Niayifar A and Porté-Agel F.: _Analytical Modeling of Wind Farms: A New Approach for Power Prediction_, Energies, 9(9), 741, (2016), https://doi.org/10.3390/en9090741\n",
    "\n",
    "This paper defines a wind farm model using the Gaussian wake model by Bastankhah and Porté-Agel (2014). Important additions are:\n",
    "\n",
    "- inflow turbulence intensity depended wake expansion\n",
    "- linear wake superposition\n"
   ]
  },
  {
   "cell_type": "markdown",
   "id": "be38bafe",
   "metadata": {},
   "source": [
    "### Site and wind turbine\n",
    "\n",
    "The paper presents results for Horns Rev 1, which are available in PyWake."
   ]
  },
  {
   "cell_type": "code",
   "execution_count": 7,
   "id": "1e36a753",
   "metadata": {},
   "source": [
    "from py_wake.examples.data.hornsrev1 import Hornsrev1Site, V80, wt_x, wt_y\n",
    "v80_pw = V80()\n",
    "site = Hornsrev1Site()"
   ],
   "outputs": []
  },
  {
   "cell_type": "markdown",
   "id": "6a86ba36",
   "metadata": {},
   "source": [
    "Unfortunatley it remains somewhat unclear what thrust and power curves the authors used for the Vestas V-80 in their simulations. Only after testing a lot of different possibilities were we able to reproduce their results.\n",
    "\n",
    "They present a fitted power curve in Fig. 2, but also show 2 more pairs of curves in Fig. 4 (observed and predicted) without clearly stating which curves were exactly used. Here we show how much these different V-80 definitions differ and also compare it to the one in PyWake. From Fig. 4 only the curves labelled _predicted_ were extracted manually from the paper. In Fig. 2 no thrust curve has been defined so we used the one from Fig. 4, instead. Yet there is another issue in that case. The curves in Fig. 4 only start at a wind speed of 5 m/s, but the one in Fig. 4 starts at 4 m/s, the we take the $C_T$ from Fig. 4 but need to add another value at 4 m/s, which is simply set to the $C_T$ at 5 m/s."
   ]
  },
  {
   "cell_type": "code",
   "execution_count": 8,
   "id": "1409d0b8",
   "metadata": {},
   "source": [
    "# load reference data extracted manually from Fig.5 of the paper\n",
    "dat = np.genfromtxt(os.path.join('data', 'Gaussian', 'Niayifar_PorteAgel_2016_Fig4.csv'),\n",
    "                    skip_header=2, delimiter=',')\n",
    "\n",
    "v80_2016_fig4 = WindTurbine(name=\"V80 (2016: Fig.4)\", diameter=80., hub_height=70.,\n",
    "                            powerCtFunction=PowerCtTabular(dat[:, 2], dat[:, 3], 'MW', dat[:, 1]), method='pchip')\n",
    "# Fig. 2 provides a fit for power but not CT, so we take the CT from Fig. 4\n",
    "# but need to add another value at 4 m/s, which is simply set to the CT at 5 m/s\n",
    "ws = np.hstack((np.array([3.9, 4.0]), dat[1:, 2]))\n",
    "ct = np.hstack((np.array([0.0, dat[1, 1]]), dat[1:, 1]))\n",
    "power = (0.17819 * ws**5 - 6.5198 * ws**4 + 90.623 * ws**3 - 574.62 * ws**2 + 1727.2 * ws - 1975)\n",
    "power[power > 2000.] = 2000.\n",
    "power[ws < 4] = 0.0\n",
    "power[ws > 20] = 0.0\n",
    "v80_2016_fig2 = WindTurbine(name=\"V80 (2016: Fig.2)\", diameter=80., hub_height=70.,\n",
    "                            powerCtFunction=PowerCtTabular(ws, power, 'kW', ct), method='pchip')"
   ],
   "outputs": []
  },
  {
   "cell_type": "code",
   "execution_count": 9,
   "id": "560efbe6",
   "metadata": {},
   "source": [
    "from py_wake.utils.plotting import setup_plot\n",
    "\n",
    "ws = np.linspace(0, 30, 121)\n",
    "\n",
    "fig, ax = plt.subplots(2, 1, sharex=True)\n",
    "plt.figure()\n",
    "ax[0].plot(ws, v80_pw.ct(ws), '-', label='PyWake')\n",
    "ax[0].plot(ws, v80_2016_fig4.ct(ws), '-', label='Fig.4 (2016)')\n",
    "ax[0].plot(ws, v80_2016_fig2.ct(ws), '-', label='Fig.2 (2016)')\n",
    "ax[0].grid(lw=0.5, alpha=0.3)\n",
    "ax[0].set_ylabel('Thrust coefficient [-]')\n",
    "\n",
    "ax[1].plot(ws, v80_pw.power(ws) / 1.e6, '-', label='V80 PyWake')\n",
    "ax[1].plot(ws, v80_2016_fig4.power(ws) / 1.e6, '-', label='Fig.4 (2016)')\n",
    "ax[1].plot(ws, v80_2016_fig2.power(ws) / 1.e6, '-', label='Fig.2 (2016)')\n",
    "ax[1].grid(lw=0.5, alpha=0.3)\n",
    "ax[1].set_ylabel('Power [MW]')\n",
    "ax[1].set_xlabel('Wind speed [m/s]')\n",
    "fig.suptitle('Vestas V-80')\n",
    "ax[1].legend()"
   ],
   "outputs": []
  },
  {
   "cell_type": "markdown",
   "id": "16393010",
   "metadata": {},
   "source": [
    "In the following plot we recreate Fig. 2 but adding the power curves from PyWake and Fig. 4 to show the difference between them. For some reason the power is lower in Fig. 2."
   ]
  },
  {
   "cell_type": "code",
   "execution_count": 10,
   "id": "a0ebea19",
   "metadata": {},
   "source": [
    "ws = np.linspace(4, 10, 121)\n",
    "plt.figure()\n",
    "plt.plot(ws, v80_pw.power(ws) / 1.e3, '-', label='V80 PyWake')\n",
    "plt.plot(ws, v80_2016_fig4.power(ws) / 1.e3, '-', label='V80 Fig.4 (2016)')\n",
    "plt.plot(ws, v80_2016_fig2.power(ws) / 1.e3, '-', label='V80 Fig.2 (2016)')\n",
    "plt.legend()\n",
    "plt.grid(lw=0.5, alpha=0.3)\n",
    "plt.ylabel('Power [kW]')\n",
    "plt.xlabel('Wind speed [m/s]')"
   ],
   "outputs": []
  },
  {
   "cell_type": "markdown",
   "id": "e6a0b89c",
   "metadata": {},
   "source": [
    "### Wind farm model\n",
    "\n",
    "The wind farm model uses the Gaussian wake model together with linear wake deficit summation and a wake expansion factor that respionds to the local inflow turbulence intensity (TI). The added TI is computed using the model by Crespo and Hernandez (1996) with slightly modified constants. The square of the local TI is defined as the sum of the ambient TI and the maximum weighted (by wake-rotor overleap area) added TI.    "
   ]
  },
  {
   "cell_type": "code",
   "execution_count": 11,
   "id": "753eb922",
   "metadata": {},
   "source": [
    "from py_wake.literature.gaussian_models import Niayifar_PorteAgel_2016"
   ],
   "outputs": []
  },
  {
   "cell_type": "markdown",
   "id": "c9d0ff42",
   "metadata": {},
   "source": [
    "### Validation"
   ]
  },
  {
   "cell_type": "markdown",
   "id": "c7b4cb59",
   "metadata": {},
   "source": [
    "**Case definition**"
   ]
  },
  {
   "cell_type": "code",
   "execution_count": 12,
   "id": "a2e8ee1f",
   "metadata": {},
   "source": [
    "# hub height wind speed\n",
    "ws = 8.0\n",
    "# ambient turbulence intensity\n",
    "ti = 0.077\n",
    "# wind directions\n",
    "wd = np.arange(173., 354., 1.)"
   ],
   "outputs": []
  },
  {
   "cell_type": "markdown",
   "id": "0d99d689",
   "metadata": {},
   "source": [
    "**PyWake Simulation**\n",
    "\n",
    "The paper does not cearly state how the rotor reference velocity is computed (used to scale the deficit and look-up the thrust and power). So here we try both, the PyWake default, which is the `RotorCenter()` method, and the `GaussianOverlapAvgModel()` (set as default in the literature model, but set here explicitly for clarity), which averages velocities over the rotor disc. This will also demonstrate how the rotor-averaging can influence your results. Furthermore, we test the different definitions of the Vestas V-80 given in the paper.  "
   ]
  },
  {
   "cell_type": "code",
   "execution_count": 13,
   "id": "3403dfe9",
   "metadata": {},
   "source": [
    "from py_wake.rotor_avg_models import RotorCenter\n",
    "from py_wake.rotor_avg_models.gaussian_overlap_model import GaussianOverlapAvgModel\n",
    "\n",
    "# instantiate wind farm model\n",
    "wfm_rc = Niayifar_PorteAgel_2016(site, v80_2016_fig4, rotorAvgModel=RotorCenter())\n",
    "wfm_ga = Niayifar_PorteAgel_2016(site, v80_2016_fig4, rotorAvgModel=GaussianOverlapAvgModel())\n",
    "wfm_ga_fig2 = Niayifar_PorteAgel_2016(site, v80_2016_fig2, rotorAvgModel=GaussianOverlapAvgModel())\n",
    "# run simulation\n",
    "sim_rc = wfm_rc(wt_x, wt_y, TI=ti, ws=ws, wd=wd)\n",
    "sim_ga = wfm_ga(wt_x, wt_y, TI=ti, ws=ws, wd=wd)\n",
    "sim_ga_fig2 = wfm_ga_fig2(wt_x, wt_y, TI=ti, ws=ws, wd=wd)"
   ],
   "outputs": []
  },
  {
   "cell_type": "markdown",
   "id": "99e86b69",
   "metadata": {},
   "source": [
    "**Reproduction of Fig. 5**\n",
    "\n",
    "This figure compares the wind farm efficieny predicted by LES simulations and the Gaussian wind farm model at a single wind speed. "
   ]
  },
  {
   "cell_type": "markdown",
   "id": "be5f29be",
   "metadata": {},
   "source": [
    "Load reference data"
   ]
  },
  {
   "cell_type": "code",
   "execution_count": 14,
   "id": "e4bf9fe5",
   "metadata": {},
   "source": [
    "# load reference data extracted manually from Fig.5 of the paper\n",
    "dat = np.genfromtxt(os.path.join('data', 'Gaussian', 'Niayifar_PorteAgel_2016_Fig5.csv'),\n",
    "                    skip_header=2, delimiter=',')\n",
    "ref_fig5 = {}\n",
    "ref_fig5['LES'] = dat[:, :2]\n",
    "ref_fig5['model'] = dat[:, 2:]"
   ],
   "outputs": []
  },
  {
   "cell_type": "markdown",
   "id": "fda0bdbd",
   "metadata": {},
   "source": [
    "Plotting"
   ]
  },
  {
   "cell_type": "code",
   "execution_count": 15,
   "id": "6d3e3ab7",
   "metadata": {},
   "source": [
    "plt.figure()\n",
    "plt.plot(ref_fig5['LES'][:, 0], ref_fig5['LES'][:, 1], 'ro-', label='LES (2016)')\n",
    "plt.plot(ref_fig5['model'][:, 0], ref_fig5['model'][:, 1], 'b-', label='Model (2016)')\n",
    "plt.plot(wd, sim_rc.Power.sum(axis=0)[:, 0] / (len(wt_x) * v80_2016_fig4.power(ws=ws)), 'k--', label='PyWake | WT Fig 4. | RotorCentre')\n",
    "plt.plot(wd, sim_ga.Power.sum(axis=0)[:, 0] / (len(wt_x) * v80_2016_fig4.power(ws=ws)), 'c--', label='PyWake | WT Fig 4. | GaussianAvg')\n",
    "plt.plot(wd, sim_ga_fig2.Power.sum(axis=0)[:, 0] / (len(wt_x) * v80_2016_fig2.power(ws=ws)), 'm:', label='PyWake | WT Fig 2. | GaussianAvg')\n",
    "plt.axis([160, 360, 0.4, 1.0])\n",
    "plt.xlabel('Wind direction [deg]')\n",
    "plt.ylabel('Wind farm efficiency [-]')\n",
    "plt.title('Horns Rev 1 | $U_{hub}=8$ m/s | $I_{\\infty}=7.7$%')\n",
    "plt.grid('on', lw=0.5, alpha=0.5)\n",
    "plt.legend()"
   ],
   "outputs": []
  },
  {
   "cell_type": "markdown",
   "id": "745f36c6",
   "metadata": {},
   "source": [
    "The agreement is nearly perfect. Interestingly using the `GaussianOverlapAvgModel()` the results are closer to the LES predictions when the turbine rows are aligning ie. in situations of full-wake."
   ]
  },
  {
   "cell_type": "markdown",
   "id": "98bea79b",
   "metadata": {},
   "source": [
    "**Reproduction Fig. 6**\n",
    "\n",
    "This figure compares the power production evolution along a row of turbines for a wind direction of 270 degrees, constiuting a full-wake situation. "
   ]
  },
  {
   "cell_type": "markdown",
   "id": "9e75c566",
   "metadata": {},
   "source": [
    "Load reference data"
   ]
  },
  {
   "cell_type": "code",
   "execution_count": 16,
   "id": "8ac2a947",
   "metadata": {},
   "source": [
    "# load reference data extracted manually from Fig.5 of the paper\n",
    "dat = np.genfromtxt(os.path.join('data', 'Gaussian', 'Niayifar_PorteAgel_2016_Fig6.csv'),\n",
    "                    skip_header=2, delimiter=',')\n",
    "ref_fig6 = {}\n",
    "ref_fig6['model'] = dat[:, :2]\n",
    "ref_fig6['LES'] = dat[:, 2:]"
   ],
   "outputs": []
  },
  {
   "cell_type": "markdown",
   "id": "15b12837",
   "metadata": {},
   "source": [
    "The turbine numbering is different in the paper than in PyWake, but they mention that they average over columns 2, 3 and 4 (a column in the paper refers to turbine row spanning from east to west, with the southernmost being column 1). The following plot shows the turbine rows to be selected for the plot.  "
   ]
  },
  {
   "cell_type": "code",
   "execution_count": 17,
   "id": "bae59db9",
   "metadata": {},
   "source": [
    "plt.figure()\n",
    "plt.plot(wt_x, wt_y, 'o', label='Horns Rev 1')\n",
    "for i in range(3):\n",
    "    plt.plot(wt_x[8 - (i + 2)::8], wt_y[8 - (i + 2)::8], '-', label='column {}'.format(i + 1))\n",
    "plt.grid('on', lw=0.5, alpha=0.5)\n",
    "leg = plt.legend()"
   ],
   "outputs": []
  },
  {
   "cell_type": "markdown",
   "id": "a10cac5e",
   "metadata": {},
   "source": [
    "Plot Fig. 6"
   ]
  },
  {
   "cell_type": "code",
   "execution_count": 18,
   "id": "ddbeb7ea",
   "metadata": {},
   "source": [
    "plt.figure()\n",
    "iwt = np.linspace(1, 10, 10)\n",
    "plt.plot(iwt, ref_fig6['LES'][:, 1], 'ro-', label='LES (2016)')\n",
    "plt.plot(iwt, ref_fig6['model'][:, 1], 'bv-', label='Model (2016)')\n",
    "\n",
    "# select wind direction 270 degrees\n",
    "iwd = 97\n",
    "# select columns\n",
    "pp = np.zeros((3, 10, 3))\n",
    "for i in range(pp.shape[0]):\n",
    "    pp[i, :, 0] = sim_rc.Power.values[8 - (i + 2)::8, iwd, 0]\n",
    "    pp[i, :, 1] = sim_ga.Power.values[8 - (i + 2)::8, iwd, 0]\n",
    "    pp[i, :, 2] = sim_ga_fig2.Power.values[8 - (i + 2)::8, iwd, 0]\n",
    "# average over columns\n",
    "pp_avg = np.mean(pp, axis=0)\n",
    "# plot results\n",
    "plt.plot(iwt, pp_avg[:, 0] / pp_avg[0, 0], 'k.--', label='PyWake | WT Fig 4. | RotorCenter')\n",
    "plt.plot(iwt, pp_avg[:, 1] / pp_avg[0, 1], 'c.--', label='PyWake | WT Fig 4. | GaussianAvg')\n",
    "plt.plot(iwt, pp_avg[:, 2] / pp_avg[0, 2], 'm.--', label='PyWake | WT Fig 2. | GaussianAvg')\n",
    "\n",
    "plt.xlabel('Turbine number [-]')\n",
    "plt.ylabel('Normalised power [-]')\n",
    "plt.title('Horns Rev 1 | $U_{hub}=8$ m/s | $I_{\\infty}=7.7$% | Cols. 2-4 | ' + '{:.0f} deg'.format(sim_ga.wd.values[iwd]))\n",
    "plt.grid('on', lw=0.5, alpha=0.5)\n",
    "plt.legend()"
   ],
   "outputs": []
  },
  {
   "cell_type": "markdown",
   "id": "57125d87",
   "metadata": {},
   "source": [
    "Following some detective work, it seems that some sort of rotor-averaging was indeed used by the authors, as indicated by the PyWake curves with `GaussianOverlapAvgModel()` having similar shapes. The slight offset between PyWake and the results from the paper might be due to differences in the thrust curve, specific rotor-averaging method used or related to the manual extraction of the data from the figure. "
   ]
  },
  {
   "cell_type": "markdown",
   "id": "cad74ade",
   "metadata": {},
   "source": [
    "## Carbajo Fuertes et al. (2018)\n",
    "\n",
    "This section presents our implementation of the modifications presented in\n",
    "\n",
    "Carbajo Fuertes, F., Markfort, C. D., & Porté-Agel, F.: _Wind turbine wake characterization with nacelle-mounted wind lidars for analytical wake model validation_, Remote Sensing, 10(5), 668, (2018), https://doi.org/10.3390/rs10050668\n",
    "\n",
    "to the Gaussian model by Niayifar et al. (2016). In this paper they use wind lidar measurements taken in the wake of a 2.5MW turbine to retune the expression for the wake width, $\\sigma$, in the Gaussian model. An important change is that the initial wake width, $\\epsilon$, becomes a function of the wake expansion rate, $k$, and thereby becomes dependant on turbulence intensity.    "
   ]
  },
  {
   "cell_type": "markdown",
   "id": "ef6ca1f0",
   "metadata": {},
   "source": [
    "### Comparison \n",
    "\n",
    "To show the impact of the modification we rerun the Horns Rev 1 case used by Niayifar and PorteAgel (2016)."
   ]
  },
  {
   "cell_type": "code",
   "execution_count": 19,
   "id": "5015dc4e",
   "metadata": {},
   "source": [
    "from py_wake.literature.gaussian_models import CarbajoFuertes_etal_2018\n",
    "\n",
    "# instantiate\n",
    "wfm_16 = Niayifar_PorteAgel_2016(site, v80_2016_fig2)\n",
    "wfm_18 = CarbajoFuertes_etal_2018(site, v80_2016_fig2)\n",
    "\n",
    "# run simulation\n",
    "sim_16 = wfm_16(wt_x, wt_y, TI=ti, ws=ws, wd=wd)\n",
    "sim_18 = wfm_18(wt_x, wt_y, TI=ti, ws=ws, wd=wd)"
   ],
   "outputs": []
  },
  {
   "cell_type": "markdown",
   "id": "0f0643ed",
   "metadata": {},
   "source": [
    "Wind farm efficiency"
   ]
  },
  {
   "cell_type": "code",
   "execution_count": 20,
   "id": "d6fcf8af",
   "metadata": {},
   "source": [
    "plt.figure()\n",
    "plt.plot(ref_fig5['LES'][:, 0], ref_fig5['LES'][:, 1], 'ro-', label='LES (2016)')\n",
    "plt.plot(wd, sim_16.Power.sum(axis=0)[:, 0] / (len(wt_x) * v80_2016_fig2.power(ws=ws)), 'b-', label='Niayifar_PorteAgel_2016')\n",
    "plt.plot(wd, sim_18.Power.sum(axis=0)[:, 0] / (len(wt_x) * v80_2016_fig2.power(ws=ws)), 'g-', label='CarbajoFuertes_etal_2018')\n",
    "plt.axis([160, 360, 0.4, 1.0])\n",
    "plt.xlabel('Wind direction [deg]')\n",
    "plt.ylabel('Wind farm efficiency [-]')\n",
    "plt.title('Horns Rev 1 | $U_{hub}=8$ m/s | $I_{\\infty}=7.7$%')\n",
    "plt.grid('on', lw=0.5, alpha=0.5)\n",
    "plt.legend()"
   ],
   "outputs": []
  },
  {
   "cell_type": "markdown",
   "id": "e1495982",
   "metadata": {},
   "source": [
    "Power variation"
   ]
  },
  {
   "cell_type": "code",
   "execution_count": 21,
   "id": "38d0e0fe",
   "metadata": {},
   "source": [
    "plt.figure()\n",
    "iwt = np.linspace(1, 10, 10)\n",
    "plt.plot(iwt, ref_fig6['LES'][:, 1], 'ro-', label='LES (2016)')\n",
    "\n",
    "# select wind direction 270 degrees\n",
    "iwd = 97\n",
    "# select columns\n",
    "pp = np.zeros((3, 10, 3))\n",
    "for i in range(pp.shape[0]):\n",
    "    pp[i, :, 0] = sim_16.Power.values[8 - (i + 2)::8, iwd, 0]\n",
    "    pp[i, :, 1] = sim_18.Power.values[8 - (i + 2)::8, iwd, 0]\n",
    "# average over columns\n",
    "pp_avg = np.mean(pp, axis=0)\n",
    "# plot results\n",
    "plt.plot(iwt, pp_avg[:, 0] / pp_avg[0, 0], 'b.-', label='Niayifar_PorteAgel_2016')\n",
    "plt.plot(iwt, pp_avg[:, 1] / pp_avg[0, 1], 'g.-', label='CarbajoFuertes_etal_2018')\n",
    "\n",
    "plt.xlabel('Turbine number [-]')\n",
    "plt.ylabel('Normalised power [-]')\n",
    "plt.title('Horns Rev 1 | $U_{hub}=8$ m/s | $I_{\\infty}=7.7$% | Cols. 2-4 | ' + '{:.0f} deg'.format(sim_16.wd.values[iwd]))\n",
    "plt.grid('on', lw=0.5, alpha=0.5)\n",
    "plt.legend()"
   ],
   "outputs": []
  },
  {
   "cell_type": "markdown",
   "id": "f62b9431",
   "metadata": {},
   "source": [
    "For aligned, deep-wake situations the updates to the model seem to overpredict losses, yet in any other situation it provides efficiency estimates close to the LES simulations."
   ]
  },
  {
   "cell_type": "markdown",
   "id": "74b7e3cc",
   "metadata": {},
   "source": [
    "## Zong and Porté-Agel (2020)\n",
    "\n",
    "This section reproduces results from \n",
    "\n",
    "Zong H. and Porté-Agel F.: _A momentum-conserving wake superposition\n",
    "method for wind farm power prediction_, J. Fluid Mech., 889, A8, (2020), https://doi.org/10.1017/jfm.2020.77\n",
    "\n",
    "The main focus of this paper is a momentum-conserving wake superposition model, however it also presents yet another version of a Gaussian model. Indeed without modifying the near-wake behaviour of the original Guassian model, the superposition model leads to bizarre results in the near-wake region. \n",
    "\n",
    "Extension of the Niayifar et al. (2016) implementation with adapted\n",
    "Shapiro wake model components, namely a gradual growth of the thrust\n",
    "force and an expansion factor not falling below the rotor diameter.\n",
    "Shapiro modelled the pressure and thrust force as a combined momentum\n",
    "source, that are distributed in the streamwise direction with a Gaussian\n",
    "kernel with a certain characteristic length. As a result the induction\n",
    "changes following an error function. Zong chose to use a characteristic\n",
    "length of $D/\\sqrt{2}$ and applies it directly to the thrust not the induction\n",
    "as Shapiro. This leads to the full thrust being active only $2D$ downstream of\n",
    "the turbine. Zong's wake width expression is inspired by Shapiro's, however\n",
    "the start of the linear wake expansion region (far-wake) was related to\n",
    "the near-wake length by Vermeulen (1980). The initial wake width, $\\epsilon$, in the\n",
    "original Gaussian model was taken to be a function of $C_T$ is now a constant\n",
    "as proposed by Bastankhah et al. (2016), as the near-wake length now effectively\n",
    "dictates the origin of the far-wake."
   ]
  },
  {
   "cell_type": "markdown",
   "id": "1244b0c6",
   "metadata": {},
   "source": [
    "### Validation"
   ]
  },
  {
   "cell_type": "markdown",
   "id": "305c2ecf",
   "metadata": {},
   "source": [
    "**Fig. 3 reproduction**\n",
    "\n",
    "This reproduces the results from a wind tunnel measurement campaign with four aligned miniature wind turbines."
   ]
  },
  {
   "cell_type": "markdown",
   "id": "f86f1735",
   "metadata": {},
   "source": [
    "Case definitions"
   ]
  },
  {
   "cell_type": "code",
   "execution_count": 22,
   "id": "05cc6340",
   "metadata": {},
   "source": [
    "# hub height wind speed\n",
    "ws = 4.9\n",
    "# rotor diameter\n",
    "d = .15\n",
    "# rotor hub height\n",
    "zh = 0.125\n",
    "# rotor thrust coefficient\n",
    "ct = 0.82\n",
    "# turbulence intensity\n",
    "ti = 0.06\n",
    "# turbine tip speed ratio needed in near-wake length computation (personal communication)\n",
    "lam = 3.8"
   ],
   "outputs": []
  },
  {
   "cell_type": "markdown",
   "id": "9311d71e",
   "metadata": {},
   "source": [
    "Instantiate site and wind turbine"
   ]
  },
  {
   "cell_type": "code",
   "execution_count": 23,
   "id": "44741417",
   "metadata": {},
   "source": [
    "# define wind turbine and site\n",
    "wt = Dummy(ct=ct, d=d, zh=zh)\n",
    "site = BastankhahSite(ws=ws, ti=ti)\n",
    "\n",
    "# turbine positions\n",
    "wt_y = [0., 0., 0., 0.]\n",
    "wt_x = [0., 5. * d, 10. * d, 15. * d]"
   ],
   "outputs": []
  },
  {
   "cell_type": "markdown",
   "id": "86f48ab8",
   "metadata": {},
   "source": [
    "As in the paper we will run PyWake with different superposition models. Note how both `effective_ws` and `effective_ti` need to be set to `False` to reproduce what Zong et al. refer to as the one by Katic et al. or Method B in their paper. By default the superposition method by Zong is used, which in PyWake is called `WeightedSum()`, as it weights deficits using the convection velocity ratio."
   ]
  },
  {
   "cell_type": "code",
   "execution_count": 28,
   "id": "7e611947",
   "metadata": {},
   "source": [
    "from py_wake.literature.gaussian_models import Zong_PorteAgel_2020\n",
    "from py_wake.superposition_models import LinearSum, SquaredSum\n",
    "from py_wake.flow_map import Points\n",
    "from py_wake.rotor_avg_models import CGIRotorAvg\n",
    "\n",
    "wfm_names = ['SquaredSum', 'LinearSum', 'WeightedSum']\n",
    "\n",
    "wfms = [Zong_PorteAgel_2020(site, wt, lam=lam,\n",
    "                            superpositionModel=SquaredSum(),\n",
    "                            rotorAvgModel=GaussianOverlapAvgModel(),\n",
    "                            use_effective_ws=False, use_effective_ti=False),\n",
    "        Zong_PorteAgel_2020(site, wt, lam=lam,\n",
    "                            superpositionModel=LinearSum(),\n",
    "                            rotorAvgModel=GaussianOverlapAvgModel()),\n",
    "        Zong_PorteAgel_2020(site, wt, lam=lam,\n",
    "                            rotorAvgModel=CGIRotorAvg(21))]"
   ],
   "outputs": []
  },
  {
   "cell_type": "markdown",
   "id": "af235b49",
   "metadata": {},
   "source": [
    "Load reference data, provided by the authors"
   ]
  },
  {
   "cell_type": "code",
   "execution_count": 29,
   "id": "aa060ff3",
   "metadata": {},
   "source": [
    "# load reference data extracted manually from Fig.5 of the paper\n",
    "ref_fig3 = np.genfromtxt(os.path.join('data', 'Gaussian', 'Zong_PorteAgel_2020_Fig3.csv'),\n",
    "                         skip_header=1, delimiter=',')"
   ],
   "outputs": []
  },
  {
   "cell_type": "code",
   "execution_count": 30,
   "id": "89fd1953",
   "metadata": {},
   "source": [
    "\n",
    "plt.figure()\n",
    "\n",
    "# Reference data\n",
    "plt.plot(ref_fig3[:, 0], ref_fig3[:, 2], 'g-', label='SquaredSum (2020: MB)')\n",
    "plt.plot(ref_fig3[:, 0], ref_fig3[:, 3], 'm-', label='LinearSum (2020: MD)')\n",
    "plt.plot(ref_fig3[:, 0], ref_fig3[:, 5], 'b-', label='WeightedSum (2020: NM)')\n",
    "plt.plot(ref_fig3[:, 0], ref_fig3[:, 6], 'k-', label='PIV (2020)')\n",
    "\n",
    "# PyWake\n",
    "x = np.linspace(0, 15, 5 * 15 + 1) * d\n",
    "lcs = ['g', 'm', 'b']\n",
    "for wfm, wfm_name, lc in zip(wfms, wfm_names, lcs):\n",
    "    sim = wfm(wt_x, wt_y, ws=ws, wd=270., TI=ti)\n",
    "    u = np.squeeze(sim.flow_map(Points(x=x, y=np.zeros_like(x), h=zh * np.ones_like(x))).WS_eff.values)\n",
    "    plt.plot(x / d, u / ws, lc + '.', label='PyWake | ' + wfm_name)\n",
    "\n",
    "plt.title('EPFL Wind Tunnel | $U_{hub}=4.9$ m/s | $I_{\\infty}=' + '{:.0f}$%'.format(ti * 1.e2))\n",
    "plt.grid('on', lw=0.5, alpha=0.5)\n",
    "plt.axis([0., 15., 0., 1.0])\n",
    "plt.legend()"
   ],
   "outputs": []
  },
  {
   "cell_type": "markdown",
   "id": "8d315b05",
   "metadata": {},
   "source": [
    "The Zong wake deficit is correctly implemented as demonstrated by near-perfect match in the wake of the first turbine. The wake growth seems a little slower, but without knowing the exact expression used for the near-wake length (here we use the one presented by Niayifar et al. (2016) in Eq.(11)) it is difficult to get exactly the same (one can increase $I_{\\infty}$ ever so slightly and they will line-up). After the second turbine there are slight differences between the classic superposition models, most likely due differences in the rotor-averaging method (not disclosed in the paper). "
   ]
  },
  {
   "cell_type": "markdown",
   "id": "d7cf27c4",
   "metadata": {},
   "source": []
  }
 ],
 "metadata": {
  "kernelspec": {
   "display_name": "Python 3 (ipykernel)",
   "language": "python",
   "name": "python3"
  },
  "language_info": {
   "codemirror_mode": {
    "name": "ipython",
    "version": 3
   },
   "file_extension": ".py",
   "mimetype": "text/x-python",
   "name": "python",
   "nbconvert_exporter": "python",
   "pygments_lexer": "ipython3",
   "version": "3.10.13"
  }
 },
 "nbformat": 4,
 "nbformat_minor": 5
}

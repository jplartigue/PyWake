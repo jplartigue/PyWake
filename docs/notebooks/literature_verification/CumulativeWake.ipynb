{
 "cells": [
  {
   "attachments": {},
   "cell_type": "markdown",
   "metadata": {},
   "source": [
    "# Cumulative Wake \n",
    "\n",
    "This notebook reproduces the results of the paper describing the cumulative wake model:\n",
    "\n",
    "Majid Bastankhah, Bridget L. Welch, Luis A. Martínez-Tossas, Jennifer King and Paul Fleming:\n",
    "*Analytical solution for the cumulative wake of wind turbines in wind farms*, \n",
    "J. Fluid Mech. (2021), vol. 911, A53, [doi:10.1017/jfm.2020.1037](https://doi.org/10.1017/jfm.2020.1037)\n",
    "\n"
   ]
  },
  {
   "cell_type": "code",
   "execution_count": 1,
   "metadata": {},
   "source": [
    "# Install PyWake if needed\n",
    "try:\n",
    "    import py_wake\n",
    "except ModuleNotFoundError:\n",
    "    !pip install git+https://gitlab.windenergy.dtu.dk/TOPFARM/PyWake.git"
   ],
   "outputs": []
  },
  {
   "attachments": {},
   "cell_type": "markdown",
   "metadata": {},
   "source": [
    "### Loading objects"
   ]
  },
  {
   "cell_type": "code",
   "execution_count": 2,
   "metadata": {},
   "source": [
    "import numpy as np\n",
    "import matplotlib.pyplot as plt\n",
    "\n",
    "from py_wake.site._site import UniformSite\n",
    "from py_wake.site.shear import LogShear\n",
    "from py_wake.utils.plotting import setup_plot"
   ],
   "outputs": []
  },
  {
   "attachments": {},
   "cell_type": "markdown",
   "metadata": {},
   "source": [
    "### Load wind farm model \n",
    "\n",
    "The wind farm and turbine models were setup to mimick as much as possible the setup described in the paper. Have a look at the definiton of the models, how this is done.   "
   ]
  },
  {
   "cell_type": "code",
   "execution_count": 3,
   "metadata": {},
   "source": [
    "from py_wake.literature.cumulative_sum import nrel5mw"
   ],
   "outputs": []
  },
  {
   "attachments": {},
   "cell_type": "markdown",
   "metadata": {},
   "source": [
    "### Turbine "
   ]
  },
  {
   "cell_type": "code",
   "execution_count": 4,
   "metadata": {},
   "source": [
    "wt = nrel5mw()\n",
    "wt.plot_power_ct(ws=np.linspace(2, 14.5, 100))"
   ],
   "outputs": []
  },
  {
   "attachments": {},
   "cell_type": "markdown",
   "metadata": {},
   "source": [
    "### Layout "
   ]
  },
  {
   "cell_type": "code",
   "execution_count": 5,
   "metadata": {},
   "source": [
    "y, x = [v.flatten() for v in np.meshgrid(np.arange(3) * wt.diameter() * 3, np.arange(5) * wt.diameter() * 5)]\n",
    "wt.plot_xy(x, y)"
   ],
   "outputs": []
  },
  {
   "attachments": {},
   "cell_type": "markdown",
   "metadata": {},
   "source": [
    "### Site"
   ]
  },
  {
   "cell_type": "code",
   "execution_count": 6,
   "metadata": {},
   "source": [
    "# wind speed at hub height\n",
    "u_h = 8.\n",
    "# turbulence intensity at hub height\n",
    "ti_h = 0.1\n",
    "\n",
    "site = UniformSite(shear=LogShear(h_ref=wt.hub_height(), z0=.15))\n",
    "\n",
    "z = np.arange(1, wt.diameter() + wt.hub_height())\n",
    "u = [site.local_wind(x=[0], y=[0], h=[z_], wd=0, ws=u_h).WS_ilk[0][0] for z_ in z]\n",
    "plt.plot(u, z)\n",
    "plt.xlabel('Wind speed [m/s]')\n",
    "plt.ylabel('Height [m]')\n",
    "plt.grid(alpha=0.2)"
   ],
   "outputs": []
  },
  {
   "attachments": {},
   "cell_type": "markdown",
   "metadata": {},
   "source": [
    "### Wind farm simulation: Aligned "
   ]
  },
  {
   "cell_type": "code",
   "execution_count": 7,
   "metadata": {},
   "source": [
    "from py_wake.flow_map import XYGrid\n",
    "from py_wake.literature import CumulativeWake\n",
    "\n",
    "wfm = CumulativeWake(site, wt)\n",
    "sim_res = wfm(x, y, ws=u_h, wd=270., TI=ti_h)\n",
    "sim_res.flow_map(XYGrid(resolution=100)).plot_wake_map()"
   ],
   "outputs": []
  },
  {
   "cell_type": "code",
   "execution_count": 8,
   "metadata": {},
   "source": [
    "# middle row only\n",
    "i_wt = [1, 4, 7, 10, 13]\n",
    "# extracted from paper\n",
    "ref = [0.5065040650406504, 0.22886178861788614, 0.2207317073170732, 0.22479674796747962, 0.2219512195121951]\n",
    "plt.plot(np.arange(1, 6, 1), ref, 'ro-', label='Bastankhah (2021)')\n",
    "# power from PyWake\n",
    "plt.plot(np.arange(1, 6, 1), np.squeeze(sim_res.Power.isel(wt=i_wt)) / (0.5 * 1.225 * u_h**3 * (wt.diameter()**2 * np.pi / 4.)), 'bs--', label='PyWake')\n",
    "plt.xlabel('Row [-]')\n",
    "plt.ylabel('Efficiency, $P_i/P(u_h)$ [m]')\n",
    "plt.grid(alpha=0.2)\n",
    "plt.title('Figure 8 d)')\n",
    "plt.xticks(np.arange(1, 6, 1))\n",
    "plt.ylim([0.175, 0.625])\n",
    "plt.legend()\n"
   ],
   "outputs": []
  },
  {
   "attachments": {},
   "cell_type": "markdown",
   "metadata": {},
   "source": [
    "Differences are related to the rotor-averaging of the wind speed, which then also influences the power and thrust. "
   ]
  },
  {
   "attachments": {},
   "cell_type": "markdown",
   "metadata": {},
   "source": [
    "### Wind farm simulation: Slanted"
   ]
  },
  {
   "cell_type": "code",
   "execution_count": 9,
   "metadata": {},
   "source": [
    "y_off = y.copy()\n",
    "for i in range(5):\n",
    "    y_off[3 * i: 3 * (i + 1)] += 0.75 * i * wt.diameter()\n",
    "\n",
    "wt.plot(x, y_off)"
   ],
   "outputs": []
  },
  {
   "cell_type": "code",
   "execution_count": 10,
   "metadata": {},
   "source": [
    "sim_res = wfm(x, y_off, ws=u_h, wd=270., TI=ti_h)\n",
    "sim_res.flow_map(XYGrid(resolution=100)).plot_wake_map()"
   ],
   "outputs": []
  },
  {
   "cell_type": "code",
   "execution_count": 11,
   "metadata": {},
   "source": [
    "# middle row only\n",
    "i_wt = [1, 4, 7, 10, 13]\n",
    "# extracted from paper\n",
    "ref = [0.5068437180796731, 0.40510725229826355, 0.38835546475995913, 0.32420837589376916, 0.2686414708886619]\n",
    "plt.plot(np.arange(1, 6, 1), ref, 'ro-', label='Bastankhah (2021)')\n",
    "# power from PyWake\n",
    "plt.plot(np.arange(1, 6, 1), np.squeeze(sim_res.Power.isel(wt=i_wt)) / (0.5 * 1.225 * u_h**3 * (wt.diameter()**2 * np.pi / 4.)), 'bs--', label='PyWake')\n",
    "plt.xlabel('Row [-]')\n",
    "plt.ylabel('Efficiency, $P_i/P(u_h)$ [m]')\n",
    "plt.grid(alpha=0.2)\n",
    "plt.title('Figure 9 d)')\n",
    "plt.xticks(np.arange(1, 6, 1))\n",
    "plt.ylim([0.175, 0.625])\n",
    "plt.legend()"
   ],
   "outputs": []
  }
 ],
 "metadata": {
  "kernelspec": {
   "display_name": "pywake",
   "language": "python",
   "name": "python3"
  },
  "language_info": {
   "codemirror_mode": {
    "name": "ipython",
    "version": 3
   },
   "file_extension": ".py",
   "mimetype": "text/x-python",
   "name": "python",
   "nbconvert_exporter": "python",
   "pygments_lexer": "ipython3",
   "version": "3.10.13"
  },
  "orig_nbformat": 4,
  "vscode": {
   "interpreter": {
    "hash": "62aefc3e55935f5cc9b6819bc008170532cf2fd3ba827311cfdd323dd8fa35f2"
   }
  }
 },
 "nbformat": 4,
 "nbformat_minor": 2
}

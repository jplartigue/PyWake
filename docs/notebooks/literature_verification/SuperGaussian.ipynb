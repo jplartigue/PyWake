{
 "cells": [
  {
   "cell_type": "markdown",
   "id": "ad3f0bd8",
   "metadata": {},
   "source": [
    "# Super Gaussian Wake Deficit Model"
   ]
  },
  {
   "cell_type": "markdown",
   "id": "982159b7",
   "metadata": {},
   "source": [
    "This notebook reproduces the results of the paper describing the super gaussian wake model:\n",
    "    \n",
    "Blondel and Cathelain: _An alternative form of the super-Gaussian wind turbine wake model_, Wind Energ. Sci., 5, 1225–1236, (2020), https://doi.org/10.5194/wes-5-1225-2020."
   ]
  },
  {
   "cell_type": "code",
   "execution_count": 1,
   "id": "753f4621",
   "metadata": {},
   "source": [
    " # Install PyWake if needed\n",
    "try:\n",
    "    import py_wake\n",
    "except ModuleNotFoundError:\n",
    "    !pip install git+https://gitlab.windenergy.dtu.dk/TOPFARM/PyWake.git"
   ],
   "outputs": []
  },
  {
   "cell_type": "markdown",
   "id": "39786ca5",
   "metadata": {},
   "source": [
    "### Loading objects"
   ]
  },
  {
   "cell_type": "code",
   "execution_count": 2,
   "id": "bb7a1a86",
   "metadata": {},
   "source": [
    "import numpy as np\n",
    "import matplotlib.pyplot as plt\n",
    "\n",
    "from py_wake.examples.data.hornsrev1 import Hornsrev1Site, V80\n",
    "windTurbines = V80()\n",
    "site = Hornsrev1Site()\n",
    "\n",
    "# general variables used for calculations\n",
    "wt_x, wt_y = [0], [0]\n",
    "U_inf = 10\n",
    "D = windTurbines.diameter()\n",
    "h = windTurbines.hub_height()\n",
    "y = np.linspace(-1*D, 1*D, 120)"
   ],
   "outputs": []
  },
  {
   "cell_type": "markdown",
   "id": "db7caf93",
   "metadata": {},
   "source": [
    "### Defining wind farm model\n",
    "\n",
    "In this example we use the class `Blondel_Cathelain_2020` for the wind farm model as it corresponds to the calibrated parameters shown in the reference paper. As default, the wakes are added linearly following Shapiro (2019) https://www.mdpi.com/1996-1073/12/15/2956 and there is no turbulence model. However the Crespo Hernandez is recommended and used to account for the turbulence intensity within the velocity deficit calculation."
   ]
  },
  {
   "cell_type": "code",
   "execution_count": 5,
   "id": "f3cc03fd",
   "metadata": {},
   "source": [
    "from py_wake.literature.gaussian_models import Blondel_Cathelain_2020\n",
    "from py_wake.turbulence_models import CrespoHernandez\n",
    "\n",
    "wfm = Blondel_Cathelain_2020(site, windTurbines, turbulenceModel=CrespoHernandez())"
   ],
   "outputs": []
  },
  {
   "cell_type": "markdown",
   "id": "84b08d16",
   "metadata": {},
   "source": [
    "The cases to be replicated correspond to Figures 3 and 4 for the normalized velocity deficit at three downstream distances from the turbine's rotor, for cases of low and high turbulence. The cases chosen are:\n",
    "\n",
    "- CT = 0.43, TI = 5%\n",
    "- CT = 0.73, TI = 12%"
   ]
  },
  {
   "cell_type": "code",
   "execution_count": 6,
   "id": "815e64fb",
   "metadata": {},
   "source": [
    "# getting points extracted from paper\n",
    "\n",
    "def get_data(path_data):\n",
    "    data = np.genfromtxt(path_data)\n",
    "\n",
    "    points_x = data[:,0]\n",
    "    points_y = data[:,1]\n",
    "    \n",
    "    return points_x, points_y"
   ],
   "outputs": []
  },
  {
   "cell_type": "markdown",
   "id": "51688a56",
   "metadata": {},
   "source": [
    "### Low turbulence case\n",
    "\n",
    "Specifying path for data files and getting points."
   ]
  },
  {
   "cell_type": "code",
   "execution_count": 7,
   "id": "064e46b8",
   "metadata": {},
   "source": [
    "# x/D = 2\n",
    "path_2xD_l = r\"data/Super_Gaussian/2_x_D_lowti.dat\"\n",
    "\n",
    "xd_2_points_l, yd_2_points_l = get_data(path_2xD_l)\n",
    "\n",
    "# x/D = 4\n",
    "path_4xD_l = r\"data/Super_Gaussian/4_x_D_lowti.dat\"\n",
    "\n",
    "xd_4_points_l, yd_4_points_l = get_data(path_4xD_l)\n",
    "\n",
    "# x/D = 8\n",
    "path_8xD_l = r\"data/Super_Gaussian/8_x_D_lowti.dat\"\n",
    "\n",
    "xd_8_points_l, yd_8_points_l = get_data(path_8xD_l)\n",
    "\n",
    "x_points_l = [xd_2_points_l, xd_4_points_l, xd_8_points_l]\n",
    "y_points_l = [yd_2_points_l, yd_4_points_l, yd_4_points_l]"
   ],
   "outputs": []
  },
  {
   "cell_type": "code",
   "execution_count": 8,
   "id": "1ad9f442",
   "metadata": {},
   "source": [
    "# selecting corresponding ti and CT\n",
    "\n",
    "ti = 0.05\n",
    "\n",
    "windTurbines.ct = lambda ws, **kwargs: 0.43\n",
    "\n",
    "simres_l = wfm(wt_x, wt_y, wd=270, ws=U_inf, TI=ti)"
   ],
   "outputs": []
  },
  {
   "cell_type": "code",
   "execution_count": 9,
   "id": "acab98e9",
   "metadata": {},
   "source": [
    "xD = [2*D, 4*D, 8*D]\n",
    "\n",
    "lines = []\n",
    "fig, ax = plt.subplots(1,3, sharey=True, figsize=(10,3))\n",
    "for i, x_D in enumerate(xD):\n",
    "    U = simres_l.flow_box(x=x_D, y=y, h=h).WS_eff.values.flatten()\n",
    "    l, = ax[i].plot(1 - U/U_inf, y/D, 'b-')\n",
    "    l1, = ax[0].plot(xd_2_points_l, yd_2_points_l, 'y--')\n",
    "    l2, = ax[1].plot(xd_4_points_l, yd_4_points_l, 'y--')\n",
    "    l3, = ax[2].plot(xd_8_points_l, yd_8_points_l, 'y--')\n",
    "    lines.append(l)\n",
    "    \n",
    "    ax[i].set_ylim(-1, 1)\n",
    "    ax[i].set_xlim(0, 0.5)\n",
    "    ax[i].set_title(f'x/D = {x_D/D}')\n",
    "    ax[0].set_ylabel('y/D [-]')\n",
    "    ax[i].set_xlabel('1 - U / U_$\\infty$ [-]')\n",
    "    ax[i].grid(linestyle='--')\n",
    "\n",
    "fig.legend((lines[0], l1), ('PyWake', 'Blondel & Cathelain (2020)'), ncol=2, loc='upper center', bbox_to_anchor=(0, 0, 1.05, 1.1), numpoints=1, scatterpoints=1)\n",
    "fig.suptitle('Figure 3', y=1.2)"
   ],
   "outputs": []
  },
  {
   "cell_type": "markdown",
   "id": "a6183fb7",
   "metadata": {},
   "source": [
    "### High turbulence case\n",
    "\n",
    "Specifying path for data files and getting points."
   ]
  },
  {
   "cell_type": "code",
   "execution_count": 10,
   "id": "306f9a4f",
   "metadata": {},
   "source": [
    "# x/D = 2\n",
    "path_2xD_h = r\"data/Super_Gaussian/2_x_D_highti.dat\"\n",
    "\n",
    "xd_2_points_h, yd_2_points_h = get_data(path_2xD_h)\n",
    "\n",
    "# x/D = 4\n",
    "path_4xD_h = r\"data/Super_Gaussian/4_x_D_highti.dat\"\n",
    "\n",
    "xd_4_points_h, yd_4_points_h = get_data(path_4xD_h)\n",
    "\n",
    "# x/D = 8\n",
    "path_8xD_h = r\"data/Super_Gaussian/8_x_D_highti.dat\"\n",
    "\n",
    "xd_8_points_h, yd_8_points_h = get_data(path_8xD_h)\n",
    "\n",
    "x_points_h = [xd_2_points_h, xd_4_points_h, xd_8_points_h]\n",
    "y_points_h = [yd_2_points_h, yd_4_points_h, yd_4_points_h]"
   ],
   "outputs": []
  },
  {
   "cell_type": "code",
   "execution_count": 11,
   "id": "168726f9",
   "metadata": {},
   "source": [
    "# selecting corresponding ti and CT\n",
    "\n",
    "ti = 0.12\n",
    "\n",
    "windTurbines.ct = lambda ws, **kwargs: 0.73\n",
    "\n",
    "simres_h = wfm(wt_x, wt_y, wd=270, ws=U_inf, TI=ti)"
   ],
   "outputs": []
  },
  {
   "cell_type": "code",
   "execution_count": 12,
   "id": "977e9e0c",
   "metadata": {},
   "source": [
    "xD = [2*D, 4*D, 8*D]\n",
    "\n",
    "lines = []\n",
    "fig, ax = plt.subplots(1,3, sharey=True,figsize=(10,3))\n",
    "for i, x_D in enumerate(xD):\n",
    "    U = simres_h.flow_box(x=x_D, y=y, h=h).WS_eff.values.flatten()\n",
    "    l, = ax[i].plot(1 - U/U_inf, y/D, 'b-')\n",
    "    l1, = ax[0].plot(xd_2_points_h, yd_2_points_h, 'y--')\n",
    "    l2, = ax[1].plot(xd_4_points_h, yd_4_points_h, 'y--')\n",
    "    l3, = ax[2].plot(xd_8_points_h, yd_8_points_h, 'y--')\n",
    "    lines.append(l)\n",
    "    \n",
    "    ax[i].set_ylim(-1, 1)\n",
    "    ax[i].set_xlim(0, 0.5)\n",
    "    ax[i].set_title(f'x/D = {x_D/D}')\n",
    "    ax[0].set_ylabel('y/D [-]')\n",
    "    ax[i].set_xlabel('1 - U / U_$\\infty$ [-]')\n",
    "    ax[i].grid(linestyle='--')\n",
    "\n",
    "fig.legend((lines[0], l1), ('PyWake', 'Blondel & Cathelain (2020)'), ncol=2, loc='upper center', bbox_to_anchor=(0, 0, 1.05, 1.1), numpoints=1, scatterpoints=1)\n",
    "fig.suptitle('Figure 4', y=1.2)"
   ],
   "outputs": []
  },
  {
   "cell_type": "markdown",
   "id": "053727b9",
   "metadata": {},
   "source": [
    "### Comparison with measurements"
   ]
  },
  {
   "cell_type": "markdown",
   "id": "2017a281",
   "metadata": {},
   "source": [
    "The implementation of the model is now compared to data from experimental campaigns as well as the analytical model derived by the authors. A set of data containing lidar measurements is used for the comparison, at the wake behind a full scale wind turbine. Two cases were recorded: stable and nearly neutral atmosphere; however for the purpose of this example only a high turbulence case in the nearly neutral atmosphere will be considered, as it also contains LES data from a SOFWA (Simulator fOrWind Farm Applications; Churchfield et al., 2012) simulation.\n",
    "\n",
    "The case to be studied corresponds to:\n",
    "\n",
    "**High turbulence example**\n",
    "\n",
    "- CT: 0.75, TI: 10.7%"
   ]
  },
  {
   "cell_type": "markdown",
   "id": "52c60db0",
   "metadata": {},
   "source": [
    "Specifying path for data files and getting points."
   ]
  },
  {
   "cell_type": "code",
   "execution_count": 13,
   "id": "a47c96ac",
   "metadata": {},
   "source": [
    "# high turbulence case - measurements\n",
    "\n",
    "# x/D = 2\n",
    "path_2xD_mh = r\"data/Super_Gaussian/2_x_D_meas_highti.dat\"\n",
    "\n",
    "xd_2_points_mh, yd_2_points_mh = get_data(path_2xD_mh)\n",
    "\n",
    "# x/D = 5\n",
    "path_5xD_mh = r\"data/Super_Gaussian/5_x_D_meas_highti.dat\"\n",
    "\n",
    "xd_5_points_mh, yd_5_points_mh = get_data(path_5xD_mh)\n",
    "\n",
    "# high turbulence case - LES\n",
    "\n",
    "# x/D = 2\n",
    "path_2xD_les = r\"data/Super_Gaussian/2_x_D_LES_highti.dat\"\n",
    "\n",
    "xd_2_points_les, yd_2_points_les = get_data(path_2xD_les)\n",
    "\n",
    "# x/D = 5\n",
    "path_5xD_les = r\"data/Super_Gaussian/5_x_D_LES_highti.dat\"\n",
    "\n",
    "xd_5_points_les, yd_5_points_les = get_data(path_5xD_les)\n",
    "\n",
    "# high turbulence case - super gaussian analytical\n",
    "\n",
    "path_2xD_sp = r\"data/Super_Gaussian/2_x_D_sp_highti.dat\"\n",
    "\n",
    "xd_2_points_sp, yd_2_points_sp = get_data(path_2xD_sp)\n",
    "\n",
    "path_5xD_sp = r\"data/Super_Gaussian/5_x_D_sp_highti.dat\"\n",
    "\n",
    "xd_5_points_sp, yd_5_points_sp = get_data(path_5xD_sp)"
   ],
   "outputs": []
  },
  {
   "cell_type": "code",
   "execution_count": 14,
   "id": "e14d4eb7",
   "metadata": {},
   "source": [
    "# selecting corresponding ti and CT\n",
    "\n",
    "ti = 0.107\n",
    "\n",
    "windTurbines.ct = lambda ws, **kwargs: 0.75\n",
    "\n",
    "simres_mh = wfm(wt_x, wt_y, wd=270, ws=U_inf, TI=ti)"
   ],
   "outputs": []
  },
  {
   "cell_type": "code",
   "execution_count": 15,
   "id": "ac811030",
   "metadata": {},
   "source": [
    "fig, (ax1, ax2) = plt.subplots(1, 2, sharey=True, figsize=(15,5))\n",
    "\n",
    "offset = -0.06478737727060202\n",
    "\n",
    "U_2xd = simres_mh.flow_box(x=2*D, y=y, h=h).WS_eff.values.flatten()\n",
    "\n",
    "ax1.plot(1 - U_2xd/U_inf, y/D + offset, label='PyWake')\n",
    "ax1.plot(xd_2_points_sp, yd_2_points_sp, label='Blondel & Cathelain')\n",
    "ax1.scatter(xd_2_points_les, yd_2_points_les, marker='v', facecolor='purple', label='LES')\n",
    "ax1.scatter(xd_2_points_mh, yd_2_points_mh, marker='o', facecolor='None', edgecolor= 'blue',label='Measurements')\n",
    "ax1.set_title('x/D = 2')\n",
    "ax1.set_ylim([-1,1])\n",
    "ax1.set_xlim([0,0.65])\n",
    "ax1.set_ylabel('y/D [-]')\n",
    "ax1.set_xlabel('1 - U / U_$\\infty$ [-]')\n",
    "ax1.legend(loc='upper right')\n",
    "\n",
    "offset = -0.1738105526986733\n",
    "\n",
    "U_5xd = simres_mh.flow_box(x=5*D, y=y, h=h).WS_eff.values.flatten()\n",
    "\n",
    "ax2.plot(1 - U_5xd/U_inf, y/D + offset, label='PyWake')\n",
    "ax2.plot(xd_5_points_sp, yd_5_points_sp, label='Blondel & Cathelain')\n",
    "ax2.scatter(xd_5_points_les, yd_5_points_les, marker='v', facecolor='purple', label='LES')\n",
    "ax2.scatter(xd_5_points_mh, yd_5_points_mh, marker='o', facecolor='None', edgecolor= 'blue',label='Measurements')     \n",
    "ax2.set_title('x/D = 5')\n",
    "ax2.set_ylim([-1,1])\n",
    "ax2.set_xlim([0,0.65])\n",
    "ax2.set_xlabel('1 - U / U_$\\infty$ [-]')\n",
    "ax2.legend(loc='upper right')\n",
    "\n",
    "fig.suptitle('Figure 5', y=1)"
   ],
   "outputs": []
  },
  {
   "cell_type": "markdown",
   "id": "0d86fcc7",
   "metadata": {},
   "source": [
    "The model seems to capture the wake profile pretty well in the near wake, however it tends to overestimate the maximum velocity deficit at the far wake."
   ]
  }
 ],
 "metadata": {
  "kernelspec": {
   "display_name": "Python 3 (ipykernel)",
   "language": "python",
   "name": "python3"
  },
  "language_info": {
   "codemirror_mode": {
    "name": "ipython",
    "version": 3
   },
   "file_extension": ".py",
   "mimetype": "text/x-python",
   "name": "python",
   "nbconvert_exporter": "python",
   "pygments_lexer": "ipython3",
   "version": "3.9.13"
  }
 },
 "nbformat": 4,
 "nbformat_minor": 5
}

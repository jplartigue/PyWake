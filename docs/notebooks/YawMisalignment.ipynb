{
 "cells": [
  {
   "cell_type": "markdown",
   "metadata": {},
   "source": [
    "# Wind Turbine under Yaw Misalignment\n",
    "\n",
    "In case the wind turbine rotor is not perpendicular to the inflow, its operation and effects on the flow field will be different. In general, it is a quite complicated process. In PyWake, the effects are divided into four sub-effects that are handled invididually:\n",
    "\n",
    "1. Change of operation due to reduced inflow wind speed\n",
    "2. Reduced deficit, <font style=\"color:red\">$deficit_{normal}$</font>, due to reduced inflow wind speed, ($C_{T,n} \\rightarrow C_{T,x}$)\n",
    "3. Reduced deficit, <font style=\"color:#CCCC00\">$deficit_{downwind}$</font>, due to misalignment between thrust and downwind direction\n",
    "4. Deflection of wake deficit, <font style=\"color:green\">$deficit_{deflected}$</font>, due to transversal thrust component reaction\n",
    "\n",
    "<img src=\"../_static/wt_in_yaw.svg\" alt=\"drawing\" width=\"700\"/>\n"
   ]
  },
  {
   "cell_type": "markdown",
   "metadata": {},
   "source": [
    "**Install PyWake if needed**"
   ]
  },
  {
   "cell_type": "code",
   "execution_count": 1,
   "metadata": {},
   "source": [
    "# Install PyWake if needed\n",
    "try:\n",
    "    import py_wake\n",
    "except ModuleNotFoundError:\n",
    "    !pip install git+https://gitlab.windenergy.dtu.dk/TOPFARM/PyWake.git"
   ],
   "outputs": []
  },
  {
   "cell_type": "markdown",
   "metadata": {},
   "source": [
    "**First we import some basic Python elements**"
   ]
  },
  {
   "cell_type": "code",
   "execution_count": 2,
   "metadata": {},
   "source": [
    "import numpy as np\n",
    "import matplotlib.pyplot as plt\n",
    "from ipywidgets import interact\n",
    "from ipywidgets import IntSlider"
   ],
   "outputs": []
  },
  {
   "cell_type": "markdown",
   "metadata": {},
   "source": [
    "**We also import the site, wind turbines, and engineering wake models necessary for the simulation**"
   ]
  },
  {
   "cell_type": "code",
   "execution_count": 3,
   "metadata": {},
   "source": [
    "from py_wake.examples.data.hornsrev1 import V80\n",
    "from py_wake.flow_map import HorizontalGrid\n",
    "from py_wake.tests.test_files import tfp\n",
    "from py_wake.wind_farm_models import PropagateDownwind, All2AllIterative\n",
    "from py_wake.deficit_models import FugaYawDeficit\n",
    "from py_wake.deflection_models import FugaDeflection\n",
    "from py_wake.examples.data.hornsrev1 import Hornsrev1Site\n",
    "from py_wake.flow_map import XYGrid\n",
    "\n",
    "wt = V80()\n",
    "site = Hornsrev1Site()"
   ],
   "outputs": []
  },
  {
   "cell_type": "markdown",
   "metadata": {},
   "source": [
    "## Effect 1 - Change of operation due to reduced inflow wind speed\n",
    "\n",
    "The inflow perpendicular to the rotor is reduced by $cos\\theta$.\n",
    "\n",
    "This means that the pitch and rotor speed setting of the WT will be different. In PyWake, the WT operation (pitch and rotor speed settings) is modeled in terms of the **Power and CT curves**. If these curves are specified in terms of the wind speed normal to the rotor, then the wind speed must be multiplied by $cos\\theta$ before looking up the power and CT.\n",
    "\n",
    "This is one of two effects modeled by the `SimpleYawModel`, which is an additional model that is applied as default to most PowerCtFunctions, see [here](#SimpleYawModel) for more details.\n",
    "\n",
    "Note, that below rated rotor speed, the CT curve is typically rather flat and reducing the wind speed has therefore limited effect on the CT value in this region. The power, on the other hand, is limited by the maximum power and therefore only affected in the region below rated wind speed (rated wind speed will increase with yaw misalignment).\n",
    "\n",
    "Furthermore, misalignment between the thrust force (axial induction) and the inflow leads to higher wind speed at the rotor plane, which also affects the WT operation. This effect, however, is not considered in PyWake."
   ]
  },
  {
   "cell_type": "code",
   "execution_count": 4,
   "metadata": {},
   "source": [
    "#here we can see an example of the thrust and power curves for different yaw misalignment angles\n",
    "u = np.arange(3,25,.1)\n",
    "ax1,ax2 = plt.subplots(1,2, figsize=(15,5))[1]\n",
    "\n",
    "#looping through different values for yaw angles\n",
    "for yaw in [0,15,30]:\n",
    "    ax1.plot(u,wt.ct(u*np.cos(np.deg2rad(yaw))), label='%d deg yaw misalignment'%yaw)\n",
    "    ax2.plot(u,wt.power(u*np.cos(np.deg2rad(yaw))), label='%d deg yaw misalignment'%yaw)\n",
    "    \n",
    "for ax in (ax1, ax2):\n",
    "    ax.legend()\n",
    "    ax.set_xlabel('Wind speed [m/s]')\n",
    "ax1.set_ylabel('CT')\n",
    "ax2.set_ylabel('Power [W]')"
   ],
   "outputs": []
  },
  {
   "cell_type": "markdown",
   "metadata": {},
   "source": [
    "## Effect 2 - Reduced deficit due to reduced inflow wind speed ($C_{T,n} \\rightarrow C_{T,x}$)\n",
    "\n",
    "The wake deficit is caused by a reaction to the thrust force, which slows down the inflow.\n",
    "\n",
    "The thrust force normal to the rotor plane is\n",
    "\n",
    "\\begin{align}\n",
    "T_n & =\\frac{1}{2}\\rho C_{T,n} A (U cos\\theta)^2\n",
    "\\end{align}\n",
    "\n",
    "In non-aligned inflow, the thrust force that slows down the flow, i.e. in the mean wind direction is\n",
    "\n",
    "\\begin{align}\n",
    "T_x & =\\frac{1}{2}\\rho C_ {T,x} \\left(A cos\\theta \\right) U^2\n",
    "\\end{align}\n",
    "\n",
    "From these two equations we can find the relationship between the thrust coefficient in the rotor-normal direction, $C_{T,n}$, and the thrust coefficient in the down-wind direction, $C_{T,x}$.\n",
    "\n",
    "\\begin{align}\n",
    "T_x & = T_n cos\\theta \\\\\n",
    "\\frac{1}{2} \\rho C_{T,x} \\left(A cos\\theta \\right) U^2 & = \\frac{1}{2}\\rho C_{T,n} A (U cos\\theta)^2 cos\\theta\\\\\n",
    "C_ {T,x}  & = C_{T,n}  \\cos^2\\theta\n",
    "\\end{align}"
   ]
  },
  {
   "cell_type": "markdown",
   "metadata": {},
   "source": [
    "This is the second effect modeled by the `SimpleYawModel`, which is an additional model that is applied as default to most PowerCtFunctions and is shown below."
   ]
  },
  {
   "cell_type": "markdown",
   "metadata": {},
   "source": [
    "**SimpleYawModel**\n",
    "\n",
    "The `SimpleYawModel` is an additional model, which as default is applied by \n",
    "\n",
    "- `PowerCtFunction`\n",
    "- `PowerCtTabular`\n",
    "- `PowerCtNDTabular`\n",
    "- `PowerCtXr`\n",
    "- `CubePowerSimpleCt`\n",
    "\n",
    "It handles effects 1. and 2. by:\n",
    "\n",
    "1. Compute/look up $C_{T,n}$ based on wind speed $U\\cos\\theta$\n",
    "2. Returns $C_{T,x} = C_{T,n} \\cos^2\\theta$\n"
   ]
  },
  {
   "cell_type": "markdown",
   "metadata": {},
   "source": [
    "## Effect 3 - Reduced deficit due to misalignment between thrust and downwind direction\n",
    "\n",
    "Most engineering models calculate the deficit normal to the rotor plane, while the deficit impacting downstream WT is the deficit in the downstream direction.\n",
    "\n",
    "In case of yaw misalignment, the deficit is therefore mapped to downstream direction by\n",
    "\n",
    "$deficit_{downwind} = deficit_{normal} cos \\theta$\n"
   ]
  },
  {
   "cell_type": "markdown",
   "metadata": {},
   "source": [
    "**To model this effect, PyWake uses the** `FugaYawDeficit` **model.**\n",
    "\n",
    "This model requires two sets of look-up tabels, namely `UL` and `UT`. These tables describes the normalized deficit in the downwind, `U` direction caused by a unit forcing in the longitudinal, L, and transveral, T, directions."
   ]
  },
  {
   "cell_type": "code",
   "execution_count": 5,
   "metadata": {
    "scrolled": true
   },
   "source": [
    "fuga = FugaYawDeficit(tfp + 'fuga/2MW/Z0=0.00001000Zi=00400Zeta0=0.00E+00.nc')\n",
    "D = 80\n",
    "R = D/2\n",
    "x0,x1,y = 1,10,2 #upstream, downstream and crosswind regions to load [D]\n",
    "xi0 = int(512-x0/(fuga.dx/D))\n",
    "xi1 = int(512+x1/(fuga.dx/D))+1\n",
    "yi = int(y/(fuga.dy/D))+1\n",
    "UL, UT = [-fuga.mirror(v,anti_symmetric=a) for v, a in zip(fuga.load_luts()[:2,0,:yi, xi0:xi1], (False,True))]"
   ],
   "outputs": []
  },
  {
   "cell_type": "code",
   "execution_count": 6,
   "metadata": {},
   "source": [
    "axes = plt.subplots(2,1, figsize=(15,12))[1]\n",
    "X, Y = np.meshgrid(fuga.x[xi0:xi1], fuga.mirror(fuga.y[:yi], anti_symmetric=True))\n",
    "wtL = np.array([[0,0],[-D/2,D/2]])\n",
    "for ax, v, l in zip(axes.flatten(), [UL, UT], ['UL','UT']):\n",
    "    c = ax.contourf(X, Y, v)\n",
    "    plt.colorbar(c, ax=ax, label=r'Downwind deficit $\\left[\\frac{1}{U^2 CT}\\right]$')\n",
    "    s = (slice(None,None,2),slice(None,None,5))\n",
    "    ax.quiver(X[s], Y[s], -v[s]*(l[0]=='U'), v[s]*(l[0]=='V'))\n",
    "    ax.plot([0,0],[-D/2,D/2],'r')\n",
    "    if l[1]=='L':\n",
    "        ax.arrow(-10,0,-20,0,color='r', width=10,head_length=30)\n",
    "        ax.arrow(60,0,-20,0,color='r', width=10,head_length=30)\n",
    "    else:\n",
    "        ax.arrow(-30,25,0,-20,color='r', width=10,head_length=30)\n",
    "        ax.arrow(30,25,0,-20,color='r', width=10,head_length=30)\n",
    "        \n",
    "    ax.axis('equal')\n",
    "    ax.set_xlim([-D,10*D])\n",
    "    ax.set_ylim([-D,D])\n",
    "    ax.set_title(l) "
   ],
   "outputs": []
  },
  {
   "cell_type": "markdown",
   "metadata": {},
   "source": [
    "**As Fuga is a linear model, the deficit in the downstream direction can simply be calculated by the linear superposition of** `UL` **and** `UT`:\n",
    "\n",
    "$deficit = (UL \\cdot cos\\theta + UT \\cdot sin\\theta) \\cdot U \\cdot CT$\n",
    "\n",
    "**You can move the slider below to see the deficit fields for different yaw-misalignment angles**"
   ]
  },
  {
   "cell_type": "code",
   "execution_count": 7,
   "metadata": {},
   "source": [
    "def plot(yaw):\n",
    "    plt.figure(figsize=(18,5))\n",
    "    theta = np.deg2rad(yaw)\n",
    "    co, si = np.cos(theta), np.sin(theta)\n",
    "    deficit = co**2*(UL*co + UT*si)\n",
    "    c = plt.contourf(X, Y, deficit,20)#, levels=np.arange(-.4,.1,.05))\n",
    "    plt.colorbar(c, label=r'Downwind deficit $\\left[\\frac{1}{U^2 CT}\\right]$')\n",
    "    s = (slice(None,None,2),slice(None,None,5))\n",
    "    plt.quiver(X[s], Y[s], -deficit[s], deficit[s]*0, width=.002, scale=2)\n",
    "    plt.plot([si*R, -si*R],[-co*R,co*R],'w',label='Rotor',lw=3)\n",
    "    plt.arrow(-0,0,-100*co,0,color='r', width=5,head_length=10,length_includes_head=True)\n",
    "    plt.arrow(-0,-0,0,-100*si,color='r', width=5,head_length=10,length_includes_head=True, zorder=32)\n",
    "    plt.axis('equal')\n",
    "    plt.xlim([-D,10*D])\n",
    "    plt.ylim([-D/2,D/2])\n",
    "    ax.set_title(l) \n",
    "_ = interact(plot, yaw=IntSlider(min=-90, max=90, step=1, value=20, continuous_update=False))"
   ],
   "outputs": []
  },
  {
   "cell_type": "markdown",
   "metadata": {},
   "source": [
    "## Effect 4 - Wake deflection due to traversal thrust component reaction\n",
    "\n",
    "Wake deflection is modeled by a `DeflectionModel`, which modifies the downwind, horizontal crosswind and vertical distance between wind turbines."
   ]
  },
  {
   "cell_type": "markdown",
   "metadata": {},
   "source": [
    "**The** `FugaDeflection` **is capable of modeling the wake deflection if** `VL` **and** `VT` **is known.**\n",
    "\n",
    "These tables describes the normalized deficit in the crosswind, `V` direction caused by a unit forcing in the longitudinal, L, and transveral, T, directions."
   ]
  },
  {
   "cell_type": "code",
   "execution_count": 8,
   "metadata": {},
   "source": [
    "fugaDeflection = FugaDeflection(tfp + 'fuga/2MW/Z0=0.00001000Zi=00400Zeta0=0.00E+00.nc')\n",
    "D = 80\n",
    "R = D/2\n",
    "x0,x1,y = 1,10,2 #upstream, downstream and crosswind regions to load [D]\n",
    "xi0 = int(512-x0/(fugaDeflection.dx/D))\n",
    "xi1 = int(512+x1/(fugaDeflection.dx/D))+1\n",
    "yi = int(y/(fugaDeflection.dy/D))+1\n",
    "\n",
    "# VL is antisymmetric, VT is symmetric\n",
    "VL, VT = [fugaDeflection.mirror(v,anti_symmetric=a) for v, a in zip(fugaDeflection.load_luts()[2:4,0,:yi, xi0:xi1], (True, False))]"
   ],
   "outputs": []
  },
  {
   "cell_type": "code",
   "execution_count": 9,
   "metadata": {},
   "source": [
    "axes = plt.subplots(2,1, figsize=(15,12))[1]\n",
    "X, Y = np.meshgrid(fugaDeflection.x[xi0:xi1], fugaDeflection.mirror(fugaDeflection.y[:yi], anti_symmetric=True))\n",
    "for ax, v, l in zip(axes.flatten(), [-VL, VT], ['VL','VT']):\n",
    "    c = ax.contourf(X, Y, v)\n",
    "    plt.colorbar(c, ax=ax, label=r'$WS_{Crosswind} \\left[\\frac{1}{U^2 CT}\\right]$')\n",
    "    s = (slice(None,None,10),slice(None,None,1))\n",
    "    ax.quiver(X[s], Y[s], 0, v[s], scale=(.3,3)[l[1]=='T'])\n",
    "    ax.plot([0,0],[-D/2,D/2],'r')\n",
    "    if l[1]=='L':\n",
    "        ax.arrow(-10,0,-20,0,color='r', width=10,head_length=30)\n",
    "        ax.arrow(60,0,-20,0,color='r', width=10,head_length=30)\n",
    "    else:\n",
    "        ax.arrow(-30,25,0,-20,color='r', width=10,head_length=30)\n",
    "        ax.arrow(30,25,0,-20,color='r', width=10,head_length=30)\n",
    "        \n",
    "    ax.axis('equal')\n",
    "    ax.set_xlim([-D,10*D])\n",
    "    ax.set_ylim([-D,D])\n",
    "    ax.set_title(l) "
   ],
   "outputs": []
  },
  {
   "cell_type": "markdown",
   "metadata": {},
   "source": [
    "**As Fuga is a linear model, the effects in the crosswind direction can simply be calculated by linear superposition of** `VL` **and** `VT`:\n",
    "\n",
    "$WS_{crosswind} = (VL \\cdot cos\\theta + VT \\cdot sin\\theta) \\cdot U \\cdot CT$\n",
    "\n",
    "**You can move the slider below to see the crosswind wind speed field for different yaw-misalignment angles. Furthermore, the integrated deflection is shown with solid lines**"
   ]
  },
  {
   "cell_type": "code",
   "execution_count": 10,
   "metadata": {},
   "source": [
    "def plot(yaw):\n",
    "    plt.figure(figsize=(18,5))\n",
    "    theta = np.deg2rad(yaw)\n",
    "    co, si = np.cos(theta), np.sin(theta)\n",
    "    V = co**2*(-VL*co + VT*si)\n",
    "    X, Y = np.meshgrid(fugaDeflection.x[xi0:xi1], fugaDeflection.mirror(fugaDeflection.y[:yi], anti_symmetric=True))\n",
    "    c = plt.contourf(X, Y, V)#, levels=np.arange(-.09,.1,.01))\n",
    "    plt.colorbar(c, label=r'$WS_{crosswind} \\left[\\frac{1}{U CT}\\right]$')\n",
    "    s = (slice(None,None,6),slice(None,None,1))\n",
    "    plt.quiver(X[s], Y[s], V[s]*0, V[s], width=.002, scale=2)\n",
    "    \n",
    "    # plot deflection lines\n",
    "    fL, fT = fugaDeflection.fLT.V.T[:,256-yi:255+yi, xi0:xi1]\n",
    "    lambda2p = co**2 * (fL * co - fT * si)\n",
    "    y = fugaDeflection.mirror(fugaDeflection.y[:yi], anti_symmetric=True)\n",
    "   \n",
    "    lambda2 = np.array([np.interp(y, y + l2p, l2p) for l2p in lambda2p.T])\n",
    "    Yp = Y + lambda2.T\n",
    "    plt.plot(X[yi, :], Y[yi, :], 'grey', lw=3)\n",
    "    for x, y, yp in zip(X[1::4], Y[1::4], Yp[1::4]):\n",
    "        plt.plot(x, y, 'grey', lw=1, zorder=-32)\n",
    "        plt.plot(x, yp, 'k', lw=1)\n",
    "    plt.plot(X[yi, :], Yp[yi, :], 'k', lw=3)\n",
    "    \n",
    "    plt.plot([si*R, -si*R],[-co*R,co*R],'w',label='Rotor',lw=3)\n",
    "    plt.arrow(-0,0,-50*co,0,color='r', width=5,head_length=10,length_includes_head=True, zorder=32)\n",
    "    plt.arrow(-0,-0,0,-50*si,color='r', width=5,head_length=10,length_includes_head=True, zorder=32)\n",
    "    plt.axis('equal')\n",
    "    plt.xlim([-D,10*D])\n",
    "    plt.ylim([-D,D])\n",
    "    ax.set_title(l) \n",
    "_ = interact(plot, yaw=IntSlider(min=-90, max=90, step=1, value=20, continuous_update=False))"
   ],
   "outputs": []
  },
  {
   "cell_type": "markdown",
   "metadata": {},
   "source": [
    "Note, the plot above shows the wind speed in cross-wind direction (up), i.e. yellow colors corresponds to a flow towards the top of the figure, while blue corresponds to a flow towards the bottom."
   ]
  },
  {
   "cell_type": "markdown",
   "metadata": {},
   "source": [
    "**Finally, all effects are put together. You can move the slider below to see the effects on the deficit behind a WT.**"
   ]
  },
  {
   "cell_type": "code",
   "execution_count": 11,
   "metadata": {},
   "source": [
    "path = tfp + 'fuga/2MW/Z0=0.00001000Zi=00400Zeta0=0.00E+00.nc'\n",
    "fugaDeficit = FugaYawDeficit(path)\n",
    "wfm = All2AllIterative(site,wt,fugaDeficit,blockage_deficitModel=fugaDeficit,                       \n",
    "                       deflectionModel=FugaDeflection(path)\n",
    "                       )\n",
    "def plot(yaw):\n",
    "    plt.figure(figsize=(18,5))\n",
    "    fm = wfm([0],[0],ws=10,wd=270, yaw=[[[yaw]]]).flow_map(XYGrid(x=np.arange(-100,800,10), y=np.arange(-250,250,10)))\n",
    "    X,Y = np.meshgrid(fm.x, fm.y)\n",
    "    c1 = plt.contourf(X,Y,fm.WS_eff.squeeze(),np.arange(6.5,10.1,0.1), cmap='Blues_r')\n",
    "    c2 = plt.contourf(X,Y,fm.WS_eff.squeeze(),np.arange(10,10.2,.005), cmap='Reds')\n",
    "    plt.colorbar(c2, label='Wind speed (deficit regions) [m/s]')\n",
    "    plt.colorbar(c1, label='Wind speed (speed-up regions) [m/s]')\n",
    "    wt.plot([0],[0],wd=270,yaw=yaw)\n",
    "    max_deficit_line = fm.min_WS_eff(x=np.arange(-100,800,10))\n",
    "    max_deficit_line.plot(color='k', label='Max deficit line')\n",
    "    plt.axhline(0, label='Center line')\n",
    "    plt.legend()\n",
    "    \n",
    "    \n",
    "_ = interact(plot, yaw=IntSlider(min=-90, max=90, step=1, value=20, continuous_update=False))    "
   ],
   "outputs": []
  },
  {
   "cell_type": "markdown",
   "metadata": {},
   "source": [
    "Note, the scaling of wake deficit(blue) and speedup(red) does not match"
   ]
  }
 ],
 "metadata": {
  "kernelspec": {
   "display_name": "Python 3 (ipykernel)",
   "language": "python",
   "name": "python3"
  },
  "language_info": {
   "codemirror_mode": {
    "name": "ipython",
    "version": 3
   },
   "file_extension": ".py",
   "mimetype": "text/x-python",
   "name": "python",
   "nbconvert_exporter": "python",
   "pygments_lexer": "ipython3",
   "version": "3.9.13"
  },
  "toc": {
   "base_numbering": 1,
   "nav_menu": {},
   "number_sections": true,
   "sideBar": true,
   "skip_h1_title": false,
   "title_cell": "Table of Contents",
   "title_sidebar": "Contents",
   "toc_cell": false,
   "toc_position": {
    "height": "calc(100% - 180px)",
    "left": "10px",
    "top": "150px",
    "width": "165px"
   },
   "toc_section_display": true,
   "toc_window_display": false
  }
 },
 "nbformat": 4,
 "nbformat_minor": 4
}

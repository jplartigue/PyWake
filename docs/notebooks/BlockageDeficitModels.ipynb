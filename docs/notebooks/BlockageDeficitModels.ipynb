{
 "cells": [
  {
   "cell_type": "markdown",
   "id": "70decd91",
   "metadata": {},
   "source": [
    "# Blockage Deficit Models"
   ]
  },
  {
   "cell_type": "markdown",
   "id": "52f331c6",
   "metadata": {},
   "source": [
    "**The blockage deficit models compute the blockage effects caused by a single wind turbine.**\n",
    "\n",
    "Their structure are quite similar to the [Wake Deficit Models](WakeDeficitModels.ipynb). They model upstream blockage effects (wind speed reduction) and in addition, some models also models downstream speed-up effects. There are several blockage models available, which include:\n",
    "\n",
    "- [SelfSimilarityDeficit](#SelfSimilarityDeficit)\n",
    "- [SelfSimilarityDeficit2020](#SelfSimilarityDeficit2020)\n",
    "- [FugaDeficit](#FugaDeficit)\n",
    "- [VortexCylinder](#VortexCylinder)\n",
    "- [VortexDipole](#VortexDipole)\n",
    "- [RankineHalfBody](#RankineHalfBody)\n",
    "- [HybridInduction](#HybridInduction)\n",
    "- [Rathmann](#Rathmann)"
   ]
  },
  {
   "cell_type": "markdown",
   "id": "5a498c19",
   "metadata": {},
   "source": [
    "**Install PyWake if needed**"
   ]
  },
  {
   "cell_type": "code",
   "execution_count": 1,
   "id": "c2e57f02",
   "metadata": {},
   "source": [
    "# Install PyWake if needed\n",
    "try:\n",
    "    import py_wake\n",
    "except ModuleNotFoundError:\n",
    "    !pip install git+https://gitlab.windenergy.dtu.dk/TOPFARM/PyWake.git"
   ],
   "outputs": []
  },
  {
   "cell_type": "code",
   "execution_count": 6,
   "id": "780b724c",
   "metadata": {},
   "source": [
    "import numpy as np\n",
    "import matplotlib.pyplot as plt\n",
    "from matplotlib import cm\n",
    "from matplotlib.colors import ListedColormap, LinearSegmentedColormap\n",
    "\n",
    "# import and setup site and windTurbines\n",
    "import py_wake\n",
    "from py_wake.examples.data.hornsrev1 import V80, Hornsrev1Site\n",
    "\n",
    "site = Hornsrev1Site()\n",
    "windTurbines = V80()\n",
    "wt_x, wt_y = site.initial_position.T"
   ],
   "outputs": []
  },
  {
   "cell_type": "code",
   "execution_count": 7,
   "id": "6ff1d8b2",
   "metadata": {},
   "source": [
    "from py_wake.deficit_models.deficit_model import WakeDeficitModel, BlockageDeficitModel\n",
    "from py_wake.deficit_models.no_wake import NoWakeDeficit\n",
    "from py_wake.site._site import UniformSite\n",
    "from py_wake.flow_map import XYGrid\n",
    "from py_wake.turbulence_models import CrespoHernandez\n",
    "from py_wake.utils.plotting import setup_plot\n",
    "from py_wake.wind_farm_models import All2AllIterative\n",
    "\n",
    "#turbine diameter\n",
    "D = 80\n",
    "\n",
    "def get_flow_map(model=None, grid=XYGrid(x=np.linspace(-200, 500, 200), y=np.linspace(-200, 200, 200), h=70),\n",
    "                 turbulenceModel=CrespoHernandez()):\n",
    "    blockage_deficitModel = [None, model][isinstance(model, BlockageDeficitModel)]\n",
    "    wake_deficitModel = [NoWakeDeficit(), model][isinstance(model, WakeDeficitModel)]\n",
    "    wfm = All2AllIterative(UniformSite(), V80(), wake_deficitModel=wake_deficitModel, blockage_deficitModel=blockage_deficitModel,\n",
    "                           turbulenceModel=turbulenceModel)\n",
    "    return wfm(x=[0], y=[0], wd=270, ws=10, yaw=0).flow_map(grid)\n",
    "\n",
    "def plot_deficit_map(model, cmap='Blues', levels=np.linspace(0, 10, 55)):\n",
    "    fm = get_flow_map(model)\n",
    "    fm.plot(fm.ws - fm.WS_eff, clabel='Deficit [m/s]', levels=levels, cmap=cmap, normalize_with=D)\n",
    "    setup_plot(grid=False, ylabel=\"Crosswind distance [y/D]\", xlabel= \"Downwind distance [x/D]\",\n",
    "               xlim=[fm.x.min()/D, fm.x.max()/D], ylim=[fm.y.min()/D, fm.y.max()/D], axis='auto')\n",
    "\n",
    "def plot_blockage_deficit_map(model):\n",
    "    from matplotlib import cm\n",
    "    from matplotlib.colors import ListedColormap, LinearSegmentedColormap\n",
    "    cmap = np.r_[cm.Reds_r(np.linspace(-0,1,127)),[[1,1,1,1],[1,1,1,1]],cm.Blues(np.linspace(-0,1,128))] # ensure zero deficit is white\n",
    "    plot_deficit_map(model,cmap=ListedColormap(cmap), levels=np.linspace(-3.5,3.5,113))"
   ],
   "outputs": []
  },
  {
   "cell_type": "markdown",
   "id": "d3656fa0",
   "metadata": {},
   "source": [
    "### SelfSimilarityDeficit\n",
    "Simple induction model, described in [N. Troldborg, A.R. Meyer Fortsing, Wind Energy, 2016](https://onlinelibrary.wiley.com/doi/full/10.1002/we.2137)"
   ]
  },
  {
   "cell_type": "code",
   "execution_count": 8,
   "id": "686f35b4",
   "metadata": {},
   "source": [
    "from py_wake.deficit_models import SelfSimilarityDeficit\n",
    "plot_blockage_deficit_map(SelfSimilarityDeficit())"
   ],
   "outputs": []
  },
  {
   "cell_type": "markdown",
   "id": "60b6807b",
   "metadata": {},
   "source": [
    "### SelfSimilarityDeficit2020\n",
    "\n",
    "This is an updated version of [N. Troldborg, A.R. Meyer Fortsing, Wind Energy, 2016](https://onlinelibrary.wiley.com/doi/full/10.1002/we.2137). The new features are found in the radial and axial functions:\n",
    "\n",
    "1. Radially Eq. (13) is replaced by a linear fit, which ensures the induction half width, `r12`, to continue to diminish approaching the rotor. This avoids unphysically large lateral induction tails, which could negatively influence wind farm simulations.\n",
    "2. The value of gamma in Eq. (8) is revisited. Now gamma is a function of CT and axial coordinate to force the axial induction to match the simulated results more closely. The fit is valid over a larger range of thrust coefficients and the results of the constantly loaded rotor are excluded in the fit."
   ]
  },
  {
   "cell_type": "code",
   "execution_count": 9,
   "id": "81d8d99d",
   "metadata": {},
   "source": [
    "from py_wake.deficit_models import SelfSimilarityDeficit2020\n",
    "plot_blockage_deficit_map(SelfSimilarityDeficit2020())"
   ],
   "outputs": []
  },
  {
   "cell_type": "markdown",
   "id": "4b66bc74",
   "metadata": {},
   "source": [
    "### FugaDeficit\n",
    "\n",
    "The FugaDeficit model calculates the wake deficit based on a set op look-up tables computed by a linearized RANS solver. The look-up tables be created in advance using the [Fuga GUI](https://orbit.dtu.dk/en/publications/developments-of-the-offshore-wind-turbine-wake-model-fuga).\n",
    "\n",
    "The FugaDeficit models the near wake, far wake and blockage deficit effects.\n",
    "\n",
    "Note, the present look-up table generator introduces some unphysical wriggles in the blockage deficit/speed-up."
   ]
  },
  {
   "cell_type": "code",
   "execution_count": 10,
   "id": "3d7c3a21",
   "metadata": {},
   "source": [
    "from py_wake.deficit_models import FugaDeficit\n",
    "plot_blockage_deficit_map(FugaDeficit())"
   ],
   "outputs": []
  },
  {
   "cell_type": "markdown",
   "id": "8ebdc672",
   "metadata": {},
   "source": [
    "### VortexCylinder\n",
    "\n",
    "Induced velocity from a semi-infinite cylinder of tangential vorticity, extending along the z axis.\n",
    "\n",
    "This model is an adapted version of the one published by Emmanuel Branlard at https://github.com/ebranlard/wiz/blob/master/wiz/VortexCylinder.py\n",
    "\n",
    "References:\n",
    "\n",
    "- E. Branlard, M. Gaunaa, Cylindrical vortex wake model: right cylinder, Wind Energy, 2014, https://onlinelibrary.wiley.com/doi/full/10.1002/we.1800\n",
    "- E. Branlard, Wind Turbine Aerodynamics and Vorticity Based Method, Springer, 2017\n",
    "- E. Branlard, A. Meyer Forsting, Using a cylindrical vortex model to assess the induction zone in front of aligned and yawed rotors, in Proceedings of EWEA Offshore Conference, 2015, https://orbit.dtu.dk/en/publications/using-a-cylindrical-vortex-model-to-assess-the-induction-zone-inf"
   ]
  },
  {
   "cell_type": "code",
   "execution_count": 11,
   "id": "897038ef",
   "metadata": {},
   "source": [
    "from py_wake.deficit_models import VortexCylinder\n",
    "plot_blockage_deficit_map(VortexCylinder())"
   ],
   "outputs": []
  },
  {
   "cell_type": "markdown",
   "id": "3941802a",
   "metadata": {},
   "source": [
    "### VortexDipole\n",
    "\n",
    "The vorticity originating from a wind turbine can be represented by a vortex dipole line (see Appendix B in [2]). The induction estimated by such a representation is very similar to the results given by the more complex vortex cylinder model in the far-field r/R > 6 [1,2]. The implementation follows the relationships given in [1,2]. This model is an adapted version of the one published by Emmanuel Branlard: https://github.com/ebranlard/wiz/blob/master/wiz/VortexDoublet.py\n",
    "\n",
    "References:\n",
    "- [1] Emmanuel Branlard et al 2020 J. Phys.: Conf. Ser. 1618 062036\n",
    "- [2] Branlard, E, Meyer Forsting, AR. Wind Energy. 2020; 23: 2068– 2086.  https://doi.org/10.1002/we.2546"
   ]
  },
  {
   "cell_type": "code",
   "execution_count": 12,
   "id": "cbb489ce",
   "metadata": {},
   "source": [
    "from py_wake.deficit_models import VortexDipole\n",
    "plot_blockage_deficit_map(VortexDipole())"
   ],
   "outputs": []
  },
  {
   "cell_type": "markdown",
   "id": "79ba5ced",
   "metadata": {},
   "source": [
    "### RankineHalfBody\n",
    "\n",
    "A simple induction model using a Rankine Half Body to represent the induction introduced by a wind turbine. The source strength is determined enforcing 1D momentum balance at the rotor disc.\n",
    "\n",
    "References:\n",
    "\n",
    "- B Gribben, G Hawkes - A potential flow model for wind turbine induction and wind farm blockage - Technical Paper, Frazer-Nash Consultancy, 2019"
   ]
  },
  {
   "cell_type": "code",
   "execution_count": 13,
   "id": "09867898",
   "metadata": {},
   "source": [
    "from py_wake.deficit_models import RankineHalfBody\n",
    "plot_blockage_deficit_map(RankineHalfBody())"
   ],
   "outputs": []
  },
  {
   "cell_type": "markdown",
   "id": "d6929448",
   "metadata": {},
   "source": [
    "### HybridInduction\n",
    "The idea behind this model originates from [2,3], which advocates to combine near-rotor and farfield approximations of a rotor's induced velocities. Whereas in [1,2] the motivation is to reduce the computational effort, here the already very fast self-similar model [1] is combined with the vortex dipole approximation in the far-field, as the self-similar one is optimized for the near-field (r/R > 6, x/R < 1) and misses the acceleration around the wake for x/R > 0. The combination of both allows capturing the redistribution of energy by blockage. Location at which to switch from near-rotor to far-field can be altered though by setting switch_radius.\n",
    "\n",
    "References:\n",
    "1. N. Troldborg, A.R. Meyer Fortsing, Wind Energy, 2016\n",
    "2. Emmanuel Branlard et al 2020 J. Phys.: Conf. Ser. 1618 062036\n",
    "3. Branlard, E, Meyer Forsting, AR. Wind Energy. 2020; 23: 2068– 2086. https://doi.org/10.1002/we.2546"
   ]
  },
  {
   "cell_type": "code",
   "execution_count": 14,
   "id": "1e6cb5be",
   "metadata": {},
   "source": [
    "from py_wake.deficit_models import HybridInduction\n",
    "plot_blockage_deficit_map(HybridInduction())"
   ],
   "outputs": []
  },
  {
   "cell_type": "markdown",
   "id": "a3b125a2",
   "metadata": {},
   "source": [
    "### Rathmann\n",
    "\n",
    "Ole Sten Rathmann (DTU) developed in 2020 an approximation to the vortex cylinder solution (E. Branlard and M. Gaunaa, 2014). In speed it is comparable to the vortex dipole method, whilst giving a flow-field nearly identical to the vortex cylinder model for x/R < -1. Its centreline deficit is identical to the vortex cylinder model, whilst using a radial shape function that depends on the opening of the vortex cylinder seen from a point upstream. To simulate the speed-up downstream the deficit is mirrored in the rotor plane with a sign change."
   ]
  },
  {
   "cell_type": "code",
   "execution_count": 15,
   "id": "c237252f",
   "metadata": {},
   "source": [
    "from py_wake.deficit_models import Rathmann\n",
    "plot_blockage_deficit_map(Rathmann())"
   ],
   "outputs": []
  },
  {
   "cell_type": "markdown",
   "id": "6217fc14",
   "metadata": {},
   "source": [
    "### Comparing different blockage deficit models"
   ]
  },
  {
   "cell_type": "code",
   "execution_count": 16,
   "id": "c94d0fee",
   "metadata": {},
   "source": [
    "from py_wake.utils.model_utils import get_models\n",
    "from py_wake.deficit_models.deficit_model import BlockageDeficitModel\n",
    "\n",
    "blockage_deficitModels = get_models(BlockageDeficitModel, exclude_None=True)\n",
    "for deficitModel in blockage_deficitModels:\n",
    "    print (deficitModel.__name__)"
   ],
   "outputs": []
  },
  {
   "cell_type": "markdown",
   "id": "0c84859c",
   "metadata": {},
   "source": [
    "**1) Deficit along center line**"
   ]
  },
  {
   "cell_type": "code",
   "execution_count": 17,
   "id": "82c2335e",
   "metadata": {},
   "source": [
    "plt.figure(figsize=((10,6)))\n",
    "for i, deficitModel in enumerate(blockage_deficitModels):\n",
    "    fm = get_flow_map(deficitModel(), XYGrid(x=np.linspace(-400,100,300), y=0))\n",
    "    plt.plot(fm.x, 10-fm.WS_eff.squeeze(), ('-','--')[i//10], label=deficitModel.__name__)\n",
    "setup_plot(title=\"Center line deficit\", xlabel='x/D', ylabel='Deficit [m/s]')"
   ],
   "outputs": []
  },
  {
   "cell_type": "markdown",
   "id": "1d4af2f9",
   "metadata": {},
   "source": [
    "**2) Deficit profile 1 up- and downstream**"
   ]
  },
  {
   "cell_type": "code",
   "execution_count": 18,
   "id": "8efc6588",
   "metadata": {},
   "source": [
    "for d in [-1,1]:\n",
    "    plt.figure(figsize=((10,6)))\n",
    "    for i, deficitModel in enumerate(blockage_deficitModels):\n",
    "        fm = get_flow_map(deficitModel(), XYGrid(x=d*D, y=np.linspace(-200,200,300)))\n",
    "        plt.plot(fm.y, 10-fm.WS_eff.squeeze(), ('-','--')[i//10], label=deficitModel.__name__)\n",
    "    setup_plot(title=\"%sD %sstream\"%(abs(d),('down','up')[d<0]), xlabel='x/D', ylabel='Deficit [m/s]')"
   ],
   "outputs": []
  }
 ],
 "metadata": {
  "kernelspec": {
   "display_name": "Python 3 (ipykernel)",
   "language": "python",
   "name": "python3"
  },
  "language_info": {
   "codemirror_mode": {
    "name": "ipython",
    "version": 3
   },
   "file_extension": ".py",
   "mimetype": "text/x-python",
   "name": "python",
   "nbconvert_exporter": "python",
   "pygments_lexer": "ipython3",
   "version": "3.9.13"
  }
 },
 "nbformat": 4,
 "nbformat_minor": 5
}

{
 "cells": [
  {
   "cell_type": "markdown",
   "id": "4ffb52fe",
   "metadata": {},
   "source": [
    "# Wake Deficit Models"
   ]
  },
  {
   "cell_type": "markdown",
   "id": "a6ee6833",
   "metadata": {},
   "source": [
    "The wake deficit models compute the wake deficit caused by a single wind turbine. In PyWake, there are several wake deficit models, which include:\n",
    "\n",
    "- [NOJDeficit](#NOJDeficit)\n",
    "- [TurboNOJDeficit](#TurboNOJDeficit)\n",
    "- [FugaDeficit](#FugaDeficit)\n",
    "- [BastankhahGaussianDeficit](#BastankhahGaussianDeficit)\n",
    "- [IEA37SimpleBastankhahGaussianDeficit](#IEA37SimpleBastankhahGaussianDeficit)\n",
    "- [NiayifarGaussianDeficit](#NiayifarGaussianDeficit)\n",
    "- [ZongGaussianDeficit](#ZongGaussianDeficit)\n",
    "- [CarbajofuertesGaussianDeficit](#CarbajofuertesGaussianDeficit)\n",
    "- [TurboGaussianDeficit](#TurboGaussianDeficit)\n",
    "- [GCLDeficit](#GCLDeficit)\n",
    "- [SuperGaussianDeficit](#SuperGaussianDeficit)\n",
    "\n",
    "**Note**: The implementation of the deficit models is highly vectorized and therefore suffixes are used to indicate the dimension of variables. The suffixes used in this context are:\n",
    "\n",
    "- i: source wind turbines\n",
    "- j: destination wind turbines\n",
    "- k: wind speeds\n",
    "- l: wind directions\n",
    "\n",
    "**This means that** `deficit_ijlk[0,1,2,3]` **holds the deficit caused by the first turbine on the second turbine for the third  wind direction and fourth wind speed**."
   ]
  },
  {
   "cell_type": "markdown",
   "id": "b9f96e52",
   "metadata": {},
   "source": [
    "**Install PyWake if needed**"
   ]
  },
  {
   "cell_type": "code",
   "execution_count": 1,
   "id": "e91cda30",
   "metadata": {},
   "source": [
    "# Install PyWake if needed\n",
    "try:\n",
    "    import py_wake\n",
    "except ModuleNotFoundError:\n",
    "    !pip install git+https://gitlab.windenergy.dtu.dk/TOPFARM/PyWake.git"
   ],
   "outputs": []
  },
  {
   "cell_type": "code",
   "execution_count": 2,
   "id": "b0054635",
   "metadata": {},
   "source": [
    "#here we import all wake deficit models available in PyWake\n",
    "import numpy as np\n",
    "import matplotlib.pyplot as plt\n",
    "import os\n",
    "import py_wake\n",
    "\n",
    "from py_wake.examples.data.hornsrev1 import V80, Hornsrev1Site\n",
    "\n",
    "site = Hornsrev1Site()\n",
    "windTurbines = V80()\n",
    "\n",
    "from py_wake import NOJ\n",
    "from py_wake import Fuga\n",
    "from py_wake import FugaBlockage\n",
    "from py_wake import BastankhahGaussian\n",
    "\n",
    "# Path to Fuga look-up tables\n",
    "lut_path = os.path.dirname(py_wake.__file__)+'/tests/test_files/fuga/2MW/Z0=0.03000000Zi=00401Zeta0=0.00E+00.nc'\n",
    "\n",
    "models = {'NOJ': NOJ(site,windTurbines), \n",
    "          'Fuga': Fuga(lut_path,site,windTurbines),\n",
    "          'FugaBlockage': FugaBlockage(lut_path,site,windTurbines), \n",
    "          'BGaus': BastankhahGaussian(site,windTurbines)\n",
    "         }"
   ],
   "outputs": []
  },
  {
   "cell_type": "markdown",
   "id": "72cb7970",
   "metadata": {},
   "source": [
    "In addition, these models can easily be combined with other models to better describe the wake behind the turbine, e.g. NOJ with linear sum superposition:"
   ]
  },
  {
   "cell_type": "code",
   "execution_count": 3,
   "id": "64d9aa29",
   "metadata": {},
   "source": [
    "from py_wake.superposition_models import LinearSum\n",
    "\n",
    "models['NOJLinear'] = NOJ(site,windTurbines,superpositionModel=LinearSum())"
   ],
   "outputs": []
  },
  {
   "cell_type": "markdown",
   "id": "e55e4616",
   "metadata": {},
   "source": [
    "Or models can be combined in custom ways, e.g. `NOJDeficit` for the wake, `LinearSum` superposition and `SelfSimilarityDeficit` for the blockage:"
   ]
  },
  {
   "cell_type": "code",
   "execution_count": 4,
   "id": "5f8072cb",
   "metadata": {},
   "source": [
    "from py_wake.wind_farm_models import All2AllIterative\n",
    "from py_wake.deficit_models import NOJDeficit, SelfSimilarityDeficit\n",
    "\n",
    "models['NOJ_ss'] = All2AllIterative(site,windTurbines,\n",
    "                                          wake_deficitModel=NOJDeficit(),\n",
    "                                          superpositionModel=LinearSum(), \n",
    "                                          blockage_deficitModel=SelfSimilarityDeficit())"
   ],
   "outputs": []
  },
  {
   "cell_type": "markdown",
   "id": "5ddab074",
   "metadata": {},
   "source": [
    "##  Definition and configuration\n",
    "\n",
    "First, we create some functions to visualize wake maps for different conditions and wake models."
   ]
  },
  {
   "cell_type": "code",
   "execution_count": 5,
   "id": "e52c3415",
   "metadata": {},
   "source": [
    "from matplotlib import cm\n",
    "from matplotlib.colors import ListedColormap, LinearSegmentedColormap\n",
    "from py_wake.deficit_models.deficit_model import WakeDeficitModel, BlockageDeficitModel\n",
    "from py_wake.deficit_models.no_wake import NoWakeDeficit\n",
    "from py_wake.site._site import UniformSite\n",
    "from py_wake.flow_map import XYGrid\n",
    "from py_wake.turbulence_models import CrespoHernandez\n",
    "from py_wake.utils.plotting import setup_plot\n",
    "\n",
    "#turbine diameter\n",
    "D = 80\n",
    "\n",
    "def get_flow_map(model=None, grid=XYGrid(x=np.linspace(-200, 500, 200), y=np.linspace(-200, 200, 200), h=70),\n",
    "                 turbulenceModel=CrespoHernandez()):\n",
    "    blockage_deficitModel = [None, model][isinstance(model, BlockageDeficitModel)]\n",
    "    wake_deficitModel = [NoWakeDeficit(), model][isinstance(model, WakeDeficitModel)]\n",
    "    wfm = All2AllIterative(UniformSite(), V80(), wake_deficitModel=wake_deficitModel, blockage_deficitModel=blockage_deficitModel,\n",
    "                           turbulenceModel=turbulenceModel)\n",
    "    return wfm(x=[0], y=[0], wd=270, ws=10, yaw=0).flow_map(grid)\n",
    "\n",
    "def plot_deficit_map(model, cmap='Blues', levels=np.linspace(0, 10, 55)):\n",
    "    fm = get_flow_map(model)\n",
    "    fm.plot(fm.ws - fm.WS_eff, clabel='Deficit [m/s]', levels=levels, cmap=cmap, normalize_with=D)\n",
    "    setup_plot(grid=False, ylabel=\"Crosswind distance [y/D]\", xlabel= \"Downwind distance [x/D]\",\n",
    "               xlim=[fm.x.min()/D, fm.x.max()/D], ylim=[fm.y.min()/D, fm.y.max()/D], axis='auto')\n",
    "\n",
    "def plot_wake_deficit_map(model):\n",
    "    cmap = np.r_[[[1,1,1,1],[1,1,1,1]],cm.Blues(np.linspace(-0,1,128))] # ensure zero deficit is white\n",
    "    plot_deficit_map(model,cmap=ListedColormap(cmap))"
   ],
   "outputs": []
  },
  {
   "cell_type": "markdown",
   "id": "3f583463",
   "metadata": {},
   "source": [
    "**Below are the two models in PyWake that follow a top-hat shape, and are only valid in the far wake.**"
   ]
  },
  {
   "cell_type": "markdown",
   "id": "8072528b",
   "metadata": {},
   "source": [
    "## NOJDeficit\n",
    "\n",
    "The NOJDeficit model is implemented according to Niels Otto Jensen, \"A note on wind generator interaction.\" (1983), i.e. a top-hat wake.\n",
    "\n",
    "According to Jensen, the velocity in the wake $V$ is defined as:\n",
    "\n",
    "$$V = U\\left(1 - 2a\\left(\\frac{r_o}{r_o + \\alpha x}\\right)^2\\right)$$\n",
    "\n",
    "where $U$ is the free stream velocity, $r_o$ the wake radius, $x$ the downstream distance and $\\alpha$ the entraintment constant (with a value of 0.1).\n",
    "\n",
    "Only valid in the far wake."
   ]
  },
  {
   "cell_type": "code",
   "execution_count": 6,
   "id": "8933706a",
   "metadata": {},
   "source": [
    "from py_wake.deficit_models import NOJDeficit\n",
    "plot_wake_deficit_map(NOJDeficit())"
   ],
   "outputs": []
  },
  {
   "cell_type": "markdown",
   "id": "6eaeac9c",
   "metadata": {},
   "source": [
    "## TurboNOJDeficit\n",
    "\n",
    "Implemented according to Nygaard 2020 J. Phys.: Conf. Ser. 1618 062072 https://doi.org/10.1088/1742-6596/1618/6/062072 [1].\n",
    "\n",
    "Modified definition of the wake expansion given by Nygaard [1], which assumes the wake expansion rate to be proportional to the local turbulence intensity in the wake. Here the local turbulence intensity is defined as the combination of ambient and wake added turbulence. Using the added wake turbulence model by Frandsen and integrating, an analytical expression for the wake radius can be obtained.\n",
    "\n",
    "The definition in [1] of ambient turbulence is the free-stream TI and for this the model constant A has been tuned, however a fully consistent formulation of the model should probably use the locally effective TI, which includes the added turbulence from upstream turbines. \n",
    "\n",
    "The velocity deficit is calculated as in the `NOJDeficit` model, with a modification of the wake radius term $r_o$, given by:\n",
    "\n",
    "$$\n",
    "\\begin{aligned}\n",
    "D_w(x)=0.5 + & \\frac{A I_0 D}{\\beta} \\\\ & \\times \\left(\\sqrt{(\\alpha+\\beta x / D)^2+1}-\\sqrt{1+\\alpha^2}-\\ln \\left[\\frac{\\left(\\sqrt{(\\alpha+\\beta x / D)^2+1}+1\\right) \\alpha}{\\left(\\sqrt{1+\\alpha^2}+1\\right)(\\alpha+\\beta x / D)}\\right]\\right)\n",
    "\\end{aligned}\n",
    "$$\n",
    "\n",
    "where $A$ is the wake expansion parameter, set to a constant value of 0.6, $I_0$ is the free stream TI, $D$ is the rotor diameter, $x$ the downstream distance and $\\alpha$ and $\\beta$ are parameters that depend on the turbulence $I_0$ and the turbine's $C_T$."
   ]
  },
  {
   "cell_type": "code",
   "execution_count": 7,
   "id": "6f5dd087",
   "metadata": {},
   "source": [
    "from py_wake.deficit_models import TurboNOJDeficit\n",
    "plot_wake_deficit_map(TurboNOJDeficit())"
   ],
   "outputs": []
  },
  {
   "cell_type": "markdown",
   "id": "1d3cf08b",
   "metadata": {},
   "source": [
    "**The rest of the models follow a Gaussian shape, with the advantage of having models for calculation of the near wake (Fuga, Zong Gaussian, Super Gaussian) as well as a model to simulate blockage (Fuga)**"
   ]
  },
  {
   "cell_type": "markdown",
   "id": "f97fb8b0",
   "metadata": {},
   "source": [
    "## BastankhahGaussianDeficit\n",
    "\n",
    "The Bastankhah Gaussian Deficit model is implemented according to Bastankhah M and Porté-Agel F. \"A new analytical model for wind-turbine wakes\" J. Renew. Energy. 2014;70:116-23.\n",
    "\n",
    "By applying mass and momentum conservation and assuming a self-similar Gaussian profile for the wake, a general expression for the velocity deficit is derived:\n",
    "\n",
    "$$\n",
    "\\frac{\\Delta U}{U_{\\infty}}=C(x) e^{-\\frac{x^2}{2 \\sigma^2}}\n",
    "$$\n",
    "\n",
    "The maximum velocity deficit at the center of the wake $C(x)$ is defined by:\n",
    "\n",
    "$$\n",
    "C(x)=1-\\sqrt{1-\\frac{C_{\\mathrm{T}}}{8\\left(\\sigma / d_0\\right)^2}}\n",
    "$$\n",
    "\n",
    "and the wake width ($\\sigma$) is defined as:\n",
    "\n",
    "$$\\frac{\\sigma}{d_0} = k^* x / d_0+\\varepsilon$$\n",
    "\n",
    "where $k$ represents the wake expansion parameter and $\\varepsilon$ = 0.2 $\\beta$, with $\\beta$ being a parameter function of the turbine's $C_T$.\n",
    "\n",
    "Thus, the normalized velocity deficit can be calculated as:\n",
    "\n",
    "$$\n",
    "\\begin{aligned}\n",
    "\\frac{\\Delta U}{U_{\\infty}}= & \\left(1-\\sqrt{1-\\frac{C_{\\mathrm{T}}}{8\\left(k^* x / d_0+\\varepsilon\\right)^2}}\\right) \\\\\n",
    "& \\times \\exp \\left(-\\frac{1}{2\\left(k^* x / d_0+\\varepsilon\\right)^2}\\left\\{\\left(\\frac{z-z_{\\mathrm{h}}}{d_0}\\right)^2+\\left(\\frac{y}{d_0}\\right)^2\\right\\}\\right)\n",
    "\\end{aligned}\n",
    "$$\n",
    "\n",
    "where $C_T$ is the turbine's thrust coefficient, $x$ the downstream distance, $z_H$ the turbine's hub height, and $y$ and $z$ the spanwise and vertical coordinates, respectively.\n",
    "\n",
    "The model is valid in the far wake only."
   ]
  },
  {
   "cell_type": "code",
   "execution_count": 8,
   "id": "16ba2d6a",
   "metadata": {},
   "source": [
    "from py_wake.deficit_models import BastankhahGaussianDeficit\n",
    "plot_wake_deficit_map(BastankhahGaussianDeficit())"
   ],
   "outputs": []
  },
  {
   "cell_type": "markdown",
   "id": "8092cc1d",
   "metadata": {},
   "source": [
    "## IEA37SimpleBastankhahGaussianDeficit\n",
    "\n",
    "The IEA37 Simple Bastankhah Gaussian Deficit model is implemented according to the [IEA task 37 documentation](https://github.com/byuflowlab/iea37-wflo-casestudies/blob/master/cs1-2/iea37-wakemodel.pdf) and is equivalent to `BastankhahGaussianDeficit` for:\n",
    "\n",
    "$$beta=1/\\sqrt{8} \\sim ct=0.9637188$$\n",
    "\n",
    "The model is valid in the far wake only."
   ]
  },
  {
   "cell_type": "code",
   "execution_count": 9,
   "id": "21606179",
   "metadata": {},
   "source": [
    "from py_wake.deficit_models import IEA37SimpleBastankhahGaussianDeficit\n",
    "plot_wake_deficit_map(IEA37SimpleBastankhahGaussianDeficit())"
   ],
   "outputs": []
  },
  {
   "cell_type": "markdown",
   "id": "81097e03",
   "metadata": {},
   "source": [
    "## NiayifarGaussianDeficit\n",
    "\n",
    "Implemented according to Amin Niayifar and Fernando Porté-Agel, \"Analytical Modeling of Wind Farms: A New Approach for Power Prediction\", Energies 2016, 9, 741; doi:10.3390/en9090741.\n",
    "\n",
    "The calculation of the velocity deficit is made as in `BastankhahGaussianDeficit`, with the modification of the wake expansion parameter $k^*$.\n",
    "\n",
    "This wake deficit model accounts for the local turbulence intensity when evaluating the wake expansion. The expansion rate $k^*$ varies linearly with local turbluence intensity:\n",
    "\n",
    "$$k^* = a1 I + a2$$\n",
    "\n",
    "The default constants are set according to publications by Porte-Agel's group, which are based on LES simulations, where $a1 = 0.3837$ and $a2 = 0.003678$. Lidar field measurements by Fuertes et al. (2018) indicate that a = [0.35, 0.0] is also a valid selection."
   ]
  },
  {
   "cell_type": "code",
   "execution_count": 10,
   "id": "99b0349f",
   "metadata": {},
   "source": [
    "from py_wake.deficit_models import NiayifarGaussianDeficit\n",
    "plot_wake_deficit_map(NiayifarGaussianDeficit(a=[0.38, 4e-3]))"
   ],
   "outputs": []
  },
  {
   "cell_type": "markdown",
   "id": "ab3b09fe",
   "metadata": {},
   "source": [
    "## ZongGaussianDeficit\n",
    "\n",
    "Implemented according to Haohua Zong and Fernando Porté-Agel, \"A momentum-conserving wake superposition method for wind farm power prediction\", J. Fluid Mech. (2020), vol. 889, A8; doi:10.1017/jfm.2020.77.\n",
    "\n",
    "Based on the `NiayifarGaussianDeficit` model, the wake expansion is also function of the local turbulence intensity and the wake width expression now follows the approach by Shapiro et al. (2018). Additional to the model of Niayifar et al. is a new wake width ($\\sigma$) expression, which uses the near-wake length estimation by Vermeulen (1980).\n",
    "\n",
    "The near-wake length expression is defined as:\n",
    "\n",
    "$$\n",
    "x_n=\\frac{\\sqrt{0.214+0.144 m}(1-\\sqrt{0.134+0.124 m})}{(1-\\sqrt{0.214+0.144 m}) \\sqrt{0.134+0.124 m}} \\frac{r_0}{(d r / d x)}\n",
    "$$\n",
    "\n",
    "With the new expression for the wake width represented by:\n",
    "\n",
    "$$\n",
    "\\sigma = \\epsilon + k_w \\ln \\left[1+\\exp \\left(\\frac{x-x_n}{D}\\right)\\right] * D\n",
    "$$\n",
    "\n",
    "where $\\epsilon = (1 / \\sqrt{8}) C_T$ and $k_w$ is the wake expansion rate.\n",
    "\n",
    "The thrust coefficient used in the deficit calculation is now written as an error function of the streamwise coordinate due to the effect of the near-wake pressure gradient.\n",
    "\n",
    "$$\n",
    "C_t^i(x)= C_T (1+\\operatorname{erf}(x / D)) / 2\n",
    "$$"
   ]
  },
  {
   "cell_type": "code",
   "execution_count": 11,
   "id": "4a7e74ff",
   "metadata": {},
   "source": [
    "from py_wake.deficit_models import ZongGaussianDeficit\n",
    "plot_wake_deficit_map(ZongGaussianDeficit(a=[0.38, 4e-3]))"
   ],
   "outputs": []
  },
  {
   "cell_type": "markdown",
   "id": "da5d6551",
   "metadata": {},
   "source": [
    "## CarbajoFuertesGaussianDeficit\n",
    "\n",
    "Modified version from the `ZongGaussianDeficit` model with Gaussian constants, as seen in: Fernando Carbajo Fuertes, Corey D. Markfor and Fernando Porté-Agel, \"Wind TurbineWake Characterization with Nacelle-Mounted Wind Lidars for Analytical Wake Model Validation\", Remote Sens. 2018, 10, 668; doi:10.3390/rs10050668.\n",
    "\n",
    "Carbajo Fuertes et al. derived Gaussian wake model parameters from nacelle liadar measurements from a 2.5MW turbine and found a\n",
    "variation of epsilon with wake expansion, this in fact identical to the formulation by Zong, only that the near-wake length is fixed for Carbajo Fuertes at $xth = 1.91 (x/D)$. We took the relationships found by them and incorporated them into the Zong formulation. This wake deficit model includes an empirical correlation for epsilon as well as new constants for the wake expansion factor equation."
   ]
  },
  {
   "cell_type": "code",
   "execution_count": 12,
   "id": "6386a122",
   "metadata": {},
   "source": [
    "from py_wake.deficit_models import CarbajofuertesGaussianDeficit\n",
    "plot_wake_deficit_map(CarbajofuertesGaussianDeficit())"
   ],
   "outputs": []
  },
  {
   "cell_type": "markdown",
   "id": "06bbd218",
   "metadata": {},
   "source": [
    "## TurboGaussianDeficit\n",
    "\n",
    "Implemented similar to Ørsted's TurbOPark model (https://github.com/OrstedRD/TurbOPark).\n",
    "\n",
    "The calculation of the deficit is similar to that in `TurboNOJDeficit` with the distinction of assuming a Gaussian shape for the expansion of the wake using the wake width ($\\sigma$) expression instead of the wake radius. The $\\epsilon$ parameter is defined as in `BastahnkhahGaussianDeficit`, 0.2 $\\beta$.\n",
    "\n",
    "$$\n",
    "\\begin{aligned}\n",
    "\\frac{\\sigma_{w, i}\\left(\\hat{x}_i\\right)}{D_i}= \\epsilon_i + & \\frac{A I_0}{\\beta} \\\\ & \\times \\left(\\sqrt{\\left(\\alpha+\\beta \\hat{x}_i / D_i\\right)^2+1}-\\sqrt{1+\\alpha^2}-\\ln \\left[\\frac{\\left(\\sqrt{\\left(\\alpha+\\beta \\hat{x}_i / D_i\\right)^2+1}+1\\right) \\alpha}{\\left(\\sqrt{1+\\alpha^2}+1\\right)\\left(\\alpha+\\beta \\hat{x}_i / D_i\\right)}\\right]\\right)\n",
    "\\end{aligned}\n",
    "$$"
   ]
  },
  {
   "cell_type": "code",
   "execution_count": 13,
   "id": "2c868c84",
   "metadata": {},
   "source": [
    "from py_wake.deficit_models import TurboGaussianDeficit\n",
    "plot_wake_deficit_map(TurboGaussianDeficit())"
   ],
   "outputs": []
  },
  {
   "cell_type": "markdown",
   "id": "82c796ba",
   "metadata": {},
   "source": [
    "## SuperGaussianDeficit"
   ]
  },
  {
   "cell_type": "markdown",
   "id": "c1338a82",
   "metadata": {},
   "source": [
    "Implemented according to Blondel and Cathelain (2020), \"An alternative form of the super-Gaussian wind turbine wake model\" Wind Energ. Sci., 5, 1225–1236, 2020 https://doi.org/10.5194/wes-5-1225-2020 [1].\n",
    "\n",
    "New calibrated parameters taken from Blondel (2023), \"Brief communication: A momentum-conserving superposition method applied to the super-Gaussian wind turbine wake model\", Wind Energ. Sci., 8, 141–147, 2023, 2023 https://doi.org/10.5194/wes-8-141-2023 [2].\n",
    "\n",
    "The Super Gaussian deficit model is derived from the general equation for velocity deficit seen in `BastankhahGaussianDeficit` with the addition of the super gaussian order $n$, which describes the evolution of the wake. In this case, the wake profile transitions from top-hat to gaussian, with high values of $n$ representing the near wake and low values (approaching $n =2$) representing a purely Gaussian profile.\n",
    "\n",
    "The velocity deficit is calculated as follows:\n",
    "\n",
    "$$\n",
    "\\frac{U_{\\infty}-U_{\\mathrm{w}}}{U_{\\infty}}=C(x) e^{-\\bar{r}^n /\\left(2 \\sigma^2\\right)}\n",
    "$$\n",
    "\n",
    "where the maximum velocity deficit $C(x)$ is defined as:\n",
    "\n",
    "$$\n",
    "C(x)=2^{2 / n-1}-\\sqrt{2^{4 / n-2}-\\frac{n C_T}{16 \\Gamma(2 / n) \\sigma^{4 / n}}} .\n",
    "$$\n",
    "\n",
    "The characteristic wake width ($\\sigma$) is also a function of the TI as in the Bastankhah Gaussian model.\n",
    "\n",
    "$$ \\sigma = (a_s T_i + b_s)x + c_s \\sqrt{\\beta} $$\n",
    "\n",
    "Lastly, the analytical super gaussian parameter $n$ is based on curve fitting and represented by:\n",
    "\n",
    "$$ n = a_f e^{b_f x} + c_f $$\n",
    "\n",
    "The parameters used for the model ($a_s, b_s, c_s, a_f, b_f, c_f$) are calibrated with two measurement campaings: particle velocimetry measurements and lidar measurements. Some of the parameters are dependent on the turbulence intensity and thrust coefficient, as seen in [1].\n",
    "\n",
    "There are two classes defined:\n",
    "\n",
    "- `BlondelSuperGaussianDeficit2020`: which uses the calibrated parameters in Table 2 and 3 in [1].\n",
    "- `BlondelSuperGaussianDeficit2023`: which uses the latest calibrated parameters found in Table 1 in [2]."
   ]
  },
  {
   "cell_type": "code",
   "execution_count": 14,
   "id": "b0162037",
   "metadata": {},
   "source": [
    "from py_wake.deficit_models.gaussian import BlondelSuperGaussianDeficit2020\n",
    "plot_wake_deficit_map(BlondelSuperGaussianDeficit2020())"
   ],
   "outputs": []
  },
  {
   "cell_type": "code",
   "execution_count": 15,
   "id": "7e946cc0",
   "metadata": {},
   "source": [
    "from py_wake.deficit_models.gaussian import BlondelSuperGaussianDeficit2023\n",
    "plot_wake_deficit_map(BlondelSuperGaussianDeficit2023())"
   ],
   "outputs": []
  },
  {
   "cell_type": "markdown",
   "id": "42bf38c4",
   "metadata": {},
   "source": [
    "## FugaDeficit\n",
    "\n",
    "The FugaDeficit model calculates the wake deficit based on a set of look-up tables computed by a linearized RANS solver. The look-up tables are created in advance using the [Fuga GUI](https://orbit.dtu.dk/en/publications/developments-of-the-offshore-wind-turbine-wake-model-fuga).\n",
    "\n",
    "The most important parameters to create the look-up tables are:\n",
    "\n",
    "- Wind turbine diameter\n",
    "- Wind tubine hub height\n",
    "- Terrain roughness length\n",
    "- Lower and upper height of output domain (if, for example, the wake is to be studied around the rotor only or for a whole wind farm)\n",
    "\n",
    "The FugaDeficit model can model the near wake, far wake and blockage deficit."
   ]
  },
  {
   "cell_type": "code",
   "execution_count": 16,
   "id": "d1659e7a",
   "metadata": {},
   "source": [
    "import py_wake\n",
    "from py_wake.deficit_models import FugaDeficit\n",
    "\n",
    "# Path to Fuga look-up tables\n",
    "lut_path = os.path.dirname(py_wake.__file__)+'/tests/test_files/fuga/2MW/Z0=0.03000000Zi=00401Zeta0=0.00E+00.nc'\n",
    "\n",
    "plot_wake_deficit_map(FugaDeficit(lut_path))"
   ],
   "outputs": []
  },
  {
   "cell_type": "markdown",
   "id": "0eb9dfbb",
   "metadata": {},
   "source": [
    "## GCLDeficit\n",
    "\n",
    "Implemented according to Larsen, G. C. (2009), \"A simple stationary semi-analytical wake model\", Risø National Laboratory for Sustainable Energy,  Technical University of Denmark. Denmark. Forskningscenter Risoe. Risoe-R, No. 1713(EN).\n",
    "\n",
    "It is based on an analytical solution of the thin shear layer approximation of the NS equations. The wake flow fields are assumed rotationally symmetric, and the rotor inflow fields are consistently assumed uniform. The effect of expansion is approximately accounted for by imposing suitable empirical downstream boundary conditions on the wake expansion that depend on the rotor thrust and the ambient turbulence conditions, respectively."
   ]
  },
  {
   "cell_type": "code",
   "execution_count": 17,
   "id": "a9b26af6",
   "metadata": {},
   "source": [
    "from py_wake.deficit_models import GCLDeficit\n",
    "plot_wake_deficit_map(GCLDeficit())"
   ],
   "outputs": []
  },
  {
   "cell_type": "markdown",
   "id": "29662b9b",
   "metadata": {},
   "source": [
    "## Comparing wake deficit models"
   ]
  },
  {
   "cell_type": "code",
   "execution_count": 20,
   "id": "d58e479e",
   "metadata": {},
   "source": [
    "#printing all available wake deficit models in PyWake\n",
    "from py_wake.utils.model_utils import get_models\n",
    "from py_wake.deficit_models.deficit_model import WakeDeficitModel\n",
    "\n",
    "deficitModels = get_models(WakeDeficitModel)\n",
    "for deficitModel in deficitModels:\n",
    "    print (deficitModel.__name__)"
   ],
   "outputs": []
  },
  {
   "cell_type": "markdown",
   "id": "f6b84048",
   "metadata": {},
   "source": [
    "**1) Deficit along center line**"
   ]
  },
  {
   "cell_type": "code",
   "execution_count": 21,
   "id": "ea5c7391",
   "metadata": {},
   "source": [
    "plt.figure(figsize=((16,6)))\n",
    "for i, deficitModel in enumerate(deficitModels):\n",
    "    fm = get_flow_map(deficitModel(), XYGrid(x=np.linspace(-200,800,300), y=0))\n",
    "    plt.plot(fm.x, 10-fm.WS_eff.squeeze(), ('-','--')[i//10], label=deficitModel.__name__)\n",
    "setup_plot(title=\"Center line deficit\", xlabel='x/D', ylabel='Deficit [m/s]')"
   ],
   "outputs": []
  },
  {
   "cell_type": "markdown",
   "id": "325db7a2",
   "metadata": {},
   "source": [
    "**2) Deficit profile downstream**"
   ]
  },
  {
   "cell_type": "code",
   "execution_count": 22,
   "id": "c5f00d1d",
   "metadata": {},
   "source": [
    "for d in 2,8,20:\n",
    "    plt.figure(figsize=((12,6)))\n",
    "    for i, deficitModel in enumerate(deficitModels):\n",
    "        fm = get_flow_map(deficitModel(), XYGrid(x=d*D, y=np.linspace(-200,200,300)))\n",
    "        plt.plot(fm.y, 10-fm.WS_eff.squeeze(), ('-','--')[i//10], label=deficitModel.__name__)\n",
    "    plt.title(f'Deficit profile {d}D downstream')\n",
    "    plt.legend()"
   ],
   "outputs": []
  },
  {
   "cell_type": "markdown",
   "id": "f0ca4d8b",
   "metadata": {},
   "source": [
    "## Implement your own deficit models\n",
    "\n",
    "Deficit models must subclass `DeficitModel`and thus must implement the `calc_deficit` method and a class variable, `args4deficit` specifying the arguments required by its `calc_deficit` method\n",
    "\n",
    "```python \n",
    "class DeficitModel(ABC):\n",
    "    args4deficit = ['WS_ilk', 'dw_ijlk']\n",
    "\n",
    "    @abstractmethod\n",
    "    def calc_deficit(self):\n",
    "        \"\"\"Calculate wake deficit caused by the x'th most upstream wind turbines\n",
    "        for all wind directions(l) and wind speeds(k) on a set of points(j)\n",
    "\n",
    "        This method must be overridden by subclass\n",
    "\n",
    "        Arguments required by this method must be added to the class list\n",
    "        args4deficit\n",
    "\n",
    "        See class documentation for examples and available arguments\n",
    "\n",
    "        Returns\n",
    "        -------\n",
    "        deficit_ijlk : array_like\n",
    "        \"\"\"\n",
    "```"
   ]
  },
  {
   "cell_type": "code",
   "execution_count": 23,
   "id": "0158fbf0",
   "metadata": {},
   "source": [
    "from py_wake.deficit_models.deficit_model import WakeDeficitModel\n",
    "from numpy import newaxis as na\n",
    "class MyDeficitModel(WakeDeficitModel):\n",
    "\n",
    "    def calc_deficit(self, WS_ilk, dw_ijlk, cw_ijlk,**_):\n",
    "        # 30% deficit in downstream triangle\n",
    "        ws_10pct_ijlk = 0.3*WS_ilk[:,na]\n",
    "        triangle_ijlk = (self.wake_radius(dw_ijlk=dw_ijlk)>cw_ijlk)\n",
    "        return ws_10pct_ijlk *triangle_ijlk\n",
    "\n",
    "    def wake_radius(self, dw_ijlk, **_):\n",
    "        return (.2*dw_ijlk)\n",
    "\n",
    "plot_wake_deficit_map(MyDeficitModel())"
   ],
   "outputs": []
  }
 ],
 "metadata": {
  "kernelspec": {
   "display_name": "Python 3 (ipykernel)",
   "language": "python",
   "name": "python3"
  },
  "language_info": {
   "codemirror_mode": {
    "name": "ipython",
    "version": 3
   },
   "file_extension": ".py",
   "mimetype": "text/x-python",
   "name": "python",
   "nbconvert_exporter": "python",
   "pygments_lexer": "ipython3",
   "version": "3.9.13"
  }
 },
 "nbformat": 4,
 "nbformat_minor": 5
}

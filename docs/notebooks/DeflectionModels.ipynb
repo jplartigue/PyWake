{
 "cells": [
  {
   "cell_type": "markdown",
   "id": "1954edcf",
   "metadata": {},
   "source": [
    "# Deflection Models"
   ]
  },
  {
   "cell_type": "markdown",
   "id": "eb152284",
   "metadata": {},
   "source": [
    "**The deflection models calculate the deflection of the wake due to yaw-misalignment, sheared inflow etc.**\n",
    "\n",
    "Note, this is one of the four effects of skew inflow that is handled in PyWake, see [here](https://topfarm.pages.windenergy.dtu.dk/PyWake/notebooks/YawMisalignment.html).\n",
    "\n",
    "The deflection models take as input the downwind and crosswind distances between the source wind turbines and the destination wind turbines/sites and calculate a new set of deflected downwind and crosswind distances. This type of model is important for simulations where the turbine experiences a change in angle between the incoming flow and the rotor, for example in active yaw control or wake steering optimization.\n",
    "\n",
    "In PyWake, there are three different wake deflection models:\n",
    "\n",
    "- [JimenezWakeDeflection](#JimenezWakeDeflection)\n",
    "- [FugaDeflection](#FugaDeflection)\n",
    "- [GCLHillDeflection](#GCLHillDeflection)"
   ]
  },
  {
   "cell_type": "markdown",
   "id": "f58aa334",
   "metadata": {},
   "source": [
    "**Install PyWake if needed**"
   ]
  },
  {
   "cell_type": "code",
   "execution_count": 1,
   "id": "c93e429a",
   "metadata": {},
   "source": [
    "# Install PyWake if needed\n",
    "try:\n",
    "    import py_wake\n",
    "except ModuleNotFoundError:\n",
    "    !pip install git+https://gitlab.windenergy.dtu.dk/TOPFARM/PyWake.git"
   ],
   "outputs": []
  },
  {
   "cell_type": "markdown",
   "id": "b8817f6a",
   "metadata": {},
   "source": [
    "First we create a simple function to plot the different deflection models available in PyWake."
   ]
  },
  {
   "cell_type": "code",
   "execution_count": 17,
   "id": "4a32c9cb",
   "metadata": {},
   "source": [
    "import numpy as np\n",
    "import matplotlib.pyplot as plt\n",
    "\n",
    "# import and setup site and windTurbines\n",
    "import py_wake\n",
    "from py_wake import BastankhahGaussian\n",
    "from py_wake.examples.data.iea37._iea37 import IEA37Site, IEA37_WindTurbines\n",
    "from py_wake.examples.data.hornsrev1 import V80\n",
    "\n",
    "site = IEA37Site(16)\n",
    "x, y = [0, 400, 800], [0, 0, 0]\n",
    "windTurbines = V80()\n",
    "D = windTurbines.diameter()"
   ],
   "outputs": []
  },
  {
   "cell_type": "code",
   "execution_count": 12,
   "id": "d27a4409",
   "metadata": {},
   "source": [
    "def plot_deflection(deflectionModel):\n",
    "    \n",
    "    wfm = BastankhahGaussian(site, windTurbines, deflectionModel=deflectionModel)\n",
    "\n",
    "    yaw = [-20,20,0]\n",
    "    D = windTurbines.diameter()\n",
    "\n",
    "    plt.figure(figsize=(14,4))\n",
    "    fm = wfm(x, y, yaw=yaw, tilt=0, wd=270, ws=10).flow_map()\n",
    "    fm.plot_wake_map(normalize_with=D)\n",
    "    center_line = fm.min_WS_eff()\n",
    "    plt.plot(center_line.x/D, center_line/D,'--k')\n",
    "    plt.grid()"
   ],
   "outputs": []
  },
  {
   "cell_type": "markdown",
   "id": "ecbbc773",
   "metadata": {},
   "source": [
    "### JimenezWakeDeflection"
   ]
  },
  {
   "cell_type": "markdown",
   "id": "a8a56e73",
   "metadata": {},
   "source": [
    "The `JimenezWakeDeflection` model is implemented according to Jiménez, Á., Crespo, A. and Migoya, E. (2010), Application of a LES technique to characterize the wake deflection of a wind turbine in yaw. Wind Energ., 13: 559-572. doi:10.1002/we.380.\n",
    "\n",
    "It is the most common wake deflection model used in PyWake and has proved to result in a decent representation of the skewed inflow behind the turbine rotor. In the study, the authors carried out a Large Eddy Simulation (LES) to characterize the turbulence behind a wind turbine given the wake deflection created by different yaw angle and thrust coefficient settings."
   ]
  },
  {
   "cell_type": "code",
   "execution_count": 13,
   "id": "aa9db0e3",
   "metadata": {},
   "source": [
    "from py_wake.deflection_models import JimenezWakeDeflection\n",
    "plt.figure()\n",
    "plot_deflection(JimenezWakeDeflection())\n",
    "plt.xlabel('x [m]')\n",
    "plt.ylabel('y [m]')"
   ],
   "outputs": []
  },
  {
   "cell_type": "markdown",
   "id": "8148ef0a",
   "metadata": {},
   "source": [
    "### FugaDeflection"
   ]
  },
  {
   "cell_type": "code",
   "execution_count": 14,
   "id": "fb2e5387",
   "metadata": {},
   "source": [
    "from py_wake.deflection_models import FugaDeflection\n",
    "plt.figure()\n",
    "plot_deflection(FugaDeflection())\n",
    "plt.xlabel('x [m]')\n",
    "plt.ylabel('y [m]')"
   ],
   "outputs": []
  },
  {
   "cell_type": "markdown",
   "id": "8aef7262",
   "metadata": {},
   "source": [
    "### GCLHillDeflection\n",
    "\n",
    "Deflection model based on Hill's ring vortex theory.\n",
    "\n",
    "Implemented according to: Larsen, G. C., Ott, S., Liew, J., van der Laan, M. P., Simon, E., R.Thorsen, G., & Jacobs, P. (2020). Yaw induced wake deflection - a full-scale validation study. Journal of Physics - Conference Series, 1618, [062047]. https://doi.org/10.1088/1742-6596/1618/6/062047.\n",
    "    \n",
    "Note, this model uses the wake centerline deficit magnitude to calculate the deflection. Hence non-gaussian-shaped wake deficit models as well as deficit models with improper near wake fields, e.g. NOJDeficit, BastankhahGaussianDeficit, NiayifarGaussianDeficit, should be avoided.\n",
    "\n",
    "As default the model uses the `WakeDeficitModel` specified for the `WindFarmModel` to calculate the magnitude of the deficit, but a separate model can be specified."
   ]
  },
  {
   "cell_type": "code",
   "execution_count": 15,
   "id": "16fea606",
   "metadata": {},
   "source": [
    "from py_wake.deflection_models import GCLHillDeflection\n",
    "plt.figure()\n",
    "plot_deflection(GCLHillDeflection())\n",
    "plt.xlabel('x [m]')\n",
    "plt.ylabel('y [m]')"
   ],
   "outputs": []
  },
  {
   "cell_type": "markdown",
   "id": "92b340ae",
   "metadata": {},
   "source": [
    "### You can also implement your own deflection models\n",
    "\n",
    "Deficit models must subclass `DeficitModel` and thus must implement the `calc_deflection` method and a class variable, `args4deflection` specifying the arguments required by its calc_deflection method.\n",
    "\n",
    "```python\n",
    "\n",
    "class DeflectionModel(ABC):\n",
    "    args4deflection = [\"ct_ilk\"]\n",
    "\n",
    "    @abstractmethod\n",
    "    def calc_deflection(self, dw_ijl, hcw_ijl, **kwargs):\n",
    "        \"\"\"Calculate deflection\n",
    "\n",
    "        This method must be overridden by subclass\n",
    "\n",
    "        Arguments required by this method must be added to the class list\n",
    "        args4deflection\n",
    "\n",
    "        See documentation of EngineeringWindFarmModel for a list of available input arguments\n",
    "\n",
    "        Returns\n",
    "        -------\n",
    "        dw_ijlk : array_like\n",
    "            downwind distance from source wind turbine(i) to destination wind turbine/site (j)\n",
    "            for all wind direction (l) and wind speed (k)\n",
    "        hcw_ijlk : array_like\n",
    "            horizontal crosswind distance from source wind turbine(i) to destination wind turbine/site (j)\n",
    "            for all wind direction (l) and wind speed (k)\n",
    "        \"\"\"\n",
    "```"
   ]
  },
  {
   "cell_type": "code",
   "execution_count": 18,
   "id": "52f69cba",
   "metadata": {},
   "source": [
    "from py_wake.deflection_models import DeflectionModel\n",
    "from numpy import newaxis as na\n",
    "from py_wake import BastankhahGaussian\n",
    "\n",
    "class MyDeflectionModel(DeflectionModel):\n",
    "\n",
    "    def calc_deflection(self, dw_ijlk, hcw_ijlk, **_):\n",
    "        hcw_ijlk =hcw_ijlk + .1*dw_ijlk       # deflect 1/10 of the downstream distance\n",
    "        dh_ijlk =np.zeros_like(hcw_ijlk)      # no vertical deflection\n",
    "        return dw_ijlk, hcw_ijlk, dh_ijlk\n",
    "\n",
    "iea_my_deflection = BastankhahGaussian(site, windTurbines, deflectionModel=MyDeflectionModel())\n",
    "\n",
    "plt.figure(figsize=(10,4))\n",
    "iea_my_deflection(x=[0], y=[0], wd=270, ws=10).flow_map().plot_wake_map(normalize_with=D)\n",
    "plt.xlabel('x/D')\n",
    "plt.ylabel('y/D');"
   ],
   "outputs": []
  }
 ],
 "metadata": {
  "kernelspec": {
   "display_name": "Python 3 (ipykernel)",
   "language": "python",
   "name": "python3"
  },
  "language_info": {
   "codemirror_mode": {
    "name": "ipython",
    "version": 3
   },
   "file_extension": ".py",
   "mimetype": "text/x-python",
   "name": "python",
   "nbconvert_exporter": "python",
   "pygments_lexer": "ipython3",
   "version": "3.9.13"
  }
 },
 "nbformat": 4,
 "nbformat_minor": 5
}

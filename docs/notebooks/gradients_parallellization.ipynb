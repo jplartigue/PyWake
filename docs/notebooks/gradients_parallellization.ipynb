{
 "cells": [
  {
   "cell_type": "markdown",
   "id": "665cadf4",
   "metadata": {},
   "source": [
    "# Gradients, Parallelization and Precision\n",
    "\n",
    "This section describes how to obtain gradients for more efficient optimization and how to speedup execution via parallelization."
   ]
  },
  {
   "cell_type": "markdown",
   "id": "e643ae8c",
   "metadata": {},
   "source": [
    "**Install PyWake if needed**"
   ]
  },
  {
   "cell_type": "code",
   "execution_count": 1,
   "id": "d977451d",
   "metadata": {},
   "source": [
    "# Install PyWake if needed\n",
    "try:\n",
    "    import py_wake\n",
    "except ModuleNotFoundError:\n",
    "    !pip install git+https://gitlab.windenergy.dtu.dk/TOPFARM/PyWake.git"
   ],
   "outputs": []
  },
  {
   "cell_type": "markdown",
   "id": "de1f4cc5",
   "metadata": {},
   "source": [
    "## Gradients\n",
    "\n",
    "PyWake supports three methods for computing gradients:\n",
    "\n",
    "\n",
    "| Method               | Pro                                  | Con |\n",
    "| :------               | :---                                  | :--- |\n",
    "| Finite difference (`fd`)   | - Works out of the box in most cases<br>- Fast for small problems | - Less accurate <br>- Sensitive to stepsize<br>- Requires `n+1` function evaluation |\n",
    "| Complex step (`cs`)        | - More accurate<br>- Works out of the box or with a few minor changes<br> - Fast for small problems | - Requires `n` function evaluations\n",
    "| Automatic differentiation (`autograd`)           | - Exact result<br>- Requires 1 smart function evaluation | - `numpy` must be replaced with `autograd.numpy`<br>- Often code changes and debugging is required<br>- Debugging is very hard<br>- Gradient functions (e.g. using `fd` or `cs`) must be specified if `autograd` fails\n",
    "\n"
   ]
  },
  {
   "cell_type": "markdown",
   "id": "b9f7b105",
   "metadata": {},
   "source": [
    "**Example problem**\n",
    "\n",
    "To demonstrate the three methods we first define an example function, `f(x)`, with one input vector of three elements, `x = [1,2,3]`\n",
    "\n",
    "$f(x)=\\sum_x{2x^3\\sin(x)}$"
   ]
  },
  {
   "cell_type": "code",
   "execution_count": 2,
   "id": "ad450706",
   "metadata": {},
   "source": [
    "%load_ext py_wake.utils.notebook_extensions\n",
    "import numpy as np\n",
    "import matplotlib.pyplot as plt\n",
    "\n",
    "def f(x):\n",
    "    return np.sum((2 * x**3) * np.sin(x))\n",
    "\n",
    "def df(x):\n",
    "    # analytical gradient used for comparison\n",
    "    return 6*x**2 * np.sin(x)  + 2*x**3 * np.cos(x)\n",
    "\n",
    "x = np.array([1,2,3], dtype=float)"
   ],
   "outputs": []
  },
  {
   "cell_type": "markdown",
   "id": "77f4e1f7",
   "metadata": {},
   "source": [
    "**Plot variation+gradients of** `f` **with respect to** $x_0, x_1, x_2$"
   ]
  },
  {
   "cell_type": "code",
   "execution_count": 3,
   "id": "2f374054",
   "metadata": {},
   "source": [
    "dx_lst = np.linspace(-.5,.5,100)\n",
    "\n",
    "import matplotlib.pyplot as pltq\n",
    "from py_wake.utils.plotting import setup_plot\n",
    "\n",
    "for i in range(3):\n",
    "    label=\"f([1,2,3])\".replace(str(i+1),f\"$x_{i}$\")\n",
    "    c = plt.plot(x[i] + dx_lst, [f(x + np.roll([dx,0,0],i)) for dx in dx_lst], label=label)[0].get_color()\n",
    "    plt.plot(x[i]+[-.5,.5], f(x) + df(x)[i]*np.array([-.5,.5]), '--', color=c)\n",
    "    plt.plot(x[i], f(x), '.', color=c)\n",
    "setup_plot(ylim=[0,40])\n",
    "plt.legend()"
   ],
   "outputs": []
  },
  {
   "cell_type": "markdown",
   "id": "b9636f37",
   "metadata": {},
   "source": [
    "**In PyWake, gradients can be calculated via three methods: finite difference, complex step, and automatic diferentiation (AD) or autograd.**\n",
    "\n",
    "Below is the theoretical background of each method, followed by a comparison made between the three methods in terms of simulation time required."
   ]
  },
  {
   "cell_type": "markdown",
   "id": "80780155",
   "metadata": {},
   "source": [
    "### Finite difference `fd`\n",
    "\n",
    "$\\frac{d f(x)}{dx} = \\frac{f(x+h) - f(x)}{h}$\n",
    "\n",
    "Finite difference applied to the example function:\n"
   ]
  },
  {
   "cell_type": "code",
   "execution_count": 4,
   "id": "51ba6915",
   "metadata": {},
   "source": [
    "print (\"Analytical gradient:\", list(df(x)))\n",
    "h = 1e-6\n",
    "for i in range(3):\n",
    "    print (f\"Finite difference gradient wrt. x{i}:\", (f(x+np.roll([h,0,0],i)) - f(x))/h)"
   ],
   "outputs": []
  },
  {
   "cell_type": "markdown",
   "id": "523117ef",
   "metadata": {},
   "source": [
    "In  this example the gradients are accurate to 4th or 5th decimal. The accuracy, however, is highly dependent on the step size, `h`. If the step size is too small the result becomes inaccurate due to nummerical issues. If the step size, on the other hand, becomes too big, then the result represents the gradient of a neighboring point.\n",
    "\n",
    "This compromize is illusated below:"
   ]
  },
  {
   "cell_type": "code",
   "execution_count": 5,
   "id": "7436be1b",
   "metadata": {},
   "source": [
    "h_lst = 10.**(-np.arange(1,21)) # step sizes [1e-1, ..., 1e-20]\n",
    "\n",
    "for i in range(3):\n",
    "    # Plot error compared to analytical gradient, df(x)\n",
    "    plt.semilogy(np.log10(h_lst), [np.abs(df(x)[i] - (f(x+np.roll([h,0,0],i))-f(x))/h) for h in h_lst], \n",
    "                 label=f'Finite difference wrt. $x_{i}$')\n",
    "plt.xticks(np.arange(-20,-1,2))\n",
    "setup_plot(ylabel='Error of gradient', xlabel='Step size exponent')"
   ],
   "outputs": []
  },
  {
   "cell_type": "markdown",
   "id": "0efc0482",
   "metadata": {},
   "source": [
    "### Complex step\n",
    "\n",
    "The complex step method is described [here](https://blogs.mathworks.com/cleve/2013/10/14/complex-step-differentiation/).\n",
    "\n",
    "It utilizes that \n",
    "\n",
    "$\\frac {d f(x)}{x}= \\frac{\\operatorname{Im}(f(x+ih))}{h}+O(h^2)$\n",
    "\n",
    "Applied to the example function, the result is accurate to the 15th decimal."
   ]
  },
  {
   "cell_type": "code",
   "execution_count": 6,
   "id": "c14cab89",
   "metadata": {},
   "source": [
    "print (\"Analytical gradient:\", list(df(x)))\n",
    "h = 1e-10\n",
    "\n",
    "for i in range(3):\n",
    "    print (f\"Finite difference gradient wrt. x{i}:\", np.imag(f(x+np.roll([h*1j,0,0],i)))/h)"
   ],
   "outputs": []
  },
  {
   "cell_type": "markdown",
   "id": "b6f26658",
   "metadata": {},
   "source": [
    "Furthermore, the result is much less sensitive to the step size as seen below"
   ]
  },
  {
   "cell_type": "code",
   "execution_count": 7,
   "id": "ebebf371",
   "metadata": {},
   "source": [
    "h_lst = 10.**(-np.arange(3,21))\n",
    "\n",
    "plt.semilogy(np.log10(h_lst), [np.abs(df(x)[0] - (f(x+[h,0,0])-f(x))/h) for h in h_lst], label='Finite difference')\n",
    "plt.semilogy(np.log10(h_lst), [np.abs(df(x)[0] - np.imag(f(x+[h*1j,0,0]))/h) for h in h_lst], label='Complex step')\n",
    "plt.xticks(np.arange(-20,-1,2))\n",
    "setup_plot(ylabel='Error of gradient', xlabel='Step size exponent')"
   ],
   "outputs": []
  },
  {
   "cell_type": "markdown",
   "id": "b27fdb2f",
   "metadata": {},
   "source": [
    "**Common code changes**\n",
    "\n",
    "The complex step method calls the function with a complex number, i.e. all intermediate functions and routines must support  complex number. A few `numpy` functions have different or undefined behaviour for complex numbers, so often a few changes is required. In PyWake, the module `py_wake.utils.gradients` contains a set of replacement functions that supports complext number, e.g.:\n",
    "\n",
    "- `abs`\n",
    "  - For a real value, `x`, `abs(x)` returns the positive value, while for a complex number, it returns the distance from 0 to z, $abs(a+bi)= \\sqrt{a^2+b^2}$. \n",
    "  - In most cases `abs` should therefore be replaced by `gradients.cabs`, which returns `np.where(x<0,-x,x)`\n",
    "- `np.hypot(a,b)`\n",
    "  - `np.hypot` does not support complex numbers\n",
    "  - replace with `gradients.hypot`, which returns `np.sqrt(a\\*\\*2+b\\*\\*2)` if `a` or `b` is complex\n",
    "- `np.interp(xp,x,y)`\n",
    "  - replace with `gradients.interp(xp,x,y)`\n",
    "- `np.logaddexp(x,y)`\n",
    "  - replace with  `gradients.logaddexp(x,y)` \n",
    "  \n",
    "Furthermore, the imaginary part must be preserved when creating new arrays, i.e.\n",
    "- `np.array(x,dtype=float)` -> `np.array(x,dtype=(float, np.complex128)[np.iscomplexobj(x)])`\n"
   ]
  },
  {
   "cell_type": "markdown",
   "id": "59086a67",
   "metadata": {},
   "source": [
    "### Automatic Differentiation (Autograd)"
   ]
  },
  {
   "cell_type": "markdown",
   "id": "76fd609d",
   "metadata": {},
   "source": [
    "[Autograd](https://github.com/HIPS/autograd) is a python package that can automatically differentiate native Python and Numpy code.\n",
    "\n",
    "Autograd performs a two step automatic differentiation process.\n",
    "\n",
    "First the normal result is calculated and during this process autograd setups up a calculation tree where each element in the tree holds the associated gradient functions:\n",
    "\n",
    "<center><img src=\"../_static/autograd_calculation.svg\" width=\"400\"/></center>\n",
    "\n",
    "For most numpy functions, the associated gradient function is predefined when using `autograd.numpy` instead of `numpy`. You can see the autograd module that defines the gradients of numpy functions [here](https://github.com/HIPS/autograd/blob/master/autograd/numpy/numpy_vjps.py#L32) and the functions used in the example is shown here:\n",
    "\n",
    "```python\n",
    "defvjp(anp.multiply,    lambda ans, x, y : unbroadcast_f(x, lambda g: y * g),\n",
    "                        lambda ans, x, y : unbroadcast_f(y, lambda g: x * g))\n",
    "defvjp(anp.add,         lambda ans, x, y : unbroadcast_f(x, lambda g: g),\n",
    "                        lambda ans, x, y : unbroadcast_f(y, lambda g: g))\n",
    "defvjp(anp.power,\n",
    "    lambda ans, x, y : unbroadcast_f(x, lambda g: g * y * x ** anp.where(y, y - 1, 1.)),\n",
    "    lambda ans, x, y : unbroadcast_f(y, lambda g: g * anp.log(replace_zero(x, 1.)) * x ** y))\n",
    "defvjp(anp.sin,    lambda ans, x : lambda g: g * anp.cos(x))\n",
    "```\n",
    "\n",
    "In the second step, the gradients are calculated by backward propagation\n",
    "\n",
    "<center><img src=\"../_static/autograd_differentiation.svg\" width=\"400\"/></center>"
   ]
  },
  {
   "cell_type": "markdown",
   "id": "093a9b84",
   "metadata": {},
   "source": [
    "**Applied to the example function,** `autograd`, **gives the exact results.**"
   ]
  },
  {
   "cell_type": "code",
   "execution_count": 8,
   "id": "7873b0aa",
   "metadata": {},
   "source": [
    "from py_wake import np\n",
    "from py_wake.utils.gradients import autograd\n",
    "\n",
    "def f(x):\n",
    "    return np.sum((2 * x**3) * np.sin(x))\n",
    "\n",
    "print (\"Analytical gradient:\", list(df(x)))\n",
    "print (f\"Autograd gradient:\", list(autograd(f)(x)))"
   ],
   "outputs": []
  },
  {
   "cell_type": "markdown",
   "id": "d7ce4ab1",
   "metadata": {},
   "source": [
    "Note, autograd needs its own numpy, `autograd.numpy`, to work. In PyWake, the `autograd` wrapper defined in `py_wake.utils.gradients`, handles this numpy replacement automatically. All it requires is to use `from py_wake import np` instead of the standard `import numpy as np`. This approach also allows an easy switch to single precision for faster simulation."
   ]
  },
  {
   "cell_type": "markdown",
   "id": "cc7e8ed0",
   "metadata": {},
   "source": [
    "**Common code changes**\n",
    "\n",
    "- `x[m] = 0` -> `x = np.where(m,0,x)`\n",
    "  - Item assignment not supported\n",
    "  "
   ]
  },
  {
   "cell_type": "markdown",
   "id": "e18c09b5",
   "metadata": {},
   "source": [
    "### Comparison - Scalability of example problem\n",
    "As seen in the examples, autograd computed the gradients with respect to all input elements in one smart (but slow) function evaluation, while finite difference and complex step required `n + 1` and `n` function evaluations, respectively.\n",
    "\n",
    "This difference has a high impact on the performance of large scale problems. The plot below shows the time required to compute the gradients as a function of the number of elements in the input vector. In this example the `fd`, `cs` and `autograd` functions from `py_wake.utils.gradients` is utilized."
   ]
  },
  {
   "cell_type": "markdown",
   "id": "69dd031e",
   "metadata": {},
   "source": [
    "    from py_wake.utils.gradients import fd, cs, autograd\n",
    "    from py_wake.tests.check_speed import timeit\n",
    "\n",
    "    n_lst = np.arange(1,3500,500)\n",
    "    x_lst = [np.random.random(n) for n in n_lst]\n",
    "\n",
    "    def get_gradients(method,x):\n",
    "        return method(f, vector_interdependence=True)(x)\n",
    "\n",
    "    for method in  [fd, cs, autograd]:\n",
    "        plt.plot(n_lst, [np.mean(timeit(get_gradients, min_time=.2)(method,x)[1]) for x in x_lst], label=method.__name__)\n",
    "    setup_plot(title='Time to compute gradients of f(x)', xlabel='Number of elements in x', ylabel='Time [s]')"
   ]
  },
  {
   "cell_type": "markdown",
   "id": "407d2c22",
   "metadata": {},
   "source": [
    "![image1.png](images/Optimization_gradient_methods.png)"
   ]
  },
  {
   "cell_type": "markdown",
   "id": "d8a0e437",
   "metadata": {},
   "source": [
    "### Gradients in PyWake\n",
    "\n",
    "As described above, PyWake, contains a module, `py_wake.utils.gradients` which defines the three methods, `fd`, `cs` and `autograd`, as well as a number of helper functions and constructs.\n",
    "\n",
    "With only a few exceptions, all PyWake models, turbines and sites support the three gradient methods.\n",
    "\n",
    "Unfortunately, autograd is not working very well with xarray, i.e. the normal xarray `SimulationResult` must be bypassed. This mean that you can compute gradients of the [AEP](#Gradients-of-AEP) or [WS, TI, Power and custom functions](#Gradients-of-WS,-TI,-Power-and-custom-functions) by setting the argument `return_simulationResult=False` when running the wind farm model:  `WindFarmModel(..., return_simulationResult=False)`.\n",
    "\n",
    "Below we show a simple example with the Hornsrev1 Site and turbines while using the ZongGaussian wake model."
   ]
  },
  {
   "cell_type": "code",
   "execution_count": 17,
   "id": "2fcd561f",
   "metadata": {},
   "source": [
    "import numpy as np\n",
    "import matplotlib.pyplot as plt\n",
    "\n",
    "from py_wake.examples.data.hornsrev1 import Hornsrev1Site, HornsrevV80\n",
    "from py_wake.utils.gradients import fd, cs, autograd\n",
    "from py_wake.utils.profiling import timeit\n",
    "from py_wake.utils.plotting import setup_plot\n",
    "from py_wake.literature.gaussian_models import Zong_PorteAgel_2020, Bastankhah_PorteAgel_2014\n",
    "from py_wake.deflection_models.jimenez import JimenezWakeDeflection\n",
    "from py_wake.turbulence_models.crespo import CrespoHernandez\n",
    "from py_wake.superposition_models import LinearSum\n",
    "from py_wake.utils.layouts import rectangle"
   ],
   "outputs": []
  },
  {
   "cell_type": "code",
   "execution_count": 18,
   "id": "1aa9df78",
   "metadata": {},
   "source": [
    "site = Hornsrev1Site()\n",
    "wt = HornsrevV80()\n",
    "wfm = Zong_PorteAgel_2020(site, wt, deflectionModel=JimenezWakeDeflection(), superpositionModel= LinearSum())"
   ],
   "outputs": []
  },
  {
   "cell_type": "code",
   "execution_count": 19,
   "id": "05202062",
   "metadata": {},
   "source": [
    "x,y = rectangle(3,3, wt.diameter()*5)\n",
    "wfm(x,y,wd=[270],ws=10, yaw=[20,-10,0], tilt=0).flow_map().plot_wake_map()"
   ],
   "outputs": []
  },
  {
   "cell_type": "markdown",
   "id": "08aa0f26",
   "metadata": {},
   "source": [
    "#### Gradients of AEP\n",
    "The gradients of the AEP can be computed by the `aep_gradients` method of `WindFarmModel` with respect to most of the input arguments. "
   ]
  },
  {
   "cell_type": "code",
   "execution_count": 20,
   "id": "b6c604b5",
   "metadata": {},
   "source": [
    "for wrt_arg in ['x','y',['x','y'],'h']:\n",
    "    daep = wfm.aep_gradients(gradient_method=autograd, wrt_arg=wrt_arg)(x=x,y=y, h=[69,70,71], yaw=[20,-10,1], tilt=0)\n",
    "    print (f\"Gradients of AEP wrt. {wrt_arg}\", daep)"
   ],
   "outputs": []
  },
  {
   "cell_type": "markdown",
   "id": "341ca41e",
   "metadata": {},
   "source": [
    "**AEP gradients with respect to (x,y) or (xy)**\n",
    "\n",
    "When computing gradients with autograd, a significant speed up (40-50%) can be obtained by computing the gradients with respect to both `x` and `y` in one go:\n",
    "\n",
    "```\n",
    "wfm.aep_gradients(gradient_method=autograd, wrt_arg=['x','y'])(x,y)\n",
    "```\n",
    "\n",
    "Instead of first computing with respect to `x` and then with respect to `y`,\n",
    "\n",
    "```\n",
    "wfm.aep_gradients(gradient_method=autograd, wrt_arg='x')(x,y)\n",
    "wfm.aep_gradients(gradient_method=autograd, wrt_arg='y')(x,y)\n",
    "```\n",
    "\n",
    "Functionality to do this automatically under the hood has been implemented in the autograd function.\n",
    "\n",
    "For finite difference and complex step, the speed is similar."
   ]
  },
  {
   "cell_type": "markdown",
   "id": "cc3d8958",
   "metadata": {},
   "source": [
    "    from tqdm.notebook import tqdm\n",
    "    wfm = BastankhahGaussian(site, wt)\n",
    "\n",
    "    def get_aep(wrt_arg_lst, method):\n",
    "        return lambda x,y: [wfm.aep_gradients(gradient_method=method, wrt_arg=wrt_arg)(x,y) for wrt_arg in wrt_arg_lst]\n",
    "\n",
    "    N_lst = np.arange(100,600,100) # number of wt\n",
    "    D = wt.diameter()\n",
    "    method=autograd\n",
    "    res = [(wrt_arg_lst,method, [np.mean(timeit(get_aep(wrt_arg_lst, method=method), min_runs=1)(*rectangle(N,5,D*5))[1]) \n",
    "                                 for N in tqdm(N_lst)])\n",
    "           for wrt_arg_lst in (['x','y'],[['x','y']])]\n",
    "\n",
    "    ax1,ax2 = plt.subplots(1,2, figsize=(12,4))[1]\n",
    "    ax1.plot(N_lst, res[0][2], label=f\"Wrt. (x), (y), {res[0][1].__name__}\")[0].get_color()\n",
    "    ax1.plot(N_lst, res[1][2], label=f\"Wrt. (x, y), {res[1][1].__name__}\")\n",
    "    ax2.plot(N_lst, (np.array(res[0][2]) - res[1][2])/res[0][2]*100)\n",
    "\n",
    "    setup_plot(ax=ax1, title='Time to compute AEP gradients', ylabel='Time [s]', xlabel='Number of wind turbines')\n",
    "    setup_plot(ax=ax2, title=\"Speedup of (xy) compared to (x,y)\", ylabel='Speedup [%]', xlabel='Number of wind turbines', ylim=[0,60])"
   ]
  },
  {
   "cell_type": "markdown",
   "id": "dc244d14",
   "metadata": {},
   "source": [
    "![image2.png](images/Optimization_xy.svg)"
   ]
  },
  {
   "cell_type": "markdown",
   "id": "a68caa07",
   "metadata": {},
   "source": [
    "**Gradients of WS, TI, Power and custom functions**\n",
    "\n",
    "The normal `WindFarmModel.__call__` method, which is invoked by `wfm(x,y,...)` returns a xarray Dataset SimulationResult. This step breaks the autograd data flow. We therefore need to specify the argument `return_simulationResult=False`.\n",
    "\n",
    "The relevant output is:\n",
    "\n",
    "    WS_eff_ilk, TI_eff_ilk, power_ilk, ct_ilk, *_ = WindFarmModel(..., return_simulationResult=False)\n",
    "\n",
    "**Below are a two basic examples**"
   ]
  },
  {
   "cell_type": "markdown",
   "id": "739818e1",
   "metadata": {},
   "source": [
    "**1) Mean power wrt (x,y) - 2 x 1D inputs, one output**\n",
    "\n",
    "Compute the gradients of the mean power with respect to both x and y.\n",
    "\n",
    "Note, there is no need to convert it to a one-merged-input function, as the autograd method in PyWake does this under the hood"
   ]
  },
  {
   "cell_type": "code",
   "execution_count": null,
   "id": "563ed183",
   "metadata": {},
   "source": [
    "def mean_power(x,y):\n",
    "    power_ilk = wfm(x=x, y=y, yaw=0, tilt=0, return_simulationResult=False)[2] # index 2 = power_ilk\n",
    "    return power_ilk.mean()\n",
    "\n",
    "mean_power_gradients_function = autograd(mean_power,vector_interdependence=True, argnum=[0,1])\n",
    "d_aep = mean_power_gradients_function(x, y)\n",
    "\n",
    "print ('AEP Gradients:',d_aep)\n",
    "print (np.shape(d_aep))"
   ],
   "outputs": []
  },
  {
   "cell_type": "markdown",
   "id": "24a8ca98",
   "metadata": {},
   "source": [
    "**2) Power per wind speed wrt. x - 1D input, 1D output**\n",
    "\n",
    "Compute the gradients of the power per wind speed (i.e. power meaned over wind turbine and direction) with respect to x."
   ]
  },
  {
   "cell_type": "code",
   "execution_count": null,
   "id": "c43dd8e6",
   "metadata": {},
   "source": [
    "def ws_power(x):\n",
    "    power_ilk = wfm(x=x, y=y, yaw=0, tilt=0, return_simulationResult=False)[2] # index 2 = power_ilk\n",
    "    return power_ilk.mean((0,1)) # mean power pr wind speed\n",
    "\n",
    "ws_power_gradients_function = autograd(ws_power,vector_interdependence=True)\n",
    "np.shape(ws_power_gradients_function(x))"
   ],
   "outputs": []
  },
  {
   "cell_type": "markdown",
   "id": "4c8de853",
   "metadata": {},
   "source": [
    "**Manual gradient functions for autograd**\n",
    "\n",
    "Autograd can be supplemented with custom gradient functions, that bypass the automatic differentiation process and returns the gradients directly.\n",
    "This is usefull for functions that cannot be analytically differentiated by autograd, e.g. interpolation functions. Some commonly used functions have been implemented in `py_wake.utils.gradients`, e.g.\n",
    "\n",
    "- trapz (np.trapz)\n",
    "- interp (np.interp)\n",
    "- PchipInterpolator (scipy.PchipInterpolator)\n",
    "- UnivariateSpline (scipy.UnivariateSpline)\n",
    "\n",
    "\n",
    "Specifying the gradient functions and ensuring that they return the gradients in the right dimensions is, however, not trivial. \n",
    "\n",
    "It was expected that the computational time could be reduced by specifying maually-implemented gradient functions of some time-critical functions. An example is shown below, where functions to calculate the gradients of `calc_deficit` of the `BastankhahGaussianDeficit` with respect to all inputs are implemented."
   ]
  },
  {
   "cell_type": "code",
   "execution_count": null,
   "id": "90122db9",
   "metadata": {},
   "source": [
    "from py_wake.deficit_models.gaussian import BastankhahGaussianDeficit\n",
    "from py_wake.utils.gradients import set_vjp\n",
    "from py_wake.utils.model_utils import method_args\n",
    "import warnings\n",
    "\n",
    "class BastankhahGaussianDeficitGradients(BastankhahGaussianDeficit):\n",
    "    def __init__(self, k=0.0324555, ceps=.2, use_effective_ws=False):\n",
    "        BastankhahGaussianDeficit.__init__(self, k=k, ceps=ceps, use_effective_ws=use_effective_ws)\n",
    "        self._additional_args = method_args(self.calc_deficit)\n",
    "        self.use_effective_ws = use_effective_ws\n",
    "        self.calc_deficit = set_vjp([self.get_ddeficit_dx(i) for i in range(6)])(self.calc_deficit)\n",
    "\n",
    "    @property\n",
    "    def additional_args(self):\n",
    "        return BastankhahGaussianDeficit.additional_args.fget(self) | self._additional_args\n",
    "\n",
    "    def calc_deficit(self, WS_ilk, WS_eff_ilk, D_src_il, dw_ijlk, cw_ijlk, ct_ilk, **kwargs):\n",
    "        return BastankhahGaussianDeficit.calc_deficit(self, D_src_il, dw_ijlk, cw_ijlk, ct_ilk,\n",
    "                                                      WS_ilk=WS_ilk, WS_eff_ilk=WS_eff_ilk, **kwargs)\n",
    "\n",
    "    def get_ddeficit_dx(self, argnum):\n",
    "        import numpy as np  # override autograd.numpy\n",
    "        from numpy import newaxis as na\n",
    "\n",
    "        def ddeficit_dx(ans, WS_ilk, WS_eff_ilk, D_src_il, dw_ijlk, cw_ijlk, ct_ilk, **kwargs):\n",
    "            _, _, _, K = np.max([dw_ijlk.shape, cw_ijlk.shape, WS_ilk[:, na].shape], 0)\n",
    "            eps = 0\n",
    "            WS_ref_ilk = (WS_ilk, WS_eff_ilk)[self.use_effective_ws]\n",
    "            ky_ilk = self.k_ilk(**kwargs)\n",
    "            beta_ilk = 0.5 * (1 + 1 / np.sqrt(1 - ct_ilk))\n",
    "            sigma_ijlk = ky_ilk[:, na] * dw_ijlk * (dw_ijlk > eps) + \\\n",
    "                .2 * D_src_il[:, na, :, na] * np.sqrt(beta_ilk[:, na])\n",
    "            a_ijlk = ct_ilk[:, na] / (8. * (sigma_ijlk / D_src_il[:, na, :, na])**2)\n",
    "            sqrt_ijlk = np.sqrt(np.maximum(0., 1 - a_ijlk))\n",
    "            layout_factor_ijlk = WS_ref_ilk[:, na] * (dw_ijlk > eps) * np.exp(-0.5 * (cw_ijlk / sigma_ijlk)**2)\n",
    "            with warnings.catch_warnings():\n",
    "                warnings.simplefilter(\"ignore\")\n",
    "                if argnum == 0:\n",
    "                    dWS = ans / WS_ref_ilk[:, na]\n",
    "                elif argnum == 1:\n",
    "                    dWS_eff = ans / WS_eff_ilk[:, na]\n",
    "                elif argnum == 2:\n",
    "                    dD_sqrt_pos = (a_ijlk * (1 / D_src_il[:, na, :, na] - 0.2 * np.sqrt(beta_ilk[:, na]) / sigma_ijlk) / sqrt_ijlk +\n",
    "                                   (1 - sqrt_ijlk) * (cw_ijlk**2 / sigma_ijlk**3) * .2 * np.sqrt(beta_ilk[:, na])) * layout_factor_ijlk\n",
    "                    dD_sqrt_neg = (cw_ijlk**2 / sigma_ijlk**3) * .2 * np.sqrt(beta_ilk[:, na]) * layout_factor_ijlk\n",
    "                    dD = np.where(sqrt_ijlk == 0, dD_sqrt_neg, dD_sqrt_pos)\n",
    "                elif argnum == 3:\n",
    "                    ddw_sqrt_pos = (-a_ijlk / sqrt_ijlk + (1 - sqrt_ijlk) * (cw_ijlk / sigma_ijlk)**2) * \\\n",
    "                        ky_ilk[:, na] / sigma_ijlk * layout_factor_ijlk\n",
    "                    ddw_sqrt_neg = (cw_ijlk / sigma_ijlk)**2 * ky_ilk[:, na] / sigma_ijlk * layout_factor_ijlk\n",
    "                    ddw = np.where(sqrt_ijlk == 0, ddw_sqrt_neg, ddw_sqrt_pos)\n",
    "                elif argnum == 4:\n",
    "                    dcw = ans * (- cw_ijlk / (sigma_ijlk**2))\n",
    "                elif argnum == 5:\n",
    "                    dsigmadct_ilk = 0.2 * D_src_il[:, :, na] / (8 * np.sqrt(beta_ilk * (1 - ct_ilk)**3))\n",
    "                    dct_sqrt_pos = (a_ijlk * (1 / (2 * ct_ilk[:, na]) - dsigmadct_ilk[:, na] / sigma_ijlk) / sqrt_ijlk +\n",
    "                                    (1 - sqrt_ijlk) * (cw_ijlk**2 / sigma_ijlk**3) * dsigmadct_ilk[:, na]) * layout_factor_ijlk\n",
    "                    dct_sqrt_neg = (cw_ijlk**2 / sigma_ijlk**3) * dsigmadct_ilk[:, na] * layout_factor_ijlk\n",
    "                    dct = np.where(sqrt_ijlk == 0, dct_sqrt_neg, dct_sqrt_pos)\n",
    "\n",
    "            def dWS_ilk(g):\n",
    "                r = g * dWS[:g.shape[0], :g.shape[1], :g.shape[2], :g.shape[3]]\n",
    "                j = np.r_[np.where(g)[1], 0][0]\n",
    "                ilk = (slice(None), j)\n",
    "                return r[ilk]\n",
    "\n",
    "            def dWS_eff_ilk(g):\n",
    "                r = g * dWS_eff[:g.shape[0], :g.shape[1], :g.shape[2], :g.shape[3]]\n",
    "                j = np.r_[np.where(g)[1], 0][0]\n",
    "                ilk = (slice(None), j)\n",
    "                return r[ilk]\n",
    "\n",
    "            def dD_src_il(g):\n",
    "                r = g * dD[:g.shape[0], :g.shape[1], :g.shape[2], :g.shape[3]]\n",
    "                j = np.r_[np.where(g)[1], 0][0]\n",
    "                k = np.r_[np.where(g)[3], 0][0]\n",
    "                il = (slice(None), j, slice(None), k)\n",
    "                return r[il]\n",
    "\n",
    "            def ddw_ijlk(g):\n",
    "                r = g * ddw[:g.shape[0], :g.shape[1], :g.shape[2], :g.shape[3]]\n",
    "                if dw_ijlk.shape[-1] == 1 and K > 1:\n",
    "                    # If dw_ijlk is independent of ws, i.e. last dimension is 1 while len(ws)>1\n",
    "                    # then we need to sum the gradients wrt. wind speeds\n",
    "                    r = r.sum(3)[:, :, :, na]\n",
    "                return r[:, :, :, 0:dw_ijlk.shape[3]]\n",
    "\n",
    "            def dcw_ijlk(g):\n",
    "                r = g * dcw[:g.shape[0], :g.shape[1], :g.shape[2], :g.shape[3]]\n",
    "                if cw_ijlk.shape[-1] == 1 and K > 1:\n",
    "                    # If cw_ijlk is independent of ws, i.e. last dimension is 1 while len(ws)>1\n",
    "                    # then we need to sum the gradients wrt. wind speeds\n",
    "                    r = r.sum(3)[:, :, :, na]\n",
    "                return r[:, :, :, 0:cw_ijlk.shape[3]]\n",
    "\n",
    "            def dct_ilk(g):\n",
    "                r = g * dct[:g.shape[0], :g.shape[1], :g.shape[2], :g.shape[3]]\n",
    "                j = np.r_[np.where(g)[1], 0][0]\n",
    "                ilk = (slice(None), j)\n",
    "                return r[ilk]\n",
    "\n",
    "            return [dWS_ilk, dWS_eff_ilk, dD_src_il, ddw_ijlk, dcw_ijlk, dct_ilk][argnum]\n",
    "        return ddeficit_dx\n"
   ],
   "outputs": []
  },
  {
   "cell_type": "markdown",
   "id": "b3e2220c",
   "metadata": {},
   "source": [
    "In this example, however, the model with manual gradient functions performs worse than the original where autograd derives the gradient functions automatically."
   ]
  },
  {
   "cell_type": "code",
   "execution_count": null,
   "id": "c3c84e8a",
   "metadata": {},
   "source": [
    "from py_wake.wind_farm_models import PropagateDownwind\n",
    "from py_wake.examples.data.hornsrev1 import wt16_x, wt16_y\n",
    "\n",
    "wfm_autograd = PropagateDownwind(site, wt, BastankhahGaussianDeficit())\n",
    "wfm_manual = PropagateDownwind(site, wt, BastankhahGaussianDeficitGradients())\n",
    "\n",
    "ws = np.arange(4,26)\n",
    "x,y = wt16_x, wt16_y\n",
    "ref, t_auto = timeit(lambda: wfm_autograd.aep_gradients(gradient_method=autograd, wrt_arg=['x','y'])(x, y, ws=ws))()\n",
    "res, t_manual = timeit(lambda: wfm_manual.aep_gradients(gradient_method=autograd, wrt_arg=['x','y'])(x, y, ws=ws))()\n",
    "np.testing.assert_array_almost_equal(res, ref, 4)\n",
    "\n",
    "print (\"Time, automatic gradients\", np.mean(t_auto))\n",
    "print (\"Time, manual gradients\", np.mean(t_manual))"
   ],
   "outputs": []
  },
  {
   "cell_type": "markdown",
   "id": "ec141aea",
   "metadata": {},
   "source": [
    "### Comparison - Scalability of AEP gradients\n",
    "\n",
    "As seen in the previous comparison of scalability example, the autograd scales much better with the number of input variables than finite difference and complex step. \n",
    "\n",
    "When considering large wind farms, autograd is convincingly outperforming both finite difference and complex step, but it also requires much more memory.\n",
    "\n",
    "**The following plots are based on simulation performance on the Sophia HPC cluster.**"
   ]
  },
  {
   "cell_type": "code",
   "execution_count": null,
   "id": "12100684",
   "metadata": {},
   "source": [
    "data = {\n",
    "    \"fd\":((10, 20, 30, 40, 50, 60, 70, 80, 90, 100, 150,200, 250, 300),\n",
    "          [0.89, 3.06, 7.13, 14.77, 24.46, 41.06, 64.46, 105.98, 140.76, 171.53, 590.46, 1501.62, 2957.65, 4904.31],\n",
    "          [14.1, 31.9, 58.8, 92.2, 135.3, 184.2, 240.6, 303.1, 373.6, 450.7, 946.5, 1620.8, 2470.1, 3500.5]),   \n",
    "\"cs\":((10, 20, 30, 40, 50, 60, 70, 80, 90, 100, 150, 200, 250),\n",
    "      [1.18, 4.9, 12.44, 25.58, 44.56, 72.82, 115.46, 171.42, 245.15, 312.9, 960.64, 2883.04, 5345.27],\n",
    "      [22.3, 55.7, 107.6, 171.0, 244.1, 338.7, 442.7, 566.9, 690.9, 839.0, 1787.4, 3088.9, 4742.4]),\n",
    "\"autograd\":((10, 20, 30, 40, 50, 60, 70, 80, 90, 100, 150, 200, 250, 300, 350, 400, 450, 500),\n",
    "            [0.32, 0.78, 1.52, 2.49, 3.75, 5.33, 7.14, 9.12, 11.43, 14.02, 32.35, 53.73, 84.94, 130.53, 169.34, 229.62, 270.19, 342.01],\n",
    "            [26.7, 92.9, 196.4, 340.0, 525.9, 749.6, 1011.1, 1312.2, 1656.0, 2039.7, 4555.0, 8066.8, 12569.9, 18072.6, 24568.2, 32069.6, 40558.9, 50036.6]),\n",
    "       }\n",
    "ax1,ax2 = plt.subplots(1,2, figsize=(12,4))[1]\n",
    "for k,(n,t,m) in data.items():\n",
    "    ax1.plot(n,np.array(t)/60, label=k)\n",
    "    ax2.plot(n,np.array(m)/1024, label=k)\n",
    "setup_plot(ax1, xlabel='Number of wind turbines', ylabel='Time [min]')\n",
    "setup_plot(ax2, xlabel='Number of wind turbines', ylabel='Memory usage [GB]')\n",
    "plt.savefig('test.png', dpi=600)\n",
    "import os\n",
    "os.getcwd()"
   ],
   "outputs": []
  },
  {
   "cell_type": "markdown",
   "id": "d087399e",
   "metadata": {},
   "source": [
    "## Chunkify and Parallelization\n",
    "\n",
    "PyWake makes it easy to chunkify the run wind farm simulations see also section [Run Wind Farm Simulation](https://topfarm.pages.windenergy.dtu.dk/PyWake/notebooks/RunWindFarmSimulation.html).\n",
    "\n",
    "This construct is also available and usefull when computing gradients to reduce the memory usage and/or speed up the computation by parallel execution.\n",
    "\n",
    "The arguments, `wd_chunks`, `ws_chunks` and `n_cpu` are available in the `WindFarmModel.aep(...)`, `WindFarmModel(...)` and `WindFarmModel.aep_gradients(...)` methods.\n"
   ]
  },
  {
   "cell_type": "code",
   "execution_count": null,
   "id": "da77d44a",
   "metadata": {},
   "source": [
    "from py_wake import np\n",
    "import matplotlib.pyplot as plt\n",
    "\n",
    "from py_wake.literature.noj import Jensen_1983\n",
    "from py_wake.examples.data.hornsrev1 import Hornsrev1Site, HornsrevV80, wt_x, wt_y, wt16_x, wt16_y\n",
    "from py_wake.utils.profiling import timeit\n",
    "import multiprocessing\n",
    "from py_wake.utils.gradients import autograd, fd\n",
    "from py_wake.utils.plotting import setup_plot"
   ],
   "outputs": []
  },
  {
   "cell_type": "code",
   "execution_count": null,
   "id": "e20ff75b",
   "metadata": {},
   "source": [
    "site = Hornsrev1Site()\n",
    "wt = HornsrevV80()\n",
    "wfm = Jensen_1983(site, wt)\n",
    "x,y = wt16_x,wt16_y"
   ],
   "outputs": []
  },
  {
   "cell_type": "markdown",
   "id": "d52b3a61",
   "metadata": {},
   "source": [
    "### AEP\n",
    "\n",
    "Computing AEP in parallel chunks.\n",
    "\n",
    "Setting `n_cpu=None`, splits the problem into `N` wind direction chunks which is computed in parallel on `N` CPUs, where `N` is the number of CPUs on the machine. Alternatively, a number can be specified."
   ]
  },
  {
   "cell_type": "code",
   "execution_count": null,
   "id": "1f8af440",
   "metadata": {},
   "source": [
    "print('Total AEP: %f GWh'%wfm.aep(x, y, n_cpu=None))"
   ],
   "outputs": []
  },
  {
   "cell_type": "markdown",
   "id": "1679a383",
   "metadata": {},
   "source": [
    "### WS, TI, Power and custom functions\n",
    "\n",
    "Computing mean power in parallel chunks"
   ]
  },
  {
   "cell_type": "code",
   "execution_count": null,
   "id": "52e571fa",
   "metadata": {},
   "source": [
    "def mean_power(x,y):\n",
    "    power_ilk = wfm(x=x, y=y, n_cpu=None, return_simulationResult=False)[2] # index 2 = power_ilk\n",
    "    return power_ilk.mean()\n",
    "\n",
    "print('Mean Power: %f MW'%(mean_power(x,y)/1e6))"
   ],
   "outputs": []
  },
  {
   "cell_type": "markdown",
   "id": "6d97c071",
   "metadata": {},
   "source": [
    "### AEP gradients\n",
    "\n",
    "In the previous section, [Gradients of AEP](#Gradients-of-AEP), the `aep_gradients` method was used like this:"
   ]
  },
  {
   "cell_type": "markdown",
   "id": "e8794831",
   "metadata": {},
   "source": [
    "```python\n",
    "gradient_function = wfm.aep_gradients(fd, wrt_arg='xy')\n",
    "daep = gradient_function(x=x,y=y)\n",
    "```"
   ]
  },
  {
   "cell_type": "markdown",
   "id": "efe73a0a",
   "metadata": {},
   "source": [
    "When dealing with chunkification and/or parallelization, the `aep_gradients` must be used in a slightly different way:"
   ]
  },
  {
   "cell_type": "code",
   "execution_count": null,
   "id": "5c5c8367",
   "metadata": {},
   "source": [
    "daep = wfm.aep_gradients(autograd, wrt_arg=['x','y'], n_cpu=None, x=x, y=y)"
   ],
   "outputs": []
  },
  {
   "cell_type": "markdown",
   "id": "14d7dc9c",
   "metadata": {},
   "source": [
    "Note, in this case, the arguments normally passed to `wfm.aep` (here `x` and `y`) are passed directly to the `wfm.aep_gradients` method as keyword arguments and the method returns the gradients results instead of a function."
   ]
  },
  {
   "cell_type": "markdown",
   "id": "f29410f7",
   "metadata": {},
   "source": [
    "**The plot below shows the time it takes to compute the gradients of AEP with respect to x and y plotted as a function of number of wind turbines and CPUs**"
   ]
  },
  {
   "cell_type": "markdown",
   "id": "23fb8d0f",
   "metadata": {},
   "source": [
    "    from py_wake.utils import layouts \n",
    "    from py_wake.utils.profiling import timeit\n",
    "    from tqdm.notebook import tqdm\n",
    "\n",
    "    n_lst = np.arange(100,600,100)\n",
    "\n",
    "    def run(n, n_cpu):\n",
    "        x,y = layouts.rectangle(n,20,5*wt.diameter())\n",
    "        return (n, n_cpu, np.mean(timeit(wfm.aep_gradients)(autograd, ['x','y'], n_cpu=n_cpu, x=x,y=y)[1]))\n",
    "\n",
    "    res = {f'{n_cpu} CPUs': np.array([run(n, n_cpu=n_cpu) for n in tqdm(n_lst)]) for n_cpu in [1, 4, 16, 32]}\n",
    "\n",
    "    ax1,ax2 = plt.subplots(1,2, figsize=(12,4))[1]\n",
    "    for k,v in res.items():\n",
    "        n,n_cpu,t = v.T\n",
    "        ax1.plot(n, t, label=k)\n",
    "        ax2.plot(n, res['1 CPUs'][:,2]/n_cpu/t*100, label=k)\n",
    "    setup_plot(ax=ax1,xlabel='No. wind turbines',ylabel='Time [s]')\n",
    "    setup_plot(ax=ax2,xlabel='No. wind turbines',ylabel='CPU utilization [%]')\n",
    "    plt.savefig('images/Optimization_time_cpuwt.svg')"
   ]
  },
  {
   "attachments": {
    "Optimization_time_cpuwt.svg": {
     "image/svg+xml": [
      "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"
     ]
    }
   },
   "cell_type": "markdown",
   "id": "463da0c9",
   "metadata": {},
   "source": [
    "**Result precomputed on the Sophia HPC cluster on a node with 32 CPUs.**\n",
    "\n",
    "![Optimization_time_cpuwt.svg](attachment:Optimization_time_cpuwt.svg)"
   ]
  },
  {
   "cell_type": "markdown",
   "id": "855f1c55",
   "metadata": {},
   "source": [
    "**Parallelization of gradients of WS, TI, Power and custom functions is not implemented yet**"
   ]
  },
  {
   "cell_type": "markdown",
   "id": "d9f08646",
   "metadata": {},
   "source": [
    "## Precision\n",
    "\n",
    "**As default, PyWake simulates in double precision, i.e. 64 bit floating point values.**\n",
    "\n",
    "In some cases, however, single precision, i.e. 32 bit floating point values, may be sufficient and faster. \n",
    "\n",
    "In PyWake, the `Numpy32` context manager makes switching to single precition is very easy:"
   ]
  },
  {
   "cell_type": "code",
   "execution_count": null,
   "id": "daeab853",
   "metadata": {},
   "source": [
    "from py_wake.utils.numpy_utils import Numpy32\n",
    "\n",
    "with Numpy32():\n",
    "    print (np.array([1.,2,3]).dtype)\n",
    "    print (np.sin([1,2,3]).dtype)"
   ],
   "outputs": []
  },
  {
   "cell_type": "code",
   "execution_count": null,
   "id": "0981f988",
   "metadata": {},
   "source": [
    "# same with out context manager\n",
    "print (np.array([1.,2,3]).dtype)\n",
    "print (np.sin([1,2,3]).dtype)"
   ],
   "outputs": []
  },
  {
   "cell_type": "markdown",
   "id": "152e64d3",
   "metadata": {},
   "source": [
    "    from py_wake.utils import layouts \n",
    "    from py_wake.utils.profiling import timeit\n",
    "    from tqdm.notebook import tqdm\n",
    "\n",
    "    n_lst = np.arange(50,550,50)\n",
    "    xy_lst = [layouts.rectangle(n,20,5*wt.diameter()) for n in n_lst]\n",
    "\n",
    "    t_lst_64 = [np.mean(timeit(wfm.aep, min_runs=10)(x,y)[1]) for x,y in tqdm(xy_lst)]\n",
    "\n",
    "    with Numpy32():\n",
    "        t_lst_32 = [np.mean(timeit(wfm.aep, min_runs=10)(x,y)[1]) for x,y in tqdm(xy_lst)]\n",
    "\n",
    "    ax1, ax2 = plt.subplots(1,2,figsize=(12,4))[1]\n",
    "    ax1.plot(n_lst, t_lst_64, label='Double precision')\n",
    "    ax1.plot(n_lst, t_lst_32, label='Single precision')\n",
    "    setup_plot(ax=ax1, ylabel='Time [s]',xlabel='No. wind turbines')\n",
    "    ax2.plot(n_lst, np.array(t_lst_64) / t_lst_32)\n",
    "    setup_plot(ax=ax2, ylabel='Speedup',xlabel='No. wind turbines')\n",
    "    plt.savefig('images/Optimization_precision.svg')"
   ]
  },
  {
   "cell_type": "markdown",
   "id": "c036a80c",
   "metadata": {},
   "source": [
    "**Result precomputed on the Sophia HPC cluster.**\n",
    "\n",
    "![image1.png](images/Optimization_precision.svg)"
   ]
  }
 ],
 "metadata": {
  "kernelspec": {
   "display_name": "Python 3 (ipykernel)",
   "language": "python",
   "name": "python3"
  },
  "language_info": {
   "codemirror_mode": {
    "name": "ipython",
    "version": 3
   },
   "file_extension": ".py",
   "mimetype": "text/x-python",
   "name": "python",
   "nbconvert_exporter": "python",
   "pygments_lexer": "ipython3",
   "version": "3.9.13"
  },
  "toc": {
   "base_numbering": 1,
   "nav_menu": {},
   "number_sections": true,
   "sideBar": true,
   "skip_h1_title": false,
   "title_cell": "Table of Contents",
   "title_sidebar": "Contents",
   "toc_cell": false,
   "toc_position": {
    "height": "calc(100% - 180px)",
    "left": "10px",
    "top": "150px",
    "width": "426.667px"
   },
   "toc_section_display": true,
   "toc_window_display": true
  }
 },
 "nbformat": 4,
 "nbformat_minor": 5
}
